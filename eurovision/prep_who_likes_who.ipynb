{
 "cells": [
  {
   "cell_type": "code",
   "execution_count": 1,
   "metadata": {},
   "outputs": [],
   "source": [
    "import pandas as pd\n",
    "import matplotlib.pyplot as plt\n",
    "import pickle"
   ]
  },
  {
   "cell_type": "code",
   "execution_count": 2,
   "metadata": {},
   "outputs": [],
   "source": [
    "with open('../data/country_codes_dict.pickle', 'rb') as f:\n",
    "    codes = pickle.load(f)"
   ]
  },
  {
   "cell_type": "code",
   "execution_count": 3,
   "metadata": {},
   "outputs": [],
   "source": [
    "df = pd.read_csv('../data/eurovision_merged_covariates_27Jan.csv')"
   ]
  },
  {
   "cell_type": "code",
   "execution_count": 4,
   "metadata": {},
   "outputs": [],
   "source": [
    "# reverse the dictionary\n",
    "codes = {v: k for k, v in codes.items()}"
   ]
  },
  {
   "cell_type": "code",
   "execution_count": 5,
   "metadata": {},
   "outputs": [],
   "source": [
    "# variable names to lowercase and _ instead of spaces\n",
    "df.columns = df.columns.str.lower().str.replace(' ', '_')\n",
    "# add countries to codes in df with codes df\n",
    "df['from_country_name'] = df['from_country'].map(codes)\n",
    "df['country_name'] = df['country'].map(codes)"
   ]
  },
  {
   "cell_type": "code",
   "execution_count": 6,
   "metadata": {},
   "outputs": [
    {
     "data": {
      "text/html": [
       "<div>\n",
       "<style scoped>\n",
       "    .dataframe tbody tr th:only-of-type {\n",
       "        vertical-align: middle;\n",
       "    }\n",
       "\n",
       "    .dataframe tbody tr th {\n",
       "        vertical-align: top;\n",
       "    }\n",
       "\n",
       "    .dataframe thead th {\n",
       "        text-align: right;\n",
       "    }\n",
       "</style>\n",
       "<table border=\"1\" class=\"dataframe\">\n",
       "  <thead>\n",
       "    <tr style=\"text-align: right;\">\n",
       "      <th></th>\n",
       "      <th>unnamed:_0</th>\n",
       "      <th>year</th>\n",
       "      <th>from_country</th>\n",
       "      <th>votes</th>\n",
       "      <th>country</th>\n",
       "      <th>own</th>\n",
       "      <th>english</th>\n",
       "      <th>other</th>\n",
       "      <th>has_border</th>\n",
       "      <th>from_country_name</th>\n",
       "      <th>country_name</th>\n",
       "    </tr>\n",
       "  </thead>\n",
       "  <tbody>\n",
       "    <tr>\n",
       "      <th>0</th>\n",
       "      <td>3</td>\n",
       "      <td>1999</td>\n",
       "      <td>AT</td>\n",
       "      <td>0.0</td>\n",
       "      <td>AT</td>\n",
       "      <td>0.0</td>\n",
       "      <td>1.0</td>\n",
       "      <td>0.0</td>\n",
       "      <td>NaN</td>\n",
       "      <td>austria</td>\n",
       "      <td>austria</td>\n",
       "    </tr>\n",
       "    <tr>\n",
       "      <th>1</th>\n",
       "      <td>6</td>\n",
       "      <td>1999</td>\n",
       "      <td>AT</td>\n",
       "      <td>12.0</td>\n",
       "      <td>BA</td>\n",
       "      <td>0.0</td>\n",
       "      <td>0.0</td>\n",
       "      <td>1.0</td>\n",
       "      <td>NaN</td>\n",
       "      <td>austria</td>\n",
       "      <td>bosnia and herzegovina</td>\n",
       "    </tr>\n",
       "    <tr>\n",
       "      <th>2</th>\n",
       "      <td>7</td>\n",
       "      <td>1999</td>\n",
       "      <td>AT</td>\n",
       "      <td>0.0</td>\n",
       "      <td>BE</td>\n",
       "      <td>0.0</td>\n",
       "      <td>1.0</td>\n",
       "      <td>0.0</td>\n",
       "      <td>NaN</td>\n",
       "      <td>austria</td>\n",
       "      <td>belgium</td>\n",
       "    </tr>\n",
       "    <tr>\n",
       "      <th>3</th>\n",
       "      <td>11</td>\n",
       "      <td>1999</td>\n",
       "      <td>AT</td>\n",
       "      <td>0.0</td>\n",
       "      <td>CY</td>\n",
       "      <td>1.0</td>\n",
       "      <td>0.0</td>\n",
       "      <td>0.0</td>\n",
       "      <td>NaN</td>\n",
       "      <td>austria</td>\n",
       "      <td>cyprus</td>\n",
       "    </tr>\n",
       "    <tr>\n",
       "      <th>4</th>\n",
       "      <td>13</td>\n",
       "      <td>1999</td>\n",
       "      <td>AT</td>\n",
       "      <td>10.0</td>\n",
       "      <td>DE</td>\n",
       "      <td>0.0</td>\n",
       "      <td>0.0</td>\n",
       "      <td>1.0</td>\n",
       "      <td>1.0</td>\n",
       "      <td>austria</td>\n",
       "      <td>germany</td>\n",
       "    </tr>\n",
       "    <tr>\n",
       "      <th>...</th>\n",
       "      <td>...</td>\n",
       "      <td>...</td>\n",
       "      <td>...</td>\n",
       "      <td>...</td>\n",
       "      <td>...</td>\n",
       "      <td>...</td>\n",
       "      <td>...</td>\n",
       "      <td>...</td>\n",
       "      <td>...</td>\n",
       "      <td>...</td>\n",
       "      <td>...</td>\n",
       "    </tr>\n",
       "    <tr>\n",
       "      <th>19214</th>\n",
       "      <td>37619</td>\n",
       "      <td>2019</td>\n",
       "      <td>SM</td>\n",
       "      <td>1.0</td>\n",
       "      <td>NO</td>\n",
       "      <td>0.0</td>\n",
       "      <td>0.0</td>\n",
       "      <td>1.0</td>\n",
       "      <td>NaN</td>\n",
       "      <td>san marino</td>\n",
       "      <td>norway</td>\n",
       "    </tr>\n",
       "    <tr>\n",
       "      <th>19215</th>\n",
       "      <td>37623</td>\n",
       "      <td>2019</td>\n",
       "      <td>SM</td>\n",
       "      <td>0.0</td>\n",
       "      <td>RS</td>\n",
       "      <td>0.0</td>\n",
       "      <td>0.0</td>\n",
       "      <td>1.0</td>\n",
       "      <td>NaN</td>\n",
       "      <td>san marino</td>\n",
       "      <td>serbia</td>\n",
       "    </tr>\n",
       "    <tr>\n",
       "      <th>19216</th>\n",
       "      <td>37624</td>\n",
       "      <td>2019</td>\n",
       "      <td>SM</td>\n",
       "      <td>12.0</td>\n",
       "      <td>RU</td>\n",
       "      <td>0.0</td>\n",
       "      <td>1.0</td>\n",
       "      <td>0.0</td>\n",
       "      <td>NaN</td>\n",
       "      <td>san marino</td>\n",
       "      <td>russia</td>\n",
       "    </tr>\n",
       "    <tr>\n",
       "      <th>19217</th>\n",
       "      <td>37625</td>\n",
       "      <td>2019</td>\n",
       "      <td>SM</td>\n",
       "      <td>0.0</td>\n",
       "      <td>SE</td>\n",
       "      <td>0.0</td>\n",
       "      <td>1.0</td>\n",
       "      <td>0.0</td>\n",
       "      <td>NaN</td>\n",
       "      <td>san marino</td>\n",
       "      <td>sweden</td>\n",
       "    </tr>\n",
       "    <tr>\n",
       "      <th>19218</th>\n",
       "      <td>37626</td>\n",
       "      <td>2019</td>\n",
       "      <td>SM</td>\n",
       "      <td>0.0</td>\n",
       "      <td>SI</td>\n",
       "      <td>1.0</td>\n",
       "      <td>0.0</td>\n",
       "      <td>0.0</td>\n",
       "      <td>NaN</td>\n",
       "      <td>san marino</td>\n",
       "      <td>slovenia</td>\n",
       "    </tr>\n",
       "  </tbody>\n",
       "</table>\n",
       "<p>18991 rows × 11 columns</p>\n",
       "</div>"
      ],
      "text/plain": [
       "       unnamed:_0  year from_country  votes country  own  english  other  \\\n",
       "0               3  1999           AT    0.0      AT  0.0      1.0    0.0   \n",
       "1               6  1999           AT   12.0      BA  0.0      0.0    1.0   \n",
       "2               7  1999           AT    0.0      BE  0.0      1.0    0.0   \n",
       "3              11  1999           AT    0.0      CY  1.0      0.0    0.0   \n",
       "4              13  1999           AT   10.0      DE  0.0      0.0    1.0   \n",
       "...           ...   ...          ...    ...     ...  ...      ...    ...   \n",
       "19214       37619  2019           SM    1.0      NO  0.0      0.0    1.0   \n",
       "19215       37623  2019           SM    0.0      RS  0.0      0.0    1.0   \n",
       "19216       37624  2019           SM   12.0      RU  0.0      1.0    0.0   \n",
       "19217       37625  2019           SM    0.0      SE  0.0      1.0    0.0   \n",
       "19218       37626  2019           SM    0.0      SI  1.0      0.0    0.0   \n",
       "\n",
       "       has_border from_country_name            country_name  \n",
       "0             NaN           austria                 austria  \n",
       "1             NaN           austria  bosnia and herzegovina  \n",
       "2             NaN           austria                 belgium  \n",
       "3             NaN           austria                  cyprus  \n",
       "4             1.0           austria                 germany  \n",
       "...           ...               ...                     ...  \n",
       "19214         NaN        san marino                  norway  \n",
       "19215         NaN        san marino                  serbia  \n",
       "19216         NaN        san marino                  russia  \n",
       "19217         NaN        san marino                  sweden  \n",
       "19218         NaN        san marino                slovenia  \n",
       "\n",
       "[18991 rows x 11 columns]"
      ]
     },
     "execution_count": 6,
     "metadata": {},
     "output_type": "execute_result"
    }
   ],
   "source": [
    "# how often did each country participate?\n",
    "n_participations = df.groupby('country_name')['year'].nunique().sort_values(ascending=True)\n",
    "# filter countries with fewer than 5 and turn into list\n",
    "countries_to_remove = n_participations[n_participations < 3].index.tolist()\n",
    "# remove from df\n",
    "df = df[~df['country_name'].isin(countries_to_remove)]\n",
    "df"
   ]
  },
  {
   "attachments": {},
   "cell_type": "markdown",
   "metadata": {},
   "source": [
    "Take average votes over the years for each country pair."
   ]
  },
  {
   "cell_type": "code",
   "execution_count": 7,
   "metadata": {},
   "outputs": [],
   "source": [
    "df2 = (df\n",
    "    .groupby(['from_country', 'country', 'from_country_name', 'country_name'])\n",
    "    #.agg({'votes': 'mean'})\n",
    "    .agg(votes = ('votes', 'mean'), num_years = ('year', 'count'))\n",
    "    .reset_index()\n",
    "    .sort_values('votes', ascending=False)\n",
    ")"
   ]
  },
  {
   "cell_type": "code",
   "execution_count": 8,
   "metadata": {},
   "outputs": [
    {
     "data": {
      "text/html": [
       "<div>\n",
       "<style scoped>\n",
       "    .dataframe tbody tr th:only-of-type {\n",
       "        vertical-align: middle;\n",
       "    }\n",
       "\n",
       "    .dataframe tbody tr th {\n",
       "        vertical-align: top;\n",
       "    }\n",
       "\n",
       "    .dataframe thead th {\n",
       "        text-align: right;\n",
       "    }\n",
       "</style>\n",
       "<table border=\"1\" class=\"dataframe\">\n",
       "  <thead>\n",
       "    <tr style=\"text-align: right;\">\n",
       "      <th></th>\n",
       "      <th>from_country</th>\n",
       "      <th>country</th>\n",
       "      <th>from_country_name</th>\n",
       "      <th>country_name</th>\n",
       "      <th>votes</th>\n",
       "      <th>num_years</th>\n",
       "    </tr>\n",
       "  </thead>\n",
       "  <tbody>\n",
       "    <tr>\n",
       "      <th>1959</th>\n",
       "      <td>TR</td>\n",
       "      <td>AZ</td>\n",
       "      <td>turkey</td>\n",
       "      <td>azerbaijan</td>\n",
       "      <td>12.000000</td>\n",
       "      <td>5</td>\n",
       "    </tr>\n",
       "    <tr>\n",
       "      <th>251</th>\n",
       "      <td>AZ</td>\n",
       "      <td>TR</td>\n",
       "      <td>azerbaijan</td>\n",
       "      <td>turkey</td>\n",
       "      <td>12.000000</td>\n",
       "      <td>4</td>\n",
       "    </tr>\n",
       "    <tr>\n",
       "      <th>1397</th>\n",
       "      <td>ME</td>\n",
       "      <td>RS</td>\n",
       "      <td>montenegro</td>\n",
       "      <td>serbia</td>\n",
       "      <td>12.000000</td>\n",
       "      <td>7</td>\n",
       "    </tr>\n",
       "    <tr>\n",
       "      <th>1690</th>\n",
       "      <td>RO</td>\n",
       "      <td>MD</td>\n",
       "      <td>romania</td>\n",
       "      <td>moldova</td>\n",
       "      <td>11.800000</td>\n",
       "      <td>10</td>\n",
       "    </tr>\n",
       "    <tr>\n",
       "      <th>488</th>\n",
       "      <td>CY</td>\n",
       "      <td>GR</td>\n",
       "      <td>cyprus</td>\n",
       "      <td>greece</td>\n",
       "      <td>11.733333</td>\n",
       "      <td>15</td>\n",
       "    </tr>\n",
       "    <tr>\n",
       "      <th>...</th>\n",
       "      <td>...</td>\n",
       "      <td>...</td>\n",
       "      <td>...</td>\n",
       "      <td>...</td>\n",
       "      <td>...</td>\n",
       "      <td>...</td>\n",
       "    </tr>\n",
       "    <tr>\n",
       "      <th>1313</th>\n",
       "      <td>MC</td>\n",
       "      <td>RU</td>\n",
       "      <td>monaco</td>\n",
       "      <td>russia</td>\n",
       "      <td>0.000000</td>\n",
       "      <td>3</td>\n",
       "    </tr>\n",
       "    <tr>\n",
       "      <th>1311</th>\n",
       "      <td>MC</td>\n",
       "      <td>PL</td>\n",
       "      <td>monaco</td>\n",
       "      <td>poland</td>\n",
       "      <td>0.000000</td>\n",
       "      <td>1</td>\n",
       "    </tr>\n",
       "    <tr>\n",
       "      <th>1911</th>\n",
       "      <td>SK</td>\n",
       "      <td>TR</td>\n",
       "      <td>slovakia</td>\n",
       "      <td>turkey</td>\n",
       "      <td>0.000000</td>\n",
       "      <td>3</td>\n",
       "    </tr>\n",
       "    <tr>\n",
       "      <th>1309</th>\n",
       "      <td>MC</td>\n",
       "      <td>NL</td>\n",
       "      <td>monaco</td>\n",
       "      <td>the netherlands</td>\n",
       "      <td>0.000000</td>\n",
       "      <td>1</td>\n",
       "    </tr>\n",
       "    <tr>\n",
       "      <th>0</th>\n",
       "      <td>AD</td>\n",
       "      <td>AL</td>\n",
       "      <td>andorra</td>\n",
       "      <td>albania</td>\n",
       "      <td>0.000000</td>\n",
       "      <td>4</td>\n",
       "    </tr>\n",
       "  </tbody>\n",
       "</table>\n",
       "<p>2072 rows × 6 columns</p>\n",
       "</div>"
      ],
      "text/plain": [
       "     from_country country from_country_name     country_name      votes  \\\n",
       "1959           TR      AZ            turkey       azerbaijan  12.000000   \n",
       "251            AZ      TR        azerbaijan           turkey  12.000000   \n",
       "1397           ME      RS        montenegro           serbia  12.000000   \n",
       "1690           RO      MD           romania          moldova  11.800000   \n",
       "488            CY      GR            cyprus           greece  11.733333   \n",
       "...           ...     ...               ...              ...        ...   \n",
       "1313           MC      RU            monaco           russia   0.000000   \n",
       "1311           MC      PL            monaco           poland   0.000000   \n",
       "1911           SK      TR          slovakia           turkey   0.000000   \n",
       "1309           MC      NL            monaco  the netherlands   0.000000   \n",
       "0              AD      AL           andorra          albania   0.000000   \n",
       "\n",
       "      num_years  \n",
       "1959          5  \n",
       "251           4  \n",
       "1397          7  \n",
       "1690         10  \n",
       "488          15  \n",
       "...         ...  \n",
       "1313          3  \n",
       "1311          1  \n",
       "1911          3  \n",
       "1309          1  \n",
       "0             4  \n",
       "\n",
       "[2072 rows x 6 columns]"
      ]
     },
     "execution_count": 8,
     "metadata": {},
     "output_type": "execute_result"
    }
   ],
   "source": [
    "df2"
   ]
  },
  {
   "cell_type": "code",
   "execution_count": 9,
   "metadata": {},
   "outputs": [
    {
     "data": {
      "text/html": [
       "<div>\n",
       "<style scoped>\n",
       "    .dataframe tbody tr th:only-of-type {\n",
       "        vertical-align: middle;\n",
       "    }\n",
       "\n",
       "    .dataframe tbody tr th {\n",
       "        vertical-align: top;\n",
       "    }\n",
       "\n",
       "    .dataframe thead th {\n",
       "        text-align: right;\n",
       "    }\n",
       "</style>\n",
       "<table border=\"1\" class=\"dataframe\">\n",
       "  <thead>\n",
       "    <tr style=\"text-align: right;\">\n",
       "      <th></th>\n",
       "      <th>from_country</th>\n",
       "      <th>country</th>\n",
       "      <th>from_country_name</th>\n",
       "      <th>country_name</th>\n",
       "      <th>num_years</th>\n",
       "      <th>votes_x</th>\n",
       "      <th>votes_y</th>\n",
       "      <th>votes_diff</th>\n",
       "    </tr>\n",
       "  </thead>\n",
       "  <tbody>\n",
       "    <tr>\n",
       "      <th>0</th>\n",
       "      <td>BA</td>\n",
       "      <td>RS</td>\n",
       "      <td>bosnia and herzegovina</td>\n",
       "      <td>serbia</td>\n",
       "      <td>6</td>\n",
       "      <td>11.333333</td>\n",
       "      <td>10.166667</td>\n",
       "      <td>1.166667</td>\n",
       "    </tr>\n",
       "    <tr>\n",
       "      <th>1</th>\n",
       "      <td>RS</td>\n",
       "      <td>BA</td>\n",
       "      <td>serbia</td>\n",
       "      <td>bosnia and herzegovina</td>\n",
       "      <td>6</td>\n",
       "      <td>10.166667</td>\n",
       "      <td>11.333333</td>\n",
       "      <td>1.166667</td>\n",
       "    </tr>\n",
       "    <tr>\n",
       "      <th>2</th>\n",
       "      <td>RU</td>\n",
       "      <td>AZ</td>\n",
       "      <td>russia</td>\n",
       "      <td>azerbaijan</td>\n",
       "      <td>10</td>\n",
       "      <td>9.400000</td>\n",
       "      <td>7.900000</td>\n",
       "      <td>1.500000</td>\n",
       "    </tr>\n",
       "    <tr>\n",
       "      <th>3</th>\n",
       "      <td>CH</td>\n",
       "      <td>PT</td>\n",
       "      <td>switzerland</td>\n",
       "      <td>portugal</td>\n",
       "      <td>5</td>\n",
       "      <td>9.400000</td>\n",
       "      <td>2.800000</td>\n",
       "      <td>6.600000</td>\n",
       "    </tr>\n",
       "    <tr>\n",
       "      <th>4</th>\n",
       "      <td>MK</td>\n",
       "      <td>BG</td>\n",
       "      <td>f.y.r. macedonia</td>\n",
       "      <td>bulgaria</td>\n",
       "      <td>4</td>\n",
       "      <td>9.250000</td>\n",
       "      <td>6.250000</td>\n",
       "      <td>3.000000</td>\n",
       "    </tr>\n",
       "    <tr>\n",
       "      <th>...</th>\n",
       "      <td>...</td>\n",
       "      <td>...</td>\n",
       "      <td>...</td>\n",
       "      <td>...</td>\n",
       "      <td>...</td>\n",
       "      <td>...</td>\n",
       "      <td>...</td>\n",
       "      <td>...</td>\n",
       "    </tr>\n",
       "    <tr>\n",
       "      <th>210</th>\n",
       "      <td>AM</td>\n",
       "      <td>HU</td>\n",
       "      <td>armenia</td>\n",
       "      <td>hungary</td>\n",
       "      <td>8</td>\n",
       "      <td>0.000000</td>\n",
       "      <td>1.250000</td>\n",
       "      <td>1.250000</td>\n",
       "    </tr>\n",
       "    <tr>\n",
       "      <th>215</th>\n",
       "      <td>PT</td>\n",
       "      <td>PL</td>\n",
       "      <td>portugal</td>\n",
       "      <td>poland</td>\n",
       "      <td>8</td>\n",
       "      <td>0.000000</td>\n",
       "      <td>1.500000</td>\n",
       "      <td>1.500000</td>\n",
       "    </tr>\n",
       "    <tr>\n",
       "      <th>218</th>\n",
       "      <td>BE</td>\n",
       "      <td>MK</td>\n",
       "      <td>belgium</td>\n",
       "      <td>f.y.r. macedonia</td>\n",
       "      <td>8</td>\n",
       "      <td>0.000000</td>\n",
       "      <td>1.125000</td>\n",
       "      <td>1.125000</td>\n",
       "    </tr>\n",
       "    <tr>\n",
       "      <th>222</th>\n",
       "      <td>LT</td>\n",
       "      <td>AL</td>\n",
       "      <td>lithuania</td>\n",
       "      <td>albania</td>\n",
       "      <td>9</td>\n",
       "      <td>0.000000</td>\n",
       "      <td>0.111111</td>\n",
       "      <td>0.111111</td>\n",
       "    </tr>\n",
       "    <tr>\n",
       "      <th>225</th>\n",
       "      <td>BE</td>\n",
       "      <td>BY</td>\n",
       "      <td>belgium</td>\n",
       "      <td>belarus</td>\n",
       "      <td>6</td>\n",
       "      <td>0.000000</td>\n",
       "      <td>1.833333</td>\n",
       "      <td>1.833333</td>\n",
       "    </tr>\n",
       "  </tbody>\n",
       "</table>\n",
       "<p>184 rows × 8 columns</p>\n",
       "</div>"
      ],
      "text/plain": [
       "    from_country country       from_country_name            country_name  \\\n",
       "0             BA      RS  bosnia and herzegovina                  serbia   \n",
       "1             RS      BA                  serbia  bosnia and herzegovina   \n",
       "2             RU      AZ                  russia              azerbaijan   \n",
       "3             CH      PT             switzerland                portugal   \n",
       "4             MK      BG        f.y.r. macedonia                bulgaria   \n",
       "..           ...     ...                     ...                     ...   \n",
       "210           AM      HU                 armenia                 hungary   \n",
       "215           PT      PL                portugal                  poland   \n",
       "218           BE      MK                 belgium        f.y.r. macedonia   \n",
       "222           LT      AL               lithuania                 albania   \n",
       "225           BE      BY                 belgium                 belarus   \n",
       "\n",
       "     num_years    votes_x    votes_y  votes_diff  \n",
       "0            6  11.333333  10.166667    1.166667  \n",
       "1            6  10.166667  11.333333    1.166667  \n",
       "2           10   9.400000   7.900000    1.500000  \n",
       "3            5   9.400000   2.800000    6.600000  \n",
       "4            4   9.250000   6.250000    3.000000  \n",
       "..         ...        ...        ...         ...  \n",
       "210          8   0.000000   1.250000    1.250000  \n",
       "215          8   0.000000   1.500000    1.500000  \n",
       "218          8   0.000000   1.125000    1.125000  \n",
       "222          9   0.000000   0.111111    0.111111  \n",
       "225          6   0.000000   1.833333    1.833333  \n",
       "\n",
       "[184 rows x 8 columns]"
      ]
     },
     "execution_count": 9,
     "metadata": {},
     "output_type": "execute_result"
    }
   ],
   "source": [
    "# merge df2 with itself but with from_country and country swapped and from_country_name and country_name swapped\n",
    "df3 = (df2\n",
    "    .merge(df2.rename(columns={'from_country': 'country', \n",
    "                               'country': 'from_country', \n",
    "                               'from_country_name': 'country_name', \n",
    "                               'country_name': 'from_country_name'}), \n",
    "           on=['from_country', 'country', 'from_country_name', 'country_name', 'num_years'])\n",
    "    # remove duplicates\n",
    "    .drop_duplicates()\n",
    "    # remove rows where from_country == country\n",
    "    .query('from_country != country')\n",
    "    # calculate the absolute difference in votes\n",
    "    .assign(votes_diff = lambda x: abs(x['votes_x'] - x['votes_y']))\n",
    "    # re-order num_years column before votes_x\n",
    "    .reindex(columns=['from_country', 'country', 'from_country_name', 'country_name', 'num_years', 'votes_x', 'votes_y', 'votes_diff'])\n",
    ")\n",
    "df3"
   ]
  },
  {
   "cell_type": "code",
   "execution_count": 10,
   "metadata": {},
   "outputs": [],
   "source": [
    "# from_country and country contain same pairs, but in different orders\n",
    "# make combined column with pairs in alphabetical order\n",
    "df3['country_pair'] = df3[['from_country_name', 'country_name']].apply(lambda x: ' - '.join(sorted(x)), axis=1)\n",
    "# remove duplicate country pairs\n",
    "df3 = df3.drop_duplicates(subset=['country_pair'])\n",
    "# remove country_pair column\n",
    "df3 = df3.drop(columns=['country_pair'])"
   ]
  },
  {
   "cell_type": "code",
   "execution_count": 11,
   "metadata": {},
   "outputs": [
    {
     "data": {
      "text/html": [
       "<div>\n",
       "<style scoped>\n",
       "    .dataframe tbody tr th:only-of-type {\n",
       "        vertical-align: middle;\n",
       "    }\n",
       "\n",
       "    .dataframe tbody tr th {\n",
       "        vertical-align: top;\n",
       "    }\n",
       "\n",
       "    .dataframe thead th {\n",
       "        text-align: right;\n",
       "    }\n",
       "</style>\n",
       "<table border=\"1\" class=\"dataframe\">\n",
       "  <thead>\n",
       "    <tr style=\"text-align: right;\">\n",
       "      <th></th>\n",
       "      <th>from_country</th>\n",
       "      <th>country</th>\n",
       "      <th>from_country_name</th>\n",
       "      <th>country_name</th>\n",
       "      <th>num_years</th>\n",
       "      <th>votes_x</th>\n",
       "      <th>votes_y</th>\n",
       "      <th>votes_diff</th>\n",
       "    </tr>\n",
       "  </thead>\n",
       "  <tbody>\n",
       "    <tr>\n",
       "      <th>0</th>\n",
       "      <td>BA</td>\n",
       "      <td>RS</td>\n",
       "      <td>bosnia and herzegovina</td>\n",
       "      <td>serbia</td>\n",
       "      <td>6</td>\n",
       "      <td>11.333333</td>\n",
       "      <td>10.166667</td>\n",
       "      <td>1.166667</td>\n",
       "    </tr>\n",
       "    <tr>\n",
       "      <th>2</th>\n",
       "      <td>RU</td>\n",
       "      <td>AZ</td>\n",
       "      <td>russia</td>\n",
       "      <td>azerbaijan</td>\n",
       "      <td>10</td>\n",
       "      <td>9.400000</td>\n",
       "      <td>7.900000</td>\n",
       "      <td>1.500000</td>\n",
       "    </tr>\n",
       "    <tr>\n",
       "      <th>7</th>\n",
       "      <td>SE</td>\n",
       "      <td>AU</td>\n",
       "      <td>sweden</td>\n",
       "      <td>australia</td>\n",
       "      <td>5</td>\n",
       "      <td>8.200000</td>\n",
       "      <td>7.800000</td>\n",
       "      <td>0.400000</td>\n",
       "    </tr>\n",
       "    <tr>\n",
       "      <th>10</th>\n",
       "      <td>BG</td>\n",
       "      <td>AT</td>\n",
       "      <td>bulgaria</td>\n",
       "      <td>austria</td>\n",
       "      <td>4</td>\n",
       "      <td>7.500000</td>\n",
       "      <td>4.750000</td>\n",
       "      <td>2.750000</td>\n",
       "    </tr>\n",
       "    <tr>\n",
       "      <th>15</th>\n",
       "      <td>SI</td>\n",
       "      <td>MK</td>\n",
       "      <td>slovenia</td>\n",
       "      <td>f.y.r. macedonia</td>\n",
       "      <td>7</td>\n",
       "      <td>6.285714</td>\n",
       "      <td>4.000000</td>\n",
       "      <td>2.285714</td>\n",
       "    </tr>\n",
       "  </tbody>\n",
       "</table>\n",
       "</div>"
      ],
      "text/plain": [
       "   from_country country       from_country_name      country_name  num_years  \\\n",
       "0            BA      RS  bosnia and herzegovina            serbia          6   \n",
       "2            RU      AZ                  russia        azerbaijan         10   \n",
       "7            SE      AU                  sweden         australia          5   \n",
       "10           BG      AT                bulgaria           austria          4   \n",
       "15           SI      MK                slovenia  f.y.r. macedonia          7   \n",
       "\n",
       "      votes_x    votes_y  votes_diff  \n",
       "0   11.333333  10.166667    1.166667  \n",
       "2    9.400000   7.900000    1.500000  \n",
       "7    8.200000   7.800000    0.400000  \n",
       "10   7.500000   4.750000    2.750000  \n",
       "15   6.285714   4.000000    2.285714  "
      ]
     },
     "execution_count": 11,
     "metadata": {},
     "output_type": "execute_result"
    }
   ],
   "source": [
    "# high votes, low diff\n",
    "top_lovers = (df3\n",
    "    .query('votes_diff < 3')\n",
    "    .sort_values('votes_x', ascending=False).head(5)\n",
    ")\n",
    "top_lovers"
   ]
  },
  {
   "cell_type": "code",
   "execution_count": 12,
   "metadata": {},
   "outputs": [
    {
     "data": {
      "text/html": [
       "<div>\n",
       "<style scoped>\n",
       "    .dataframe tbody tr th:only-of-type {\n",
       "        vertical-align: middle;\n",
       "    }\n",
       "\n",
       "    .dataframe tbody tr th {\n",
       "        vertical-align: top;\n",
       "    }\n",
       "\n",
       "    .dataframe thead th {\n",
       "        text-align: right;\n",
       "    }\n",
       "</style>\n",
       "<table border=\"1\" class=\"dataframe\">\n",
       "  <thead>\n",
       "    <tr style=\"text-align: right;\">\n",
       "      <th></th>\n",
       "      <th>from_country</th>\n",
       "      <th>country</th>\n",
       "      <th>from_country_name</th>\n",
       "      <th>country_name</th>\n",
       "      <th>num_years</th>\n",
       "      <th>votes_x</th>\n",
       "      <th>votes_y</th>\n",
       "      <th>votes_diff</th>\n",
       "    </tr>\n",
       "  </thead>\n",
       "  <tbody>\n",
       "    <tr>\n",
       "      <th>174</th>\n",
       "      <td>AL</td>\n",
       "      <td>LT</td>\n",
       "      <td>albania</td>\n",
       "      <td>lithuania</td>\n",
       "      <td>9</td>\n",
       "      <td>0.111111</td>\n",
       "      <td>0.000000</td>\n",
       "      <td>0.111111</td>\n",
       "    </tr>\n",
       "    <tr>\n",
       "      <th>169</th>\n",
       "      <td>IS</td>\n",
       "      <td>GE</td>\n",
       "      <td>iceland</td>\n",
       "      <td>georgia</td>\n",
       "      <td>7</td>\n",
       "      <td>0.285714</td>\n",
       "      <td>0.000000</td>\n",
       "      <td>0.285714</td>\n",
       "    </tr>\n",
       "    <tr>\n",
       "      <th>161</th>\n",
       "      <td>RS</td>\n",
       "      <td>TR</td>\n",
       "      <td>serbia</td>\n",
       "      <td>turkey</td>\n",
       "      <td>5</td>\n",
       "      <td>0.600000</td>\n",
       "      <td>0.000000</td>\n",
       "      <td>0.600000</td>\n",
       "    </tr>\n",
       "    <tr>\n",
       "      <th>147</th>\n",
       "      <td>BY</td>\n",
       "      <td>SI</td>\n",
       "      <td>belarus</td>\n",
       "      <td>slovenia</td>\n",
       "      <td>6</td>\n",
       "      <td>0.833333</td>\n",
       "      <td>0.000000</td>\n",
       "      <td>0.833333</td>\n",
       "    </tr>\n",
       "    <tr>\n",
       "      <th>138</th>\n",
       "      <td>LT</td>\n",
       "      <td>IL</td>\n",
       "      <td>lithuania</td>\n",
       "      <td>israel</td>\n",
       "      <td>13</td>\n",
       "      <td>1.000000</td>\n",
       "      <td>0.769231</td>\n",
       "      <td>0.230769</td>\n",
       "    </tr>\n",
       "  </tbody>\n",
       "</table>\n",
       "</div>"
      ],
      "text/plain": [
       "    from_country country from_country_name country_name  num_years   votes_x  \\\n",
       "174           AL      LT           albania    lithuania          9  0.111111   \n",
       "169           IS      GE           iceland      georgia          7  0.285714   \n",
       "161           RS      TR            serbia       turkey          5  0.600000   \n",
       "147           BY      SI           belarus     slovenia          6  0.833333   \n",
       "138           LT      IL         lithuania       israel         13  1.000000   \n",
       "\n",
       "      votes_y  votes_diff  \n",
       "174  0.000000    0.111111  \n",
       "169  0.000000    0.285714  \n",
       "161  0.000000    0.600000  \n",
       "147  0.000000    0.833333  \n",
       "138  0.769231    0.230769  "
      ]
     },
     "execution_count": 12,
     "metadata": {},
     "output_type": "execute_result"
    }
   ],
   "source": [
    "top_haters = (df3\n",
    "    .query('votes_diff < 3')\n",
    "    .sort_values('votes_x', ascending=True).head(5))\n",
    "top_haters"
   ]
  },
  {
   "cell_type": "code",
   "execution_count": 13,
   "metadata": {},
   "outputs": [
    {
     "data": {
      "text/html": [
       "<div>\n",
       "<style scoped>\n",
       "    .dataframe tbody tr th:only-of-type {\n",
       "        vertical-align: middle;\n",
       "    }\n",
       "\n",
       "    .dataframe tbody tr th {\n",
       "        vertical-align: top;\n",
       "    }\n",
       "\n",
       "    .dataframe thead th {\n",
       "        text-align: right;\n",
       "    }\n",
       "</style>\n",
       "<table border=\"1\" class=\"dataframe\">\n",
       "  <thead>\n",
       "    <tr style=\"text-align: right;\">\n",
       "      <th></th>\n",
       "      <th>from_country</th>\n",
       "      <th>country</th>\n",
       "      <th>from_country_name</th>\n",
       "      <th>country_name</th>\n",
       "      <th>num_years</th>\n",
       "      <th>votes_x</th>\n",
       "      <th>votes_y</th>\n",
       "      <th>votes_diff</th>\n",
       "    </tr>\n",
       "  </thead>\n",
       "  <tbody>\n",
       "    <tr>\n",
       "      <th>6</th>\n",
       "      <td>TR</td>\n",
       "      <td>AM</td>\n",
       "      <td>turkey</td>\n",
       "      <td>armenia</td>\n",
       "      <td>5</td>\n",
       "      <td>8.800000</td>\n",
       "      <td>0.800000</td>\n",
       "      <td>8.000000</td>\n",
       "    </tr>\n",
       "    <tr>\n",
       "      <th>3</th>\n",
       "      <td>CH</td>\n",
       "      <td>PT</td>\n",
       "      <td>switzerland</td>\n",
       "      <td>portugal</td>\n",
       "      <td>5</td>\n",
       "      <td>9.400000</td>\n",
       "      <td>2.800000</td>\n",
       "      <td>6.600000</td>\n",
       "    </tr>\n",
       "    <tr>\n",
       "      <th>11</th>\n",
       "      <td>ES</td>\n",
       "      <td>IT</td>\n",
       "      <td>spain</td>\n",
       "      <td>italy</td>\n",
       "      <td>9</td>\n",
       "      <td>7.444444</td>\n",
       "      <td>1.333333</td>\n",
       "      <td>6.111111</td>\n",
       "    </tr>\n",
       "    <tr>\n",
       "      <th>12</th>\n",
       "      <td>FR</td>\n",
       "      <td>IT</td>\n",
       "      <td>france</td>\n",
       "      <td>italy</td>\n",
       "      <td>9</td>\n",
       "      <td>7.222222</td>\n",
       "      <td>1.666667</td>\n",
       "      <td>5.555556</td>\n",
       "    </tr>\n",
       "    <tr>\n",
       "      <th>17</th>\n",
       "      <td>IT</td>\n",
       "      <td>UA</td>\n",
       "      <td>italy</td>\n",
       "      <td>ukraine</td>\n",
       "      <td>7</td>\n",
       "      <td>6.142857</td>\n",
       "      <td>0.857143</td>\n",
       "      <td>5.285714</td>\n",
       "    </tr>\n",
       "  </tbody>\n",
       "</table>\n",
       "</div>"
      ],
      "text/plain": [
       "   from_country country from_country_name country_name  num_years   votes_x  \\\n",
       "6            TR      AM            turkey      armenia          5  8.800000   \n",
       "3            CH      PT       switzerland     portugal          5  9.400000   \n",
       "11           ES      IT             spain        italy          9  7.444444   \n",
       "12           FR      IT            france        italy          9  7.222222   \n",
       "17           IT      UA             italy      ukraine          7  6.142857   \n",
       "\n",
       "     votes_y  votes_diff  \n",
       "6   0.800000    8.000000  \n",
       "3   2.800000    6.600000  \n",
       "11  1.333333    6.111111  \n",
       "12  1.666667    5.555556  \n",
       "17  0.857143    5.285714  "
      ]
     },
     "execution_count": 13,
     "metadata": {},
     "output_type": "execute_result"
    }
   ],
   "source": [
    "top_unequals = (df3\n",
    "            .sort_values('votes_diff', ascending=False).head(5))\n",
    "top_unequals"
   ]
  },
  {
   "cell_type": "code",
   "execution_count": 14,
   "metadata": {},
   "outputs": [
    {
     "data": {
      "text/html": [
       "<div>\n",
       "<style scoped>\n",
       "    .dataframe tbody tr th:only-of-type {\n",
       "        vertical-align: middle;\n",
       "    }\n",
       "\n",
       "    .dataframe tbody tr th {\n",
       "        vertical-align: top;\n",
       "    }\n",
       "\n",
       "    .dataframe thead th {\n",
       "        text-align: right;\n",
       "    }\n",
       "</style>\n",
       "<table border=\"1\" class=\"dataframe\">\n",
       "  <thead>\n",
       "    <tr style=\"text-align: right;\">\n",
       "      <th></th>\n",
       "      <th>from_country</th>\n",
       "      <th>country</th>\n",
       "      <th>from_country_name</th>\n",
       "      <th>country_name</th>\n",
       "      <th>num_years</th>\n",
       "      <th>votes_x</th>\n",
       "      <th>votes_y</th>\n",
       "      <th>votes_diff</th>\n",
       "      <th>group</th>\n",
       "    </tr>\n",
       "  </thead>\n",
       "  <tbody>\n",
       "    <tr>\n",
       "      <th>0</th>\n",
       "      <td>BA</td>\n",
       "      <td>RS</td>\n",
       "      <td>bosnia and herzegovina</td>\n",
       "      <td>serbia</td>\n",
       "      <td>6</td>\n",
       "      <td>11.333333</td>\n",
       "      <td>10.166667</td>\n",
       "      <td>1.166667</td>\n",
       "      <td>lovers</td>\n",
       "    </tr>\n",
       "    <tr>\n",
       "      <th>2</th>\n",
       "      <td>RU</td>\n",
       "      <td>AZ</td>\n",
       "      <td>russia</td>\n",
       "      <td>azerbaijan</td>\n",
       "      <td>10</td>\n",
       "      <td>9.400000</td>\n",
       "      <td>7.900000</td>\n",
       "      <td>1.500000</td>\n",
       "      <td>lovers</td>\n",
       "    </tr>\n",
       "    <tr>\n",
       "      <th>7</th>\n",
       "      <td>SE</td>\n",
       "      <td>AU</td>\n",
       "      <td>sweden</td>\n",
       "      <td>australia</td>\n",
       "      <td>5</td>\n",
       "      <td>8.200000</td>\n",
       "      <td>7.800000</td>\n",
       "      <td>0.400000</td>\n",
       "      <td>lovers</td>\n",
       "    </tr>\n",
       "    <tr>\n",
       "      <th>10</th>\n",
       "      <td>BG</td>\n",
       "      <td>AT</td>\n",
       "      <td>bulgaria</td>\n",
       "      <td>austria</td>\n",
       "      <td>4</td>\n",
       "      <td>7.500000</td>\n",
       "      <td>4.750000</td>\n",
       "      <td>2.750000</td>\n",
       "      <td>lovers</td>\n",
       "    </tr>\n",
       "    <tr>\n",
       "      <th>15</th>\n",
       "      <td>SI</td>\n",
       "      <td>MK</td>\n",
       "      <td>slovenia</td>\n",
       "      <td>f.y.r. macedonia</td>\n",
       "      <td>7</td>\n",
       "      <td>6.285714</td>\n",
       "      <td>4.000000</td>\n",
       "      <td>2.285714</td>\n",
       "      <td>lovers</td>\n",
       "    </tr>\n",
       "    <tr>\n",
       "      <th>174</th>\n",
       "      <td>AL</td>\n",
       "      <td>LT</td>\n",
       "      <td>albania</td>\n",
       "      <td>lithuania</td>\n",
       "      <td>9</td>\n",
       "      <td>0.111111</td>\n",
       "      <td>0.000000</td>\n",
       "      <td>0.111111</td>\n",
       "      <td>haters</td>\n",
       "    </tr>\n",
       "    <tr>\n",
       "      <th>169</th>\n",
       "      <td>IS</td>\n",
       "      <td>GE</td>\n",
       "      <td>iceland</td>\n",
       "      <td>georgia</td>\n",
       "      <td>7</td>\n",
       "      <td>0.285714</td>\n",
       "      <td>0.000000</td>\n",
       "      <td>0.285714</td>\n",
       "      <td>haters</td>\n",
       "    </tr>\n",
       "    <tr>\n",
       "      <th>161</th>\n",
       "      <td>RS</td>\n",
       "      <td>TR</td>\n",
       "      <td>serbia</td>\n",
       "      <td>turkey</td>\n",
       "      <td>5</td>\n",
       "      <td>0.600000</td>\n",
       "      <td>0.000000</td>\n",
       "      <td>0.600000</td>\n",
       "      <td>haters</td>\n",
       "    </tr>\n",
       "    <tr>\n",
       "      <th>147</th>\n",
       "      <td>BY</td>\n",
       "      <td>SI</td>\n",
       "      <td>belarus</td>\n",
       "      <td>slovenia</td>\n",
       "      <td>6</td>\n",
       "      <td>0.833333</td>\n",
       "      <td>0.000000</td>\n",
       "      <td>0.833333</td>\n",
       "      <td>haters</td>\n",
       "    </tr>\n",
       "    <tr>\n",
       "      <th>138</th>\n",
       "      <td>LT</td>\n",
       "      <td>IL</td>\n",
       "      <td>lithuania</td>\n",
       "      <td>israel</td>\n",
       "      <td>13</td>\n",
       "      <td>1.000000</td>\n",
       "      <td>0.769231</td>\n",
       "      <td>0.230769</td>\n",
       "      <td>haters</td>\n",
       "    </tr>\n",
       "    <tr>\n",
       "      <th>6</th>\n",
       "      <td>TR</td>\n",
       "      <td>AM</td>\n",
       "      <td>turkey</td>\n",
       "      <td>armenia</td>\n",
       "      <td>5</td>\n",
       "      <td>8.800000</td>\n",
       "      <td>0.800000</td>\n",
       "      <td>8.000000</td>\n",
       "      <td>unequals</td>\n",
       "    </tr>\n",
       "    <tr>\n",
       "      <th>3</th>\n",
       "      <td>CH</td>\n",
       "      <td>PT</td>\n",
       "      <td>switzerland</td>\n",
       "      <td>portugal</td>\n",
       "      <td>5</td>\n",
       "      <td>9.400000</td>\n",
       "      <td>2.800000</td>\n",
       "      <td>6.600000</td>\n",
       "      <td>unequals</td>\n",
       "    </tr>\n",
       "    <tr>\n",
       "      <th>11</th>\n",
       "      <td>ES</td>\n",
       "      <td>IT</td>\n",
       "      <td>spain</td>\n",
       "      <td>italy</td>\n",
       "      <td>9</td>\n",
       "      <td>7.444444</td>\n",
       "      <td>1.333333</td>\n",
       "      <td>6.111111</td>\n",
       "      <td>unequals</td>\n",
       "    </tr>\n",
       "    <tr>\n",
       "      <th>12</th>\n",
       "      <td>FR</td>\n",
       "      <td>IT</td>\n",
       "      <td>france</td>\n",
       "      <td>italy</td>\n",
       "      <td>9</td>\n",
       "      <td>7.222222</td>\n",
       "      <td>1.666667</td>\n",
       "      <td>5.555556</td>\n",
       "      <td>unequals</td>\n",
       "    </tr>\n",
       "    <tr>\n",
       "      <th>17</th>\n",
       "      <td>IT</td>\n",
       "      <td>UA</td>\n",
       "      <td>italy</td>\n",
       "      <td>ukraine</td>\n",
       "      <td>7</td>\n",
       "      <td>6.142857</td>\n",
       "      <td>0.857143</td>\n",
       "      <td>5.285714</td>\n",
       "      <td>unequals</td>\n",
       "    </tr>\n",
       "  </tbody>\n",
       "</table>\n",
       "</div>"
      ],
      "text/plain": [
       "    from_country country       from_country_name      country_name  num_years  \\\n",
       "0             BA      RS  bosnia and herzegovina            serbia          6   \n",
       "2             RU      AZ                  russia        azerbaijan         10   \n",
       "7             SE      AU                  sweden         australia          5   \n",
       "10            BG      AT                bulgaria           austria          4   \n",
       "15            SI      MK                slovenia  f.y.r. macedonia          7   \n",
       "174           AL      LT                 albania         lithuania          9   \n",
       "169           IS      GE                 iceland           georgia          7   \n",
       "161           RS      TR                  serbia            turkey          5   \n",
       "147           BY      SI                 belarus          slovenia          6   \n",
       "138           LT      IL               lithuania            israel         13   \n",
       "6             TR      AM                  turkey           armenia          5   \n",
       "3             CH      PT             switzerland          portugal          5   \n",
       "11            ES      IT                   spain             italy          9   \n",
       "12            FR      IT                  france             italy          9   \n",
       "17            IT      UA                   italy           ukraine          7   \n",
       "\n",
       "       votes_x    votes_y  votes_diff     group  \n",
       "0    11.333333  10.166667    1.166667    lovers  \n",
       "2     9.400000   7.900000    1.500000    lovers  \n",
       "7     8.200000   7.800000    0.400000    lovers  \n",
       "10    7.500000   4.750000    2.750000    lovers  \n",
       "15    6.285714   4.000000    2.285714    lovers  \n",
       "174   0.111111   0.000000    0.111111    haters  \n",
       "169   0.285714   0.000000    0.285714    haters  \n",
       "161   0.600000   0.000000    0.600000    haters  \n",
       "147   0.833333   0.000000    0.833333    haters  \n",
       "138   1.000000   0.769231    0.230769    haters  \n",
       "6     8.800000   0.800000    8.000000  unequals  \n",
       "3     9.400000   2.800000    6.600000  unequals  \n",
       "11    7.444444   1.333333    6.111111  unequals  \n",
       "12    7.222222   1.666667    5.555556  unequals  \n",
       "17    6.142857   0.857143    5.285714  unequals  "
      ]
     },
     "execution_count": 14,
     "metadata": {},
     "output_type": "execute_result"
    }
   ],
   "source": [
    "# combine top_lovers, top_haters and top_unequals into one df with a new column for type of relationship\n",
    "top_relationships = (pd.concat([top_lovers, top_haters, top_unequals]))\n",
    "# add group column first five rows are lovers, next five are haters, next five are unequals\n",
    "top_relationships['group'] = ['lovers'] * 5 + ['haters'] * 5 + ['unequals'] * 5\n",
    "top_relationships"
   ]
  },
  {
   "cell_type": "code",
   "execution_count": 15,
   "metadata": {},
   "outputs": [],
   "source": [
    "# save to csv\n",
    "top_relationships.to_csv('../data/top_relationships.csv', index=False)"
   ]
  },
  {
   "cell_type": "code",
   "execution_count": 16,
   "metadata": {},
   "outputs": [],
   "source": [
    "import plotly.express as px"
   ]
  },
  {
   "cell_type": "code",
   "execution_count": 17,
   "metadata": {},
   "outputs": [],
   "source": [
    "df = px.data.iris()\n",
    "fig = px.parallel_coordinates(df, color=\"species_id\",\n",
    "                              dimensions=['sepal_width', 'sepal_length', 'petal_width',\n",
    "                                          'petal_length'],\n",
    "                              color_continuous_scale=px.colors.diverging.Tealrose,\n",
    "                              color_continuous_midpoint=2)"
   ]
  },
  {
   "cell_type": "code",
   "execution_count": 18,
   "metadata": {},
   "outputs": [
    {
     "data": {
      "application/vnd.plotly.v1+json": {
       "config": {
        "plotlyServerURL": "https://plot.ly"
       },
       "data": [
        {
         "dimensions": [
          {
           "label": "sepal_width",
           "values": [
            3.5,
            3,
            3.2,
            3.1,
            3.6,
            3.9,
            3.4,
            3.4,
            2.9,
            3.1,
            3.7,
            3.4,
            3,
            3,
            4,
            4.4,
            3.9,
            3.5,
            3.8,
            3.8,
            3.4,
            3.7,
            3.6,
            3.3,
            3.4,
            3,
            3.4,
            3.5,
            3.4,
            3.2,
            3.1,
            3.4,
            4.1,
            4.2,
            3.1,
            3.2,
            3.5,
            3.1,
            3,
            3.4,
            3.5,
            2.3,
            3.2,
            3.5,
            3.8,
            3,
            3.8,
            3.2,
            3.7,
            3.3,
            3.2,
            3.2,
            3.1,
            2.3,
            2.8,
            2.8,
            3.3,
            2.4,
            2.9,
            2.7,
            2,
            3,
            2.2,
            2.9,
            2.9,
            3.1,
            3,
            2.7,
            2.2,
            2.5,
            3.2,
            2.8,
            2.5,
            2.8,
            2.9,
            3,
            2.8,
            3,
            2.9,
            2.6,
            2.4,
            2.4,
            2.7,
            2.7,
            3,
            3.4,
            3.1,
            2.3,
            3,
            2.5,
            2.6,
            3,
            2.6,
            2.3,
            2.7,
            3,
            2.9,
            2.9,
            2.5,
            2.8,
            3.3,
            2.7,
            3,
            2.9,
            3,
            3,
            2.5,
            2.9,
            2.5,
            3.6,
            3.2,
            2.7,
            3,
            2.5,
            2.8,
            3.2,
            3,
            3.8,
            2.6,
            2.2,
            3.2,
            2.8,
            2.8,
            2.7,
            3.3,
            3.2,
            2.8,
            3,
            2.8,
            3,
            2.8,
            3.8,
            2.8,
            2.8,
            2.6,
            3,
            3.4,
            3.1,
            3,
            3.1,
            3.1,
            3.1,
            2.7,
            3.2,
            3.3,
            3,
            2.5,
            3,
            3.4,
            3
           ]
          },
          {
           "label": "sepal_length",
           "values": [
            5.1,
            4.9,
            4.7,
            4.6,
            5,
            5.4,
            4.6,
            5,
            4.4,
            4.9,
            5.4,
            4.8,
            4.8,
            4.3,
            5.8,
            5.7,
            5.4,
            5.1,
            5.7,
            5.1,
            5.4,
            5.1,
            4.6,
            5.1,
            4.8,
            5,
            5,
            5.2,
            5.2,
            4.7,
            4.8,
            5.4,
            5.2,
            5.5,
            4.9,
            5,
            5.5,
            4.9,
            4.4,
            5.1,
            5,
            4.5,
            4.4,
            5,
            5.1,
            4.8,
            5.1,
            4.6,
            5.3,
            5,
            7,
            6.4,
            6.9,
            5.5,
            6.5,
            5.7,
            6.3,
            4.9,
            6.6,
            5.2,
            5,
            5.9,
            6,
            6.1,
            5.6,
            6.7,
            5.6,
            5.8,
            6.2,
            5.6,
            5.9,
            6.1,
            6.3,
            6.1,
            6.4,
            6.6,
            6.8,
            6.7,
            6,
            5.7,
            5.5,
            5.5,
            5.8,
            6,
            5.4,
            6,
            6.7,
            6.3,
            5.6,
            5.5,
            5.5,
            6.1,
            5.8,
            5,
            5.6,
            5.7,
            5.7,
            6.2,
            5.1,
            5.7,
            6.3,
            5.8,
            7.1,
            6.3,
            6.5,
            7.6,
            4.9,
            7.3,
            6.7,
            7.2,
            6.5,
            6.4,
            6.8,
            5.7,
            5.8,
            6.4,
            6.5,
            7.7,
            7.7,
            6,
            6.9,
            5.6,
            7.7,
            6.3,
            6.7,
            7.2,
            6.2,
            6.1,
            6.4,
            7.2,
            7.4,
            7.9,
            6.4,
            6.3,
            6.1,
            7.7,
            6.3,
            6.4,
            6,
            6.9,
            6.7,
            6.9,
            5.8,
            6.8,
            6.7,
            6.7,
            6.3,
            6.5,
            6.2,
            5.9
           ]
          },
          {
           "label": "petal_width",
           "values": [
            0.2,
            0.2,
            0.2,
            0.2,
            0.2,
            0.4,
            0.3,
            0.2,
            0.2,
            0.1,
            0.2,
            0.2,
            0.1,
            0.1,
            0.2,
            0.4,
            0.4,
            0.3,
            0.3,
            0.3,
            0.2,
            0.4,
            0.2,
            0.5,
            0.2,
            0.2,
            0.4,
            0.2,
            0.2,
            0.2,
            0.2,
            0.4,
            0.1,
            0.2,
            0.1,
            0.2,
            0.2,
            0.1,
            0.2,
            0.2,
            0.3,
            0.3,
            0.2,
            0.6,
            0.4,
            0.3,
            0.2,
            0.2,
            0.2,
            0.2,
            1.4,
            1.5,
            1.5,
            1.3,
            1.5,
            1.3,
            1.6,
            1,
            1.3,
            1.4,
            1,
            1.5,
            1,
            1.4,
            1.3,
            1.4,
            1.5,
            1,
            1.5,
            1.1,
            1.8,
            1.3,
            1.5,
            1.2,
            1.3,
            1.4,
            1.4,
            1.7,
            1.5,
            1,
            1.1,
            1,
            1.2,
            1.6,
            1.5,
            1.6,
            1.5,
            1.3,
            1.3,
            1.3,
            1.2,
            1.4,
            1.2,
            1,
            1.3,
            1.2,
            1.3,
            1.3,
            1.1,
            1.3,
            2.5,
            1.9,
            2.1,
            1.8,
            2.2,
            2.1,
            1.7,
            1.8,
            1.8,
            2.5,
            2,
            1.9,
            2.1,
            2,
            2.4,
            2.3,
            1.8,
            2.2,
            2.3,
            1.5,
            2.3,
            2,
            2,
            1.8,
            2.1,
            1.8,
            1.8,
            1.8,
            2.1,
            1.6,
            1.9,
            2,
            2.2,
            1.5,
            1.4,
            2.3,
            2.4,
            1.8,
            1.8,
            2.1,
            2.4,
            2.3,
            1.9,
            2.3,
            2.5,
            2.3,
            1.9,
            2,
            2.3,
            1.8
           ]
          },
          {
           "label": "petal_length",
           "values": [
            1.4,
            1.4,
            1.3,
            1.5,
            1.4,
            1.7,
            1.4,
            1.5,
            1.4,
            1.5,
            1.5,
            1.6,
            1.4,
            1.1,
            1.2,
            1.5,
            1.3,
            1.4,
            1.7,
            1.5,
            1.7,
            1.5,
            1,
            1.7,
            1.9,
            1.6,
            1.6,
            1.5,
            1.4,
            1.6,
            1.6,
            1.5,
            1.5,
            1.4,
            1.5,
            1.2,
            1.3,
            1.5,
            1.3,
            1.5,
            1.3,
            1.3,
            1.3,
            1.6,
            1.9,
            1.4,
            1.6,
            1.4,
            1.5,
            1.4,
            4.7,
            4.5,
            4.9,
            4,
            4.6,
            4.5,
            4.7,
            3.3,
            4.6,
            3.9,
            3.5,
            4.2,
            4,
            4.7,
            3.6,
            4.4,
            4.5,
            4.1,
            4.5,
            3.9,
            4.8,
            4,
            4.9,
            4.7,
            4.3,
            4.4,
            4.8,
            5,
            4.5,
            3.5,
            3.8,
            3.7,
            3.9,
            5.1,
            4.5,
            4.5,
            4.7,
            4.4,
            4.1,
            4,
            4.4,
            4.6,
            4,
            3.3,
            4.2,
            4.2,
            4.2,
            4.3,
            3,
            4.1,
            6,
            5.1,
            5.9,
            5.6,
            5.8,
            6.6,
            4.5,
            6.3,
            5.8,
            6.1,
            5.1,
            5.3,
            5.5,
            5,
            5.1,
            5.3,
            5.5,
            6.7,
            6.9,
            5,
            5.7,
            4.9,
            6.7,
            4.9,
            5.7,
            6,
            4.8,
            4.9,
            5.6,
            5.8,
            6.1,
            6.4,
            5.6,
            5.1,
            5.6,
            6.1,
            5.6,
            5.5,
            4.8,
            5.4,
            5.6,
            5.1,
            5.1,
            5.9,
            5.7,
            5.2,
            5,
            5.2,
            5.4,
            5.1
           ]
          }
         ],
         "domain": {
          "x": [
           0,
           1
          ],
          "y": [
           0,
           1
          ]
         },
         "line": {
          "color": [
           1,
           1,
           1,
           1,
           1,
           1,
           1,
           1,
           1,
           1,
           1,
           1,
           1,
           1,
           1,
           1,
           1,
           1,
           1,
           1,
           1,
           1,
           1,
           1,
           1,
           1,
           1,
           1,
           1,
           1,
           1,
           1,
           1,
           1,
           1,
           1,
           1,
           1,
           1,
           1,
           1,
           1,
           1,
           1,
           1,
           1,
           1,
           1,
           1,
           1,
           2,
           2,
           2,
           2,
           2,
           2,
           2,
           2,
           2,
           2,
           2,
           2,
           2,
           2,
           2,
           2,
           2,
           2,
           2,
           2,
           2,
           2,
           2,
           2,
           2,
           2,
           2,
           2,
           2,
           2,
           2,
           2,
           2,
           2,
           2,
           2,
           2,
           2,
           2,
           2,
           2,
           2,
           2,
           2,
           2,
           2,
           2,
           2,
           2,
           2,
           3,
           3,
           3,
           3,
           3,
           3,
           3,
           3,
           3,
           3,
           3,
           3,
           3,
           3,
           3,
           3,
           3,
           3,
           3,
           3,
           3,
           3,
           3,
           3,
           3,
           3,
           3,
           3,
           3,
           3,
           3,
           3,
           3,
           3,
           3,
           3,
           3,
           3,
           3,
           3,
           3,
           3,
           3,
           3,
           3,
           3,
           3,
           3,
           3,
           3
          ],
          "coloraxis": "coloraxis"
         },
         "name": "",
         "type": "parcoords"
        }
       ],
       "layout": {
        "coloraxis": {
         "cmid": 2,
         "colorbar": {
          "title": {
           "text": "species_id"
          }
         },
         "colorscale": [
          [
           0,
           "rgb(0, 147, 146)"
          ],
          [
           0.16666666666666666,
           "rgb(114, 170, 161)"
          ],
          [
           0.3333333333333333,
           "rgb(177, 199, 179)"
          ],
          [
           0.5,
           "rgb(241, 234, 200)"
          ],
          [
           0.6666666666666666,
           "rgb(229, 185, 173)"
          ],
          [
           0.8333333333333334,
           "rgb(217, 137, 148)"
          ],
          [
           1,
           "rgb(208, 88, 126)"
          ]
         ]
        },
        "legend": {
         "tracegroupgap": 0
        },
        "margin": {
         "t": 60
        },
        "template": {
         "data": {
          "bar": [
           {
            "error_x": {
             "color": "#2a3f5f"
            },
            "error_y": {
             "color": "#2a3f5f"
            },
            "marker": {
             "line": {
              "color": "#E5ECF6",
              "width": 0.5
             },
             "pattern": {
              "fillmode": "overlay",
              "size": 10,
              "solidity": 0.2
             }
            },
            "type": "bar"
           }
          ],
          "barpolar": [
           {
            "marker": {
             "line": {
              "color": "#E5ECF6",
              "width": 0.5
             },
             "pattern": {
              "fillmode": "overlay",
              "size": 10,
              "solidity": 0.2
             }
            },
            "type": "barpolar"
           }
          ],
          "carpet": [
           {
            "aaxis": {
             "endlinecolor": "#2a3f5f",
             "gridcolor": "white",
             "linecolor": "white",
             "minorgridcolor": "white",
             "startlinecolor": "#2a3f5f"
            },
            "baxis": {
             "endlinecolor": "#2a3f5f",
             "gridcolor": "white",
             "linecolor": "white",
             "minorgridcolor": "white",
             "startlinecolor": "#2a3f5f"
            },
            "type": "carpet"
           }
          ],
          "choropleth": [
           {
            "colorbar": {
             "outlinewidth": 0,
             "ticks": ""
            },
            "type": "choropleth"
           }
          ],
          "contour": [
           {
            "colorbar": {
             "outlinewidth": 0,
             "ticks": ""
            },
            "colorscale": [
             [
              0,
              "#0d0887"
             ],
             [
              0.1111111111111111,
              "#46039f"
             ],
             [
              0.2222222222222222,
              "#7201a8"
             ],
             [
              0.3333333333333333,
              "#9c179e"
             ],
             [
              0.4444444444444444,
              "#bd3786"
             ],
             [
              0.5555555555555556,
              "#d8576b"
             ],
             [
              0.6666666666666666,
              "#ed7953"
             ],
             [
              0.7777777777777778,
              "#fb9f3a"
             ],
             [
              0.8888888888888888,
              "#fdca26"
             ],
             [
              1,
              "#f0f921"
             ]
            ],
            "type": "contour"
           }
          ],
          "contourcarpet": [
           {
            "colorbar": {
             "outlinewidth": 0,
             "ticks": ""
            },
            "type": "contourcarpet"
           }
          ],
          "heatmap": [
           {
            "colorbar": {
             "outlinewidth": 0,
             "ticks": ""
            },
            "colorscale": [
             [
              0,
              "#0d0887"
             ],
             [
              0.1111111111111111,
              "#46039f"
             ],
             [
              0.2222222222222222,
              "#7201a8"
             ],
             [
              0.3333333333333333,
              "#9c179e"
             ],
             [
              0.4444444444444444,
              "#bd3786"
             ],
             [
              0.5555555555555556,
              "#d8576b"
             ],
             [
              0.6666666666666666,
              "#ed7953"
             ],
             [
              0.7777777777777778,
              "#fb9f3a"
             ],
             [
              0.8888888888888888,
              "#fdca26"
             ],
             [
              1,
              "#f0f921"
             ]
            ],
            "type": "heatmap"
           }
          ],
          "heatmapgl": [
           {
            "colorbar": {
             "outlinewidth": 0,
             "ticks": ""
            },
            "colorscale": [
             [
              0,
              "#0d0887"
             ],
             [
              0.1111111111111111,
              "#46039f"
             ],
             [
              0.2222222222222222,
              "#7201a8"
             ],
             [
              0.3333333333333333,
              "#9c179e"
             ],
             [
              0.4444444444444444,
              "#bd3786"
             ],
             [
              0.5555555555555556,
              "#d8576b"
             ],
             [
              0.6666666666666666,
              "#ed7953"
             ],
             [
              0.7777777777777778,
              "#fb9f3a"
             ],
             [
              0.8888888888888888,
              "#fdca26"
             ],
             [
              1,
              "#f0f921"
             ]
            ],
            "type": "heatmapgl"
           }
          ],
          "histogram": [
           {
            "marker": {
             "pattern": {
              "fillmode": "overlay",
              "size": 10,
              "solidity": 0.2
             }
            },
            "type": "histogram"
           }
          ],
          "histogram2d": [
           {
            "colorbar": {
             "outlinewidth": 0,
             "ticks": ""
            },
            "colorscale": [
             [
              0,
              "#0d0887"
             ],
             [
              0.1111111111111111,
              "#46039f"
             ],
             [
              0.2222222222222222,
              "#7201a8"
             ],
             [
              0.3333333333333333,
              "#9c179e"
             ],
             [
              0.4444444444444444,
              "#bd3786"
             ],
             [
              0.5555555555555556,
              "#d8576b"
             ],
             [
              0.6666666666666666,
              "#ed7953"
             ],
             [
              0.7777777777777778,
              "#fb9f3a"
             ],
             [
              0.8888888888888888,
              "#fdca26"
             ],
             [
              1,
              "#f0f921"
             ]
            ],
            "type": "histogram2d"
           }
          ],
          "histogram2dcontour": [
           {
            "colorbar": {
             "outlinewidth": 0,
             "ticks": ""
            },
            "colorscale": [
             [
              0,
              "#0d0887"
             ],
             [
              0.1111111111111111,
              "#46039f"
             ],
             [
              0.2222222222222222,
              "#7201a8"
             ],
             [
              0.3333333333333333,
              "#9c179e"
             ],
             [
              0.4444444444444444,
              "#bd3786"
             ],
             [
              0.5555555555555556,
              "#d8576b"
             ],
             [
              0.6666666666666666,
              "#ed7953"
             ],
             [
              0.7777777777777778,
              "#fb9f3a"
             ],
             [
              0.8888888888888888,
              "#fdca26"
             ],
             [
              1,
              "#f0f921"
             ]
            ],
            "type": "histogram2dcontour"
           }
          ],
          "mesh3d": [
           {
            "colorbar": {
             "outlinewidth": 0,
             "ticks": ""
            },
            "type": "mesh3d"
           }
          ],
          "parcoords": [
           {
            "line": {
             "colorbar": {
              "outlinewidth": 0,
              "ticks": ""
             }
            },
            "type": "parcoords"
           }
          ],
          "pie": [
           {
            "automargin": true,
            "type": "pie"
           }
          ],
          "scatter": [
           {
            "fillpattern": {
             "fillmode": "overlay",
             "size": 10,
             "solidity": 0.2
            },
            "type": "scatter"
           }
          ],
          "scatter3d": [
           {
            "line": {
             "colorbar": {
              "outlinewidth": 0,
              "ticks": ""
             }
            },
            "marker": {
             "colorbar": {
              "outlinewidth": 0,
              "ticks": ""
             }
            },
            "type": "scatter3d"
           }
          ],
          "scattercarpet": [
           {
            "marker": {
             "colorbar": {
              "outlinewidth": 0,
              "ticks": ""
             }
            },
            "type": "scattercarpet"
           }
          ],
          "scattergeo": [
           {
            "marker": {
             "colorbar": {
              "outlinewidth": 0,
              "ticks": ""
             }
            },
            "type": "scattergeo"
           }
          ],
          "scattergl": [
           {
            "marker": {
             "colorbar": {
              "outlinewidth": 0,
              "ticks": ""
             }
            },
            "type": "scattergl"
           }
          ],
          "scattermapbox": [
           {
            "marker": {
             "colorbar": {
              "outlinewidth": 0,
              "ticks": ""
             }
            },
            "type": "scattermapbox"
           }
          ],
          "scatterpolar": [
           {
            "marker": {
             "colorbar": {
              "outlinewidth": 0,
              "ticks": ""
             }
            },
            "type": "scatterpolar"
           }
          ],
          "scatterpolargl": [
           {
            "marker": {
             "colorbar": {
              "outlinewidth": 0,
              "ticks": ""
             }
            },
            "type": "scatterpolargl"
           }
          ],
          "scatterternary": [
           {
            "marker": {
             "colorbar": {
              "outlinewidth": 0,
              "ticks": ""
             }
            },
            "type": "scatterternary"
           }
          ],
          "surface": [
           {
            "colorbar": {
             "outlinewidth": 0,
             "ticks": ""
            },
            "colorscale": [
             [
              0,
              "#0d0887"
             ],
             [
              0.1111111111111111,
              "#46039f"
             ],
             [
              0.2222222222222222,
              "#7201a8"
             ],
             [
              0.3333333333333333,
              "#9c179e"
             ],
             [
              0.4444444444444444,
              "#bd3786"
             ],
             [
              0.5555555555555556,
              "#d8576b"
             ],
             [
              0.6666666666666666,
              "#ed7953"
             ],
             [
              0.7777777777777778,
              "#fb9f3a"
             ],
             [
              0.8888888888888888,
              "#fdca26"
             ],
             [
              1,
              "#f0f921"
             ]
            ],
            "type": "surface"
           }
          ],
          "table": [
           {
            "cells": {
             "fill": {
              "color": "#EBF0F8"
             },
             "line": {
              "color": "white"
             }
            },
            "header": {
             "fill": {
              "color": "#C8D4E3"
             },
             "line": {
              "color": "white"
             }
            },
            "type": "table"
           }
          ]
         },
         "layout": {
          "annotationdefaults": {
           "arrowcolor": "#2a3f5f",
           "arrowhead": 0,
           "arrowwidth": 1
          },
          "autotypenumbers": "strict",
          "coloraxis": {
           "colorbar": {
            "outlinewidth": 0,
            "ticks": ""
           }
          },
          "colorscale": {
           "diverging": [
            [
             0,
             "#8e0152"
            ],
            [
             0.1,
             "#c51b7d"
            ],
            [
             0.2,
             "#de77ae"
            ],
            [
             0.3,
             "#f1b6da"
            ],
            [
             0.4,
             "#fde0ef"
            ],
            [
             0.5,
             "#f7f7f7"
            ],
            [
             0.6,
             "#e6f5d0"
            ],
            [
             0.7,
             "#b8e186"
            ],
            [
             0.8,
             "#7fbc41"
            ],
            [
             0.9,
             "#4d9221"
            ],
            [
             1,
             "#276419"
            ]
           ],
           "sequential": [
            [
             0,
             "#0d0887"
            ],
            [
             0.1111111111111111,
             "#46039f"
            ],
            [
             0.2222222222222222,
             "#7201a8"
            ],
            [
             0.3333333333333333,
             "#9c179e"
            ],
            [
             0.4444444444444444,
             "#bd3786"
            ],
            [
             0.5555555555555556,
             "#d8576b"
            ],
            [
             0.6666666666666666,
             "#ed7953"
            ],
            [
             0.7777777777777778,
             "#fb9f3a"
            ],
            [
             0.8888888888888888,
             "#fdca26"
            ],
            [
             1,
             "#f0f921"
            ]
           ],
           "sequentialminus": [
            [
             0,
             "#0d0887"
            ],
            [
             0.1111111111111111,
             "#46039f"
            ],
            [
             0.2222222222222222,
             "#7201a8"
            ],
            [
             0.3333333333333333,
             "#9c179e"
            ],
            [
             0.4444444444444444,
             "#bd3786"
            ],
            [
             0.5555555555555556,
             "#d8576b"
            ],
            [
             0.6666666666666666,
             "#ed7953"
            ],
            [
             0.7777777777777778,
             "#fb9f3a"
            ],
            [
             0.8888888888888888,
             "#fdca26"
            ],
            [
             1,
             "#f0f921"
            ]
           ]
          },
          "colorway": [
           "#636efa",
           "#EF553B",
           "#00cc96",
           "#ab63fa",
           "#FFA15A",
           "#19d3f3",
           "#FF6692",
           "#B6E880",
           "#FF97FF",
           "#FECB52"
          ],
          "font": {
           "color": "#2a3f5f"
          },
          "geo": {
           "bgcolor": "white",
           "lakecolor": "white",
           "landcolor": "#E5ECF6",
           "showlakes": true,
           "showland": true,
           "subunitcolor": "white"
          },
          "hoverlabel": {
           "align": "left"
          },
          "hovermode": "closest",
          "mapbox": {
           "style": "light"
          },
          "paper_bgcolor": "white",
          "plot_bgcolor": "#E5ECF6",
          "polar": {
           "angularaxis": {
            "gridcolor": "white",
            "linecolor": "white",
            "ticks": ""
           },
           "bgcolor": "#E5ECF6",
           "radialaxis": {
            "gridcolor": "white",
            "linecolor": "white",
            "ticks": ""
           }
          },
          "scene": {
           "xaxis": {
            "backgroundcolor": "#E5ECF6",
            "gridcolor": "white",
            "gridwidth": 2,
            "linecolor": "white",
            "showbackground": true,
            "ticks": "",
            "zerolinecolor": "white"
           },
           "yaxis": {
            "backgroundcolor": "#E5ECF6",
            "gridcolor": "white",
            "gridwidth": 2,
            "linecolor": "white",
            "showbackground": true,
            "ticks": "",
            "zerolinecolor": "white"
           },
           "zaxis": {
            "backgroundcolor": "#E5ECF6",
            "gridcolor": "white",
            "gridwidth": 2,
            "linecolor": "white",
            "showbackground": true,
            "ticks": "",
            "zerolinecolor": "white"
           }
          },
          "shapedefaults": {
           "line": {
            "color": "#2a3f5f"
           }
          },
          "ternary": {
           "aaxis": {
            "gridcolor": "white",
            "linecolor": "white",
            "ticks": ""
           },
           "baxis": {
            "gridcolor": "white",
            "linecolor": "white",
            "ticks": ""
           },
           "bgcolor": "#E5ECF6",
           "caxis": {
            "gridcolor": "white",
            "linecolor": "white",
            "ticks": ""
           }
          },
          "title": {
           "x": 0.05
          },
          "xaxis": {
           "automargin": true,
           "gridcolor": "white",
           "linecolor": "white",
           "ticks": "",
           "title": {
            "standoff": 15
           },
           "zerolinecolor": "white",
           "zerolinewidth": 2
          },
          "yaxis": {
           "automargin": true,
           "gridcolor": "white",
           "linecolor": "white",
           "ticks": "",
           "title": {
            "standoff": 15
           },
           "zerolinecolor": "white",
           "zerolinewidth": 2
          }
         }
        }
       }
      }
     },
     "metadata": {},
     "output_type": "display_data"
    }
   ],
   "source": [
    "fig.show()\n"
   ]
  },
  {
   "cell_type": "code",
   "execution_count": 21,
   "metadata": {},
   "outputs": [
    {
     "data": {
      "text/html": [
       "<div>\n",
       "<style scoped>\n",
       "    .dataframe tbody tr th:only-of-type {\n",
       "        vertical-align: middle;\n",
       "    }\n",
       "\n",
       "    .dataframe tbody tr th {\n",
       "        vertical-align: top;\n",
       "    }\n",
       "\n",
       "    .dataframe thead th {\n",
       "        text-align: right;\n",
       "    }\n",
       "</style>\n",
       "<table border=\"1\" class=\"dataframe\">\n",
       "  <thead>\n",
       "    <tr style=\"text-align: right;\">\n",
       "      <th></th>\n",
       "      <th>from_country</th>\n",
       "      <th>country</th>\n",
       "      <th>from_country_name</th>\n",
       "      <th>country_name</th>\n",
       "      <th>num_years</th>\n",
       "      <th>votes_x</th>\n",
       "      <th>votes_y</th>\n",
       "      <th>votes_diff</th>\n",
       "      <th>group</th>\n",
       "    </tr>\n",
       "  </thead>\n",
       "  <tbody>\n",
       "    <tr>\n",
       "      <th>0</th>\n",
       "      <td>BA</td>\n",
       "      <td>RS</td>\n",
       "      <td>bosnia and herzegovina</td>\n",
       "      <td>serbia</td>\n",
       "      <td>6</td>\n",
       "      <td>11.333333</td>\n",
       "      <td>10.166667</td>\n",
       "      <td>1.166667</td>\n",
       "      <td>lovers</td>\n",
       "    </tr>\n",
       "    <tr>\n",
       "      <th>2</th>\n",
       "      <td>RU</td>\n",
       "      <td>AZ</td>\n",
       "      <td>russia</td>\n",
       "      <td>azerbaijan</td>\n",
       "      <td>10</td>\n",
       "      <td>9.400000</td>\n",
       "      <td>7.900000</td>\n",
       "      <td>1.500000</td>\n",
       "      <td>lovers</td>\n",
       "    </tr>\n",
       "    <tr>\n",
       "      <th>7</th>\n",
       "      <td>SE</td>\n",
       "      <td>AU</td>\n",
       "      <td>sweden</td>\n",
       "      <td>australia</td>\n",
       "      <td>5</td>\n",
       "      <td>8.200000</td>\n",
       "      <td>7.800000</td>\n",
       "      <td>0.400000</td>\n",
       "      <td>lovers</td>\n",
       "    </tr>\n",
       "    <tr>\n",
       "      <th>10</th>\n",
       "      <td>BG</td>\n",
       "      <td>AT</td>\n",
       "      <td>bulgaria</td>\n",
       "      <td>austria</td>\n",
       "      <td>4</td>\n",
       "      <td>7.500000</td>\n",
       "      <td>4.750000</td>\n",
       "      <td>2.750000</td>\n",
       "      <td>lovers</td>\n",
       "    </tr>\n",
       "    <tr>\n",
       "      <th>15</th>\n",
       "      <td>SI</td>\n",
       "      <td>MK</td>\n",
       "      <td>slovenia</td>\n",
       "      <td>f.y.r. macedonia</td>\n",
       "      <td>7</td>\n",
       "      <td>6.285714</td>\n",
       "      <td>4.000000</td>\n",
       "      <td>2.285714</td>\n",
       "      <td>lovers</td>\n",
       "    </tr>\n",
       "    <tr>\n",
       "      <th>174</th>\n",
       "      <td>AL</td>\n",
       "      <td>LT</td>\n",
       "      <td>albania</td>\n",
       "      <td>lithuania</td>\n",
       "      <td>9</td>\n",
       "      <td>0.111111</td>\n",
       "      <td>0.000000</td>\n",
       "      <td>0.111111</td>\n",
       "      <td>haters</td>\n",
       "    </tr>\n",
       "    <tr>\n",
       "      <th>169</th>\n",
       "      <td>IS</td>\n",
       "      <td>GE</td>\n",
       "      <td>iceland</td>\n",
       "      <td>georgia</td>\n",
       "      <td>7</td>\n",
       "      <td>0.285714</td>\n",
       "      <td>0.000000</td>\n",
       "      <td>0.285714</td>\n",
       "      <td>haters</td>\n",
       "    </tr>\n",
       "    <tr>\n",
       "      <th>161</th>\n",
       "      <td>RS</td>\n",
       "      <td>TR</td>\n",
       "      <td>serbia</td>\n",
       "      <td>turkey</td>\n",
       "      <td>5</td>\n",
       "      <td>0.600000</td>\n",
       "      <td>0.000000</td>\n",
       "      <td>0.600000</td>\n",
       "      <td>haters</td>\n",
       "    </tr>\n",
       "    <tr>\n",
       "      <th>147</th>\n",
       "      <td>BY</td>\n",
       "      <td>SI</td>\n",
       "      <td>belarus</td>\n",
       "      <td>slovenia</td>\n",
       "      <td>6</td>\n",
       "      <td>0.833333</td>\n",
       "      <td>0.000000</td>\n",
       "      <td>0.833333</td>\n",
       "      <td>haters</td>\n",
       "    </tr>\n",
       "    <tr>\n",
       "      <th>138</th>\n",
       "      <td>LT</td>\n",
       "      <td>IL</td>\n",
       "      <td>lithuania</td>\n",
       "      <td>israel</td>\n",
       "      <td>13</td>\n",
       "      <td>1.000000</td>\n",
       "      <td>0.769231</td>\n",
       "      <td>0.230769</td>\n",
       "      <td>haters</td>\n",
       "    </tr>\n",
       "    <tr>\n",
       "      <th>6</th>\n",
       "      <td>TR</td>\n",
       "      <td>AM</td>\n",
       "      <td>turkey</td>\n",
       "      <td>armenia</td>\n",
       "      <td>5</td>\n",
       "      <td>8.800000</td>\n",
       "      <td>0.800000</td>\n",
       "      <td>8.000000</td>\n",
       "      <td>unequals</td>\n",
       "    </tr>\n",
       "    <tr>\n",
       "      <th>3</th>\n",
       "      <td>CH</td>\n",
       "      <td>PT</td>\n",
       "      <td>switzerland</td>\n",
       "      <td>portugal</td>\n",
       "      <td>5</td>\n",
       "      <td>9.400000</td>\n",
       "      <td>2.800000</td>\n",
       "      <td>6.600000</td>\n",
       "      <td>unequals</td>\n",
       "    </tr>\n",
       "    <tr>\n",
       "      <th>11</th>\n",
       "      <td>ES</td>\n",
       "      <td>IT</td>\n",
       "      <td>spain</td>\n",
       "      <td>italy</td>\n",
       "      <td>9</td>\n",
       "      <td>7.444444</td>\n",
       "      <td>1.333333</td>\n",
       "      <td>6.111111</td>\n",
       "      <td>unequals</td>\n",
       "    </tr>\n",
       "    <tr>\n",
       "      <th>12</th>\n",
       "      <td>FR</td>\n",
       "      <td>IT</td>\n",
       "      <td>france</td>\n",
       "      <td>italy</td>\n",
       "      <td>9</td>\n",
       "      <td>7.222222</td>\n",
       "      <td>1.666667</td>\n",
       "      <td>5.555556</td>\n",
       "      <td>unequals</td>\n",
       "    </tr>\n",
       "    <tr>\n",
       "      <th>17</th>\n",
       "      <td>IT</td>\n",
       "      <td>UA</td>\n",
       "      <td>italy</td>\n",
       "      <td>ukraine</td>\n",
       "      <td>7</td>\n",
       "      <td>6.142857</td>\n",
       "      <td>0.857143</td>\n",
       "      <td>5.285714</td>\n",
       "      <td>unequals</td>\n",
       "    </tr>\n",
       "  </tbody>\n",
       "</table>\n",
       "</div>"
      ],
      "text/plain": [
       "    from_country country       from_country_name      country_name  num_years  \\\n",
       "0             BA      RS  bosnia and herzegovina            serbia          6   \n",
       "2             RU      AZ                  russia        azerbaijan         10   \n",
       "7             SE      AU                  sweden         australia          5   \n",
       "10            BG      AT                bulgaria           austria          4   \n",
       "15            SI      MK                slovenia  f.y.r. macedonia          7   \n",
       "174           AL      LT                 albania         lithuania          9   \n",
       "169           IS      GE                 iceland           georgia          7   \n",
       "161           RS      TR                  serbia            turkey          5   \n",
       "147           BY      SI                 belarus          slovenia          6   \n",
       "138           LT      IL               lithuania            israel         13   \n",
       "6             TR      AM                  turkey           armenia          5   \n",
       "3             CH      PT             switzerland          portugal          5   \n",
       "11            ES      IT                   spain             italy          9   \n",
       "12            FR      IT                  france             italy          9   \n",
       "17            IT      UA                   italy           ukraine          7   \n",
       "\n",
       "       votes_x    votes_y  votes_diff     group  \n",
       "0    11.333333  10.166667    1.166667    lovers  \n",
       "2     9.400000   7.900000    1.500000    lovers  \n",
       "7     8.200000   7.800000    0.400000    lovers  \n",
       "10    7.500000   4.750000    2.750000    lovers  \n",
       "15    6.285714   4.000000    2.285714    lovers  \n",
       "174   0.111111   0.000000    0.111111    haters  \n",
       "169   0.285714   0.000000    0.285714    haters  \n",
       "161   0.600000   0.000000    0.600000    haters  \n",
       "147   0.833333   0.000000    0.833333    haters  \n",
       "138   1.000000   0.769231    0.230769    haters  \n",
       "6     8.800000   0.800000    8.000000  unequals  \n",
       "3     9.400000   2.800000    6.600000  unequals  \n",
       "11    7.444444   1.333333    6.111111  unequals  \n",
       "12    7.222222   1.666667    5.555556  unequals  \n",
       "17    6.142857   0.857143    5.285714  unequals  "
      ]
     },
     "execution_count": 21,
     "metadata": {},
     "output_type": "execute_result"
    }
   ],
   "source": [
    "top_relationships"
   ]
  },
  {
   "cell_type": "code",
   "execution_count": 20,
   "metadata": {},
   "outputs": [
    {
     "ename": "ValueError",
     "evalue": "\n    Invalid element(s) received for the 'color' property of parcoords.line\n        Invalid elements include: ['lovers', 'lovers', 'lovers', 'lovers', 'lovers', 'haters', 'haters', 'haters', 'haters', 'haters']\n\n    The 'color' property is a color and may be specified as:\n      - A hex string (e.g. '#ff0000')\n      - An rgb/rgba string (e.g. 'rgb(255,0,0)')\n      - An hsl/hsla string (e.g. 'hsl(0,100%,50%)')\n      - An hsv/hsva string (e.g. 'hsv(0,100%,100%)')\n      - A named CSS color:\n            aliceblue, antiquewhite, aqua, aquamarine, azure,\n            beige, bisque, black, blanchedalmond, blue,\n            blueviolet, brown, burlywood, cadetblue,\n            chartreuse, chocolate, coral, cornflowerblue,\n            cornsilk, crimson, cyan, darkblue, darkcyan,\n            darkgoldenrod, darkgray, darkgrey, darkgreen,\n            darkkhaki, darkmagenta, darkolivegreen, darkorange,\n            darkorchid, darkred, darksalmon, darkseagreen,\n            darkslateblue, darkslategray, darkslategrey,\n            darkturquoise, darkviolet, deeppink, deepskyblue,\n            dimgray, dimgrey, dodgerblue, firebrick,\n            floralwhite, forestgreen, fuchsia, gainsboro,\n            ghostwhite, gold, goldenrod, gray, grey, green,\n            greenyellow, honeydew, hotpink, indianred, indigo,\n            ivory, khaki, lavender, lavenderblush, lawngreen,\n            lemonchiffon, lightblue, lightcoral, lightcyan,\n            lightgoldenrodyellow, lightgray, lightgrey,\n            lightgreen, lightpink, lightsalmon, lightseagreen,\n            lightskyblue, lightslategray, lightslategrey,\n            lightsteelblue, lightyellow, lime, limegreen,\n            linen, magenta, maroon, mediumaquamarine,\n            mediumblue, mediumorchid, mediumpurple,\n            mediumseagreen, mediumslateblue, mediumspringgreen,\n            mediumturquoise, mediumvioletred, midnightblue,\n            mintcream, mistyrose, moccasin, navajowhite, navy,\n            oldlace, olive, olivedrab, orange, orangered,\n            orchid, palegoldenrod, palegreen, paleturquoise,\n            palevioletred, papayawhip, peachpuff, peru, pink,\n            plum, powderblue, purple, red, rosybrown,\n            royalblue, rebeccapurple, saddlebrown, salmon,\n            sandybrown, seagreen, seashell, sienna, silver,\n            skyblue, slateblue, slategray, slategrey, snow,\n            springgreen, steelblue, tan, teal, thistle, tomato,\n            turquoise, violet, wheat, white, whitesmoke,\n            yellow, yellowgreen\n      - A number that will be interpreted as a color\n        according to parcoords.line.colorscale\n      - A list or array of any of the above",
     "output_type": "error",
     "traceback": [
      "\u001b[0;31m---------------------------------------------------------------------------\u001b[0m",
      "\u001b[0;31mValueError\u001b[0m                                Traceback (most recent call last)",
      "Cell \u001b[0;32mIn[20], line 1\u001b[0m\n\u001b[0;32m----> 1\u001b[0m fig \u001b[39m=\u001b[39m px\u001b[39m.\u001b[39;49mparallel_coordinates(\n\u001b[1;32m      2\u001b[0m     top_relationships, \n\u001b[1;32m      3\u001b[0m     color\u001b[39m=\u001b[39;49m\u001b[39m\"\u001b[39;49m\u001b[39mgroup\u001b[39;49m\u001b[39m\"\u001b[39;49m, \n\u001b[1;32m      4\u001b[0m     dimensions\u001b[39m=\u001b[39;49m[\u001b[39m\"\u001b[39;49m\u001b[39mvotes_x\u001b[39;49m\u001b[39m\"\u001b[39;49m, \u001b[39m\"\u001b[39;49m\u001b[39mvotes_y\u001b[39;49m\u001b[39m\"\u001b[39;49m],\n\u001b[1;32m      5\u001b[0m     \u001b[39m#labels={\"species_id\": \"Species\",\"sepal_width\": \"Sepal Width\", \"sepal_length\": \"Sepal Length\", \"petal_width\": \"Petal Width\", \"petal_length\": \"Petal Length\", },\u001b[39;49;00m\n\u001b[1;32m      6\u001b[0m     \u001b[39m#color_continuous_scale=px.colors.diverging.Tealrose,\u001b[39;49;00m\n\u001b[1;32m      7\u001b[0m     \u001b[39m#color_continuous_midpoint=2\u001b[39;49;00m\n\u001b[1;32m      8\u001b[0m     )\n",
      "File \u001b[0;32m~/miniconda3/envs/eurovision/lib/python3.8/site-packages/plotly/express/_chart_types.py:1418\u001b[0m, in \u001b[0;36mparallel_coordinates\u001b[0;34m(data_frame, dimensions, color, labels, color_continuous_scale, range_color, color_continuous_midpoint, title, template, width, height)\u001b[0m\n\u001b[1;32m   1400\u001b[0m \u001b[39mdef\u001b[39;00m \u001b[39mparallel_coordinates\u001b[39m(\n\u001b[1;32m   1401\u001b[0m     data_frame\u001b[39m=\u001b[39m\u001b[39mNone\u001b[39;00m,\n\u001b[1;32m   1402\u001b[0m     dimensions\u001b[39m=\u001b[39m\u001b[39mNone\u001b[39;00m,\n\u001b[0;32m   (...)\u001b[0m\n\u001b[1;32m   1411\u001b[0m     height\u001b[39m=\u001b[39m\u001b[39mNone\u001b[39;00m,\n\u001b[1;32m   1412\u001b[0m ) \u001b[39m-\u001b[39m\u001b[39m>\u001b[39m go\u001b[39m.\u001b[39mFigure:\n\u001b[1;32m   1413\u001b[0m \u001b[39m    \u001b[39m\u001b[39m\"\"\"\u001b[39;00m\n\u001b[1;32m   1414\u001b[0m \u001b[39m    In a parallel coordinates plot, each row of `data_frame` is represented\u001b[39;00m\n\u001b[1;32m   1415\u001b[0m \u001b[39m    by a polyline mark which traverses a set of parallel axes, one for each\u001b[39;00m\n\u001b[1;32m   1416\u001b[0m \u001b[39m    of the `dimensions`.\u001b[39;00m\n\u001b[1;32m   1417\u001b[0m \u001b[39m    \"\"\"\u001b[39;00m\n\u001b[0;32m-> 1418\u001b[0m     \u001b[39mreturn\u001b[39;00m make_figure(args\u001b[39m=\u001b[39;49m\u001b[39mlocals\u001b[39;49m(), constructor\u001b[39m=\u001b[39;49mgo\u001b[39m.\u001b[39;49mParcoords)\n",
      "File \u001b[0;32m~/miniconda3/envs/eurovision/lib/python3.8/site-packages/plotly/express/_core.py:2171\u001b[0m, in \u001b[0;36mmake_figure\u001b[0;34m(args, constructor, trace_patch, layout_patch)\u001b[0m\n\u001b[1;32m   2166\u001b[0m         group[var] \u001b[39m=\u001b[39m \u001b[39m100.0\u001b[39m \u001b[39m*\u001b[39m group[var] \u001b[39m/\u001b[39m group_sum\n\u001b[1;32m   2168\u001b[0m patch, fit_results \u001b[39m=\u001b[39m make_trace_kwargs(\n\u001b[1;32m   2169\u001b[0m     args, trace_spec, group, mapping_labels\u001b[39m.\u001b[39mcopy(), sizeref\n\u001b[1;32m   2170\u001b[0m )\n\u001b[0;32m-> 2171\u001b[0m trace\u001b[39m.\u001b[39;49mupdate(patch)\n\u001b[1;32m   2172\u001b[0m \u001b[39mif\u001b[39;00m fit_results \u001b[39mis\u001b[39;00m \u001b[39mnot\u001b[39;00m \u001b[39mNone\u001b[39;00m:\n\u001b[1;32m   2173\u001b[0m     trendline_rows\u001b[39m.\u001b[39mappend(mapping_labels\u001b[39m.\u001b[39mcopy())\n",
      "File \u001b[0;32m~/miniconda3/envs/eurovision/lib/python3.8/site-packages/plotly/basedatatypes.py:5116\u001b[0m, in \u001b[0;36mBasePlotlyType.update\u001b[0;34m(self, dict1, overwrite, **kwargs)\u001b[0m\n\u001b[1;32m   5114\u001b[0m         BaseFigure\u001b[39m.\u001b[39m_perform_update(\u001b[39mself\u001b[39m, kwargs, overwrite\u001b[39m=\u001b[39moverwrite)\n\u001b[1;32m   5115\u001b[0m \u001b[39melse\u001b[39;00m:\n\u001b[0;32m-> 5116\u001b[0m     BaseFigure\u001b[39m.\u001b[39;49m_perform_update(\u001b[39mself\u001b[39;49m, dict1, overwrite\u001b[39m=\u001b[39;49moverwrite)\n\u001b[1;32m   5117\u001b[0m     BaseFigure\u001b[39m.\u001b[39m_perform_update(\u001b[39mself\u001b[39m, kwargs, overwrite\u001b[39m=\u001b[39moverwrite)\n\u001b[1;32m   5119\u001b[0m \u001b[39mreturn\u001b[39;00m \u001b[39mself\u001b[39m\n",
      "File \u001b[0;32m~/miniconda3/envs/eurovision/lib/python3.8/site-packages/plotly/basedatatypes.py:3900\u001b[0m, in \u001b[0;36mBaseFigure._perform_update\u001b[0;34m(plotly_obj, update_obj, overwrite)\u001b[0m\n\u001b[1;32m   3894\u001b[0m validator \u001b[39m=\u001b[39m plotly_obj\u001b[39m.\u001b[39m_get_prop_validator(key)\n\u001b[1;32m   3896\u001b[0m \u001b[39mif\u001b[39;00m \u001b[39misinstance\u001b[39m(validator, CompoundValidator) \u001b[39mand\u001b[39;00m \u001b[39misinstance\u001b[39m(val, \u001b[39mdict\u001b[39m):\n\u001b[1;32m   3897\u001b[0m \n\u001b[1;32m   3898\u001b[0m     \u001b[39m# Update compound objects recursively\u001b[39;00m\n\u001b[1;32m   3899\u001b[0m     \u001b[39m# plotly_obj[key].update(val)\u001b[39;00m\n\u001b[0;32m-> 3900\u001b[0m     BaseFigure\u001b[39m.\u001b[39;49m_perform_update(plotly_obj[key], val)\n\u001b[1;32m   3901\u001b[0m \u001b[39melif\u001b[39;00m \u001b[39misinstance\u001b[39m(validator, CompoundArrayValidator):\n\u001b[1;32m   3902\u001b[0m     \u001b[39mif\u001b[39;00m plotly_obj[key]:\n\u001b[1;32m   3903\u001b[0m         \u001b[39m# plotly_obj has an existing non-empty array for key\u001b[39;00m\n\u001b[1;32m   3904\u001b[0m         \u001b[39m# In this case we merge val into the existing elements\u001b[39;00m\n",
      "File \u001b[0;32m~/miniconda3/envs/eurovision/lib/python3.8/site-packages/plotly/basedatatypes.py:3921\u001b[0m, in \u001b[0;36mBaseFigure._perform_update\u001b[0;34m(plotly_obj, update_obj, overwrite)\u001b[0m\n\u001b[1;32m   3918\u001b[0m                 plotly_obj[key] \u001b[39m=\u001b[39m val\n\u001b[1;32m   3919\u001b[0m         \u001b[39melse\u001b[39;00m:\n\u001b[1;32m   3920\u001b[0m             \u001b[39m# Assign non-compound value\u001b[39;00m\n\u001b[0;32m-> 3921\u001b[0m             plotly_obj[key] \u001b[39m=\u001b[39m val\n\u001b[1;32m   3923\u001b[0m \u001b[39melif\u001b[39;00m \u001b[39misinstance\u001b[39m(plotly_obj, \u001b[39mtuple\u001b[39m):\n\u001b[1;32m   3925\u001b[0m     \u001b[39mif\u001b[39;00m \u001b[39mlen\u001b[39m(update_obj) \u001b[39m==\u001b[39m \u001b[39m0\u001b[39m:\n\u001b[1;32m   3926\u001b[0m         \u001b[39m# Nothing to do\u001b[39;00m\n",
      "File \u001b[0;32m~/miniconda3/envs/eurovision/lib/python3.8/site-packages/plotly/basedatatypes.py:4851\u001b[0m, in \u001b[0;36mBasePlotlyType.__setitem__\u001b[0;34m(self, prop, value)\u001b[0m\n\u001b[1;32m   4847\u001b[0m         \u001b[39mself\u001b[39m\u001b[39m.\u001b[39m_set_array_prop(prop, value)\n\u001b[1;32m   4849\u001b[0m     \u001b[39m# ### Handle simple property ###\u001b[39;00m\n\u001b[1;32m   4850\u001b[0m     \u001b[39melse\u001b[39;00m:\n\u001b[0;32m-> 4851\u001b[0m         \u001b[39mself\u001b[39;49m\u001b[39m.\u001b[39;49m_set_prop(prop, value)\n\u001b[1;32m   4852\u001b[0m \u001b[39melse\u001b[39;00m:\n\u001b[1;32m   4853\u001b[0m     \u001b[39m# Make sure properties dict is initialized\u001b[39;00m\n\u001b[1;32m   4854\u001b[0m     \u001b[39mself\u001b[39m\u001b[39m.\u001b[39m_init_props()\n",
      "File \u001b[0;32m~/miniconda3/envs/eurovision/lib/python3.8/site-packages/plotly/basedatatypes.py:5195\u001b[0m, in \u001b[0;36mBasePlotlyType._set_prop\u001b[0;34m(self, prop, val)\u001b[0m\n\u001b[1;32m   5193\u001b[0m         \u001b[39mreturn\u001b[39;00m\n\u001b[1;32m   5194\u001b[0m     \u001b[39melse\u001b[39;00m:\n\u001b[0;32m-> 5195\u001b[0m         \u001b[39mraise\u001b[39;00m err\n\u001b[1;32m   5197\u001b[0m \u001b[39m# val is None\u001b[39;00m\n\u001b[1;32m   5198\u001b[0m \u001b[39m# -----------\u001b[39;00m\n\u001b[1;32m   5199\u001b[0m \u001b[39mif\u001b[39;00m val \u001b[39mis\u001b[39;00m \u001b[39mNone\u001b[39;00m:\n\u001b[1;32m   5200\u001b[0m     \u001b[39m# Check if we should send null update\u001b[39;00m\n",
      "File \u001b[0;32m~/miniconda3/envs/eurovision/lib/python3.8/site-packages/plotly/basedatatypes.py:5190\u001b[0m, in \u001b[0;36mBasePlotlyType._set_prop\u001b[0;34m(self, prop, val)\u001b[0m\n\u001b[1;32m   5187\u001b[0m validator \u001b[39m=\u001b[39m \u001b[39mself\u001b[39m\u001b[39m.\u001b[39m_get_validator(prop)\n\u001b[1;32m   5189\u001b[0m \u001b[39mtry\u001b[39;00m:\n\u001b[0;32m-> 5190\u001b[0m     val \u001b[39m=\u001b[39m validator\u001b[39m.\u001b[39;49mvalidate_coerce(val)\n\u001b[1;32m   5191\u001b[0m \u001b[39mexcept\u001b[39;00m \u001b[39mValueError\u001b[39;00m \u001b[39mas\u001b[39;00m err:\n\u001b[1;32m   5192\u001b[0m     \u001b[39mif\u001b[39;00m \u001b[39mself\u001b[39m\u001b[39m.\u001b[39m_skip_invalid:\n",
      "File \u001b[0;32m~/miniconda3/envs/eurovision/lib/python3.8/site-packages/_plotly_utils/basevalidators.py:1355\u001b[0m, in \u001b[0;36mColorValidator.validate_coerce\u001b[0;34m(self, v, should_raise)\u001b[0m\n\u001b[1;32m   1352\u001b[0m invalid_els \u001b[39m=\u001b[39m \u001b[39mself\u001b[39m\u001b[39m.\u001b[39mfind_invalid_els(v, validated_v)\n\u001b[1;32m   1354\u001b[0m \u001b[39mif\u001b[39;00m invalid_els \u001b[39mand\u001b[39;00m should_raise:\n\u001b[0;32m-> 1355\u001b[0m     \u001b[39mself\u001b[39;49m\u001b[39m.\u001b[39;49mraise_invalid_elements(invalid_els)\n\u001b[1;32m   1357\u001b[0m \u001b[39m# ### Check that elements have valid colors types ###\u001b[39;00m\n\u001b[1;32m   1358\u001b[0m \u001b[39melif\u001b[39;00m \u001b[39mself\u001b[39m\u001b[39m.\u001b[39mnumbers_allowed() \u001b[39mor\u001b[39;00m invalid_els:\n",
      "File \u001b[0;32m~/miniconda3/envs/eurovision/lib/python3.8/site-packages/_plotly_utils/basevalidators.py:304\u001b[0m, in \u001b[0;36mBaseValidator.raise_invalid_elements\u001b[0;34m(self, invalid_els)\u001b[0m\n\u001b[1;32m    302\u001b[0m     \u001b[39mdef\u001b[39;00m \u001b[39mraise_invalid_elements\u001b[39m(\u001b[39mself\u001b[39m, invalid_els):\n\u001b[1;32m    303\u001b[0m         \u001b[39mif\u001b[39;00m invalid_els:\n\u001b[0;32m--> 304\u001b[0m             \u001b[39mraise\u001b[39;00m \u001b[39mValueError\u001b[39;00m(\n\u001b[1;32m    305\u001b[0m \u001b[39m                \u001b[39m\u001b[39m\"\"\"\u001b[39;00m\n\u001b[1;32m    306\u001b[0m \u001b[39m    Invalid element(s) received for the '{name}' property of {pname}\u001b[39;00m\n\u001b[1;32m    307\u001b[0m \u001b[39m        Invalid elements include: {invalid}\u001b[39;00m\n\u001b[1;32m    308\u001b[0m \n\u001b[1;32m    309\u001b[0m \u001b[39m{valid_clr_desc}\"\"\"\u001b[39;00m\u001b[39m.\u001b[39mformat(\n\u001b[1;32m    310\u001b[0m                     name\u001b[39m=\u001b[39m\u001b[39mself\u001b[39m\u001b[39m.\u001b[39mplotly_name,\n\u001b[1;32m    311\u001b[0m                     pname\u001b[39m=\u001b[39m\u001b[39mself\u001b[39m\u001b[39m.\u001b[39mparent_name,\n\u001b[1;32m    312\u001b[0m                     invalid\u001b[39m=\u001b[39minvalid_els[:\u001b[39m10\u001b[39m],\n\u001b[1;32m    313\u001b[0m                     valid_clr_desc\u001b[39m=\u001b[39m\u001b[39mself\u001b[39m\u001b[39m.\u001b[39mdescription(),\n\u001b[1;32m    314\u001b[0m                 )\n\u001b[1;32m    315\u001b[0m             )\n",
      "\u001b[0;31mValueError\u001b[0m: \n    Invalid element(s) received for the 'color' property of parcoords.line\n        Invalid elements include: ['lovers', 'lovers', 'lovers', 'lovers', 'lovers', 'haters', 'haters', 'haters', 'haters', 'haters']\n\n    The 'color' property is a color and may be specified as:\n      - A hex string (e.g. '#ff0000')\n      - An rgb/rgba string (e.g. 'rgb(255,0,0)')\n      - An hsl/hsla string (e.g. 'hsl(0,100%,50%)')\n      - An hsv/hsva string (e.g. 'hsv(0,100%,100%)')\n      - A named CSS color:\n            aliceblue, antiquewhite, aqua, aquamarine, azure,\n            beige, bisque, black, blanchedalmond, blue,\n            blueviolet, brown, burlywood, cadetblue,\n            chartreuse, chocolate, coral, cornflowerblue,\n            cornsilk, crimson, cyan, darkblue, darkcyan,\n            darkgoldenrod, darkgray, darkgrey, darkgreen,\n            darkkhaki, darkmagenta, darkolivegreen, darkorange,\n            darkorchid, darkred, darksalmon, darkseagreen,\n            darkslateblue, darkslategray, darkslategrey,\n            darkturquoise, darkviolet, deeppink, deepskyblue,\n            dimgray, dimgrey, dodgerblue, firebrick,\n            floralwhite, forestgreen, fuchsia, gainsboro,\n            ghostwhite, gold, goldenrod, gray, grey, green,\n            greenyellow, honeydew, hotpink, indianred, indigo,\n            ivory, khaki, lavender, lavenderblush, lawngreen,\n            lemonchiffon, lightblue, lightcoral, lightcyan,\n            lightgoldenrodyellow, lightgray, lightgrey,\n            lightgreen, lightpink, lightsalmon, lightseagreen,\n            lightskyblue, lightslategray, lightslategrey,\n            lightsteelblue, lightyellow, lime, limegreen,\n            linen, magenta, maroon, mediumaquamarine,\n            mediumblue, mediumorchid, mediumpurple,\n            mediumseagreen, mediumslateblue, mediumspringgreen,\n            mediumturquoise, mediumvioletred, midnightblue,\n            mintcream, mistyrose, moccasin, navajowhite, navy,\n            oldlace, olive, olivedrab, orange, orangered,\n            orchid, palegoldenrod, palegreen, paleturquoise,\n            palevioletred, papayawhip, peachpuff, peru, pink,\n            plum, powderblue, purple, red, rosybrown,\n            royalblue, rebeccapurple, saddlebrown, salmon,\n            sandybrown, seagreen, seashell, sienna, silver,\n            skyblue, slateblue, slategray, slategrey, snow,\n            springgreen, steelblue, tan, teal, thistle, tomato,\n            turquoise, violet, wheat, white, whitesmoke,\n            yellow, yellowgreen\n      - A number that will be interpreted as a color\n        according to parcoords.line.colorscale\n      - A list or array of any of the above"
     ]
    }
   ],
   "source": [
    "fig = px.parallel_coordinates(\n",
    "    top_relationships, \n",
    "    color=\"group\", \n",
    "    dimensions=[\"votes_x\", \"votes_y\"],\n",
    "    #labels={\"species_id\": \"Species\",\"sepal_width\": \"Sepal Width\", \"sepal_length\": \"Sepal Length\", \"petal_width\": \"Petal Width\", \"petal_length\": \"Petal Length\", },\n",
    "    #color_continuous_scale=px.colors.diverging.Tealrose,\n",
    "    #color_continuous_midpoint=2\n",
    "    )"
   ]
  },
  {
   "cell_type": "code",
   "execution_count": null,
   "metadata": {},
   "outputs": [],
   "source": []
  }
 ],
 "metadata": {
  "kernelspec": {
   "display_name": "eurovision",
   "language": "python",
   "name": "python3"
  },
  "language_info": {
   "codemirror_mode": {
    "name": "ipython",
    "version": 3
   },
   "file_extension": ".py",
   "mimetype": "text/x-python",
   "name": "python",
   "nbconvert_exporter": "python",
   "pygments_lexer": "ipython3",
   "version": "3.8.16"
  },
  "orig_nbformat": 4,
  "vscode": {
   "interpreter": {
    "hash": "81985292f2479c0598f4ce542067617073cff00fa38498103a742104f2a9c6ae"
   }
  }
 },
 "nbformat": 4,
 "nbformat_minor": 2
}
