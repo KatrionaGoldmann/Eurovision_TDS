{
 "cells": [
  {
   "attachments": {},
   "cell_type": "markdown",
   "metadata": {},
   "source": [
    "# Eurovision Turing Data Story\n",
    "\n",
    "> Exploring (non-musical) factors contributing to Eurovision votes in the past 25 years.\n",
    "\n",
    "- toc: false\n",
    "- categories: [list, of, tags] (see previously used tags [here](https://alan-turing-institute.github.io/TuringDataStories-fastpages/categories/))\n",
    "- author(s): list authors\n",
    "- image: images/story_previews/<file here>\n",
    "\n",
    "Authors\n",
    " - Ed Chapman\n",
    " - Katriona Goldmann\n",
    " - Radka Jersakova\n",
    " - David Llewellyn-Jones\n",
    " - Joe Palmer\n",
    " - Camila Rangel Smith\n",
    " - Martin Stoffel\n",
    " - Jonathan Yong\n",
    " \n",
    " **Reviewers:**\n",
    "- Reviewer 1\n",
    "- Reviewer 2"
   ]
  },
  {
   "attachments": {},
   "cell_type": "markdown",
   "metadata": {},
   "source": [
    "# Introduction\n",
    "\n",
    "The Eurovision Song Contest, or *Eurovision* for short, is an annual competition featuring (mostly) European countries. It is in fact the longest running international televised music competitions, having started in 1951 as what was then seen as a technical experiment in transnational live broadcasting. The competition has continued every year since &mdash; except in 2020 when it was cancelled, [much to Iceland's chagrin](https://youtu.be/1HU7ocv3S2o), due to the pandemic &dash; and has grown in terms of number of countries participating, musical variety, visual flair and (some might say) fantastical preposterousness.\n",
    "\n",
    "Despite the name, the Eurovision Song Content is neither about Europe, nor Singing. According to the Eurovision website, the European Broadcasting Union which runs the contest is made up of \"56 countries and an additional 31 Associates in Asia, Africa, Australasia and the Americas\". The contest itself is billed as a *songwriting* competition.\n",
    "\n",
    "There are [strict requirements](https://eurovision.tv/about/rules) that songs and performers must comply with. Songs must be original; under three minutes long; sung live without lip syncing and with no live plugging instruments.\n",
    "\n",
    "Typically the winning country is expected to host the technically challenging and costly event the following year (a 'prize' that [allegedly led to](https://www.irelandbeforeyoudie.com/why-ireland-stopped-winning-eurovision/) Ireland entering sub-par acts for at least a decade in a deliberate attempt to avoid winning). As many readers will no-doubt be aware, in 2022 the competition was won by Kalush Orchestra from Ukraine, with their song [Stefania](https://youtu.be/F1fl60ypdLs). This would ordinarily mean the 2023 event would be held in Ukraine, however this was deemed unsafe in light of the Russian invasion. The UK (the 2022 runners-up) therefore stepped in, meaning that this year's contest will be held in Liverpool, on 9–13 May 2023.\n",
    "\n",
    "The seventy-year history of the event means there is now a large body of data about it to work with, as well as a large number of great songs to listen to. As you work through this Turing Data Story, we strongly recommend you listen to some of the great Eurovision masterpieces as your backing track, from the likes of [Celine Dion](https://youtu.be/w6b7BHGkKQA), [Bucks Fizz](https://youtu.be/h4-lKMGII_k), [Lordi](https://youtu.be/gAh9NRGNhUU), [Loreen](https://youtu.be/Pfo-8z86x80) and of course [Abba](https://youtu.be/Vp1_OKawHYw).\n",
    "\n",
    "<center>\n",
    "    <img alt=\"meme comparing what I think I look like discussing eurovision: two men casually talking to sofa; to what I actually look like: Charlie Kelly looking wild-eyed in front of a peg board full of conspiracy connections\" src=\"eurovision_meme.jpeg\" />\n",
    "</center>\n",
    "\n",
    "In the current format, participating countries first take part in a semifinal; the top 10 from each semifinal qualify for the finals.\n",
    "The host country, as well as the \"Big Five\" (France, Germany, Italy, Spain, and the UK, which make greater financial contributions), directly qualify for the finals.\n",
    "\n",
    "Our aim with this Story has been to try to uncover some of the hidden mysteries of Eurovision voting, and also to make some predictions &mdash; based purely on this data &mdash; for which countries are likely to fare well, and which less well, at this year's contest. We have pooled data from a number of different sources with the aim of understanding trends in the contest voting patterns. Our ultimate goal is to use this dataset to predict the winners of the [2023 event in Liverpool](https://eurovision.tv/event/liverpool-2023).\n",
    "\n",
    "We have pooled data from a number of different sources with the aim of understanding trends in the contest voting patterns. We have also tried to make the data as accessible as possible. The curated data frame is available in the `data/df_main.csv` file, and the code to create this dataset is in `data.ipynb`.\n",
    "\n",
    "Our goal is to use this dataset to predict the winners of the [2023 event in Liverpool](https://eurovision.tv/event/liverpool-2023).\n",
    "\n",
    "We will start by exploring the data we have curated in terms of:\n",
    "- voting scores\n",
    "    - the best performing countries historically\n",
    "    - countries who's votes deviate from the norm (biases in voting patterns)\n",
    "    - countries who under- or over-score one another, and countries where the scoring is one sided.\n",
    "- migration data\n",
    "    - information about migration flows between voting-performing pairs and how this affects voting\n",
    "- Performance language\n",
    "- Artist gender\n",
    "\n",
    "We will then build a model to predict the winner of the 2023 contest in a subsequent notebook."
   ]
  },
  {
   "attachments": {},
   "cell_type": "markdown",
   "metadata": {},
   "source": [
    "## Setup\n",
    "\n",
    "We begin by importing packages and setting up any configuration needed."
   ]
  },
  {
   "cell_type": "code",
   "execution_count": null,
   "metadata": {},
   "outputs": [],
   "source": [
    "import pandas as pd\n",
    "import numpy as np\n",
    "import matplotlib.pyplot as plt\n",
    "from matplotlib.lines import Line2D\n",
    "from pathlib import Path\n",
    "\n",
    "import seaborn as sns\n",
    "sns.set_theme(style=\"whitegrid\")\n",
    "\n",
    "if not Path(\"../../plots/\").exists():\n",
    "    Path(\"../../plots/\").mkdir()"
   ]
  },
  {
   "attachments": {},
   "cell_type": "markdown",
   "metadata": {},
   "source": [
    "# Data\n",
    "\n",
    "We can now continue by exploring the data we have curated in terms of: \n",
    "- voting scores\n",
    "    - the best performing countries historically\n",
    "    - countries who's votes deviate from the norm (biases in voting patterns)\n",
    "    - countries who under- or over-score one another, and countries where the scoring is one sided. \n",
    "- migration data\n",
    "    - information about migration flows between voting-performing pairs and how this affects voting\n",
    "- Performance language\n",
    "- Artist gender\n",
    "\n",
    "We will then build a model to predict the winner of the 2023 contest in a subsequent notebook.\n",
    "\n",
    "Data were obtained from the following sources:\n",
    " - **TODO** Voting scores\n",
    " - **TODO** Performer and song info (incl language)\n",
    " - **TODO** Population\n",
    " - **TODO** Migration statistics\n",
    " - **TODO** Border data\n",
    " - **TODO** Winners of each year\n",
    " \n",
    "and aggregated into a CSV file, which can be downloaded from **TODO link**.\n",
    "To avoid focusing unnecessarily on the data collection process, we simply import this data here.\n",
    "(**TODO?** For those interested, a data cleaning notebook is hosted separately at LINK.)\n",
    "\n",
    "The data only includes entries which reached the final; thus, not every participating country is represented every year."
   ]
  },
  {
   "cell_type": "code",
   "execution_count": null,
   "metadata": {},
   "outputs": [],
   "source": [
    "df = pd.read_csv('../../data/df_main.csv')\n",
    "\n",
    "df.head()"
   ]
  },
  {
   "attachments": {},
   "cell_type": "markdown",
   "metadata": {},
   "source": [
    "# Covariate visualisation\n",
    "\n",
    "We begin by performing some exploratory visualisations of the data available to us.\n",
    "The aim here is to discover some interesting trends, or specific data points, which reveal some underlying information about how Eurovision voting works.\n",
    "\n",
    "## The Best Performing Countries\n",
    "\n",
    "Lets determine the winners each year"
   ]
  },
  {
   "cell_type": "code",
   "execution_count": null,
   "metadata": {},
   "outputs": [],
   "source": [
    "winners = df.loc[df['rank'] == 1, ['to_country', 'total_points', 'rank', 'to_code2', 'year']]\n",
    "winners = winners.drop_duplicates()\n",
    "\n",
    "winners"
   ]
  },
  {
   "attachments": {},
   "cell_type": "markdown",
   "metadata": {},
   "source": [
    "The countries who have won multiple times in this time frame are:"
   ]
  },
  {
   "cell_type": "code",
   "execution_count": null,
   "metadata": {},
   "outputs": [],
   "source": [
    "winners['to_country'].value_counts().loc[winners['to_country'].value_counts() > 1]"
   ]
  },
  {
   "attachments": {},
   "cell_type": "markdown",
   "metadata": {},
   "source": [
    "These are the countries with the best average score (though we only count countries who have participated at least 5 times in the finals)."
   ]
  },
  {
   "cell_type": "code",
   "execution_count": null,
   "metadata": {},
   "outputs": [],
   "source": [
    "temp = df[['to_country', 'to_code2', 'total_points', 'year']].drop_duplicates()\n",
    "\n",
    "(temp.groupby('to_country')['total_points']\n",
    " .agg(['count', 'mean'])\n",
    " .query('count >= 5')\n",
    " .sort_values(by='mean', ascending=False)\n",
    " .head())"
   ]
  },
  {
   "cell_type": "code",
   "execution_count": null,
   "metadata": {},
   "outputs": [],
   "source": [
    "my_cmap = plt.get_cmap(\"magma_r\")\n",
    "rescale = lambda y: y / 26\n",
    "\n",
    "\n",
    "def plot_country(code, ax, df_plot):\n",
    "    df_temp = df_plot.loc[df_plot['to_code2'] == code]\n",
    "\n",
    "    df_temp = df_temp.sort_values('year', ascending=False)    \n",
    "\n",
    "    country_name = df_temp['to_country'].iloc[0].title()\n",
    "\n",
    "    # for year in 1997 - 2022 not in df_temp['year'] add a row\n",
    "    for i in range(1997, 2022):\n",
    "        if (i not in df_temp['year'].values):\n",
    "            df_add = pd.DataFrame(dict(year= i, total_points= np.nan, \n",
    "                        rank= np.nan, to_code2= code, to_country= country_name), \n",
    "                        index=[0])\n",
    "            df_temp = pd.concat([df_temp, df_add], ignore_index=True)\n",
    "\n",
    "    ax.bar(df_temp['year'], df_temp['total_points'], \n",
    "            color=my_cmap(rescale(df_temp['rank'])))\n",
    "\n",
    "    ax.scatter(2020, 10, s=25, color='grey', marker=\"_\")\n",
    "\n",
    "    # annotate if nan (did not perform)\n",
    "    for i, v in enumerate(df_temp.loc[df_temp['year'] != 2020, 'total_points']):\n",
    "        if np.isnan(v):\n",
    "            ax.scatter(df_temp['year'].iloc[i], 10, s=25, color='grey', marker=\"x\")\n",
    "\n",
    "\n",
    "    winner = df_temp.loc[df_temp['rank'] == 1, ['year', 'total_points']]\n",
    "    winner = winner.drop_duplicates()\n",
    "    if winner.shape[0] > 0:\n",
    "        ax.scatter(winner['year'], winner['total_points'], s=50, \n",
    "                    color='gold', marker=\"*\", edgecolor='black', zorder=5)\n",
    "\n",
    "    ax.set_xlim(1997, 2023)\n",
    "    ax.set_title(country_name)\n"
   ]
  },
  {
   "cell_type": "code",
   "execution_count": null,
   "metadata": {},
   "outputs": [],
   "source": [
    "fig, ax = plt.subplots(1, 1, figsize=(5, 4), sharey=True, sharex=True, squeeze=True)\n",
    "\n",
    "plot_country('GB', ax, df)\n",
    "\n",
    "legend_elements = [Line2D([0], [0], marker='*', color='white', label='Winner',\n",
    "                          markerfacecolor='gold', markersize=12, markeredgecolor='black'),                          \n",
    "                  Line2D([0], [0], marker='x', color='white', label='Did not perform in final',\n",
    "                          markerfacecolor='grey', markersize=8, markeredgecolor='grey'), \n",
    "                  Line2D([0], [0], marker='_', color='white', label='Competition cancelled',\n",
    "                          markerfacecolor='grey', markersize=8, markeredgecolor='grey')]\n",
    "fig.legend(handles=legend_elements, loc='right', ncol=1, bbox_to_anchor=(0.9, -0.05))\n",
    "\n",
    "sm = plt.cm.ScalarMappable(cmap=my_cmap, norm=plt.Normalize(vmin=1, vmax=26))\n",
    "cbaxes = fig.add_axes([0.2, -0.05, 0.2, 0.05]) # x y deltax deltay\n",
    "\n",
    "fig.colorbar(sm, ax=ax, orientation='horizontal', fraction=0.02, pad=0.1, label='Position', \n",
    "             cax = cbaxes)\n",
    "\n",
    "# save to file\n",
    "plt.savefig('../../plots/uk_scores.pdf', bbox_inches='tight')\n"
   ]
  },
  {
   "cell_type": "code",
   "execution_count": null,
   "metadata": {},
   "outputs": [],
   "source": [
    "fig, ax = plt.subplots(2, 4, figsize=(12, 6), sharey=True, sharex=True, squeeze=True)\n",
    "\n",
    "plot_countries = winners['to_code2'].value_counts().loc[winners['to_code2'].value_counts() > 1].index\n",
    "\n",
    "# add text for second row title\n",
    "ax[0, 0].text(-0.3, 0.5, 'Countries with the best total score\\n(1998-2022)', \n",
    "                  horizontalalignment='center', verticalalignment='center', \n",
    "                  transform=ax[0, 0].transAxes, fontsize=12, rotation=90)\n",
    "ax[1, 0].text(-0.3, 0.5, 'Countries with the best average\\nscore per year', \n",
    "                  horizontalalignment='center', verticalalignment='center', \n",
    "                  transform=ax[1, 0].transAxes, fontsize=12, rotation=90)\n",
    "\n",
    "for i in range(len(plot_countries)): \n",
    "    plot_country(plot_countries[i], ax[0, i], df)\n",
    "\n",
    "plot_countries = temp.groupby('to_code2')['total_points'].mean().sort_values(ascending=False).index[:4]\n",
    "for i in range(len(plot_countries)): \n",
    "    plot_country(plot_countries[i], ax[1, i], df)\n",
    "\n",
    "fig.legend(handles=legend_elements, loc='right', ncol=1, bbox_to_anchor=(0.9, -0.05))\n",
    "\n",
    "sm = plt.cm.ScalarMappable(cmap=my_cmap, norm=plt.Normalize(vmin=1, vmax=26))\n",
    "cbaxes = fig.add_axes([0.5, -0.05, 0.2, 0.05]) # x y deltax deltay\n",
    "\n",
    "fig.colorbar(sm, ax=ax, orientation='horizontal', fraction=0.02, pad=0.1, label='Position', \n",
    "             cax = cbaxes)\n",
    "\n",
    "ax[1][0].set_title(\"Yugoslavia\\nor, Serbia and Montenegro\")\n",
    "\n",
    "plt.savefig('../../plots/top_performers_scores.pdf', bbox_inches='tight')\n"
   ]
  },
  {
   "attachments": {},
   "cell_type": "markdown",
   "metadata": {},
   "source": [
    "## Voting Country Deviations from Average Performance Scores"
   ]
  },
  {
   "attachments": {},
   "cell_type": "markdown",
   "metadata": {},
   "source": [
    "Calculate the voting deviations from the mean each country receives. "
   ]
  },
  {
   "cell_type": "code",
   "execution_count": null,
   "metadata": {},
   "outputs": [],
   "source": [
    "df_voting= df[['from_country', 'points', 'to_country', 'year']].copy()\n",
    "\n",
    "# The average votes for each To country\n",
    "df_voting['avg_votes_per_pcountry'] = df_voting.groupby(['to_country'])['points'].transform('mean')\n",
    "\n",
    "# The average votes for each To country\n",
    "df_voting['avg_votes_per_pcountry_per country'] = df_voting.groupby(['to_country', 'from_country'])['points'].transform('mean')\n",
    "\n",
    "# For each voting instance calculate the deviation from the average votes\n",
    "df_voting['avg_difference_votes'] = df_voting['avg_votes_per_pcountry_per country'] - df_voting['avg_votes_per_pcountry']    \n",
    "\n",
    "# If no_instances < 3, set avg_difference_votes to NaN, since this is not a reflective sample\n",
    "df_voting['no_instances'] = df_voting.groupby(['from_country', 'to_country'])['avg_difference_votes'].transform('count')\n",
    "df_voting.loc[df_voting['no_instances'] < 3, 'avg_difference_votes'] = np.nan\n",
    "\n",
    "df_voting.head()"
   ]
  },
  {
   "attachments": {},
   "cell_type": "markdown",
   "metadata": {},
   "source": [
    "Average countries received "
   ]
  },
  {
   "cell_type": "code",
   "execution_count": null,
   "metadata": {},
   "outputs": [],
   "source": [
    "df_voting_heatmap = df_voting[['from_country', 'avg_votes_per_pcountry_per country', 'to_country']]\n",
    "df_voting_heatmap = df_voting_heatmap.drop_duplicates()\n",
    "\n",
    "# if from country = to country, set avg_difference_votes to NaN\n",
    "df_voting_heatmap.loc[df_voting_heatmap['from_country'] == df_voting_heatmap['to_country'], 'avg_votes_per_pcountry_per country'] = np.nan\n",
    "\n",
    "df_voting_heatmap = df_voting_heatmap.dropna(subset=['avg_votes_per_pcountry_per country'])\n",
    "\n",
    "df_heatmap = df_voting_heatmap.pivot(index='from_country', columns='to_country', values='avg_votes_per_pcountry_per country')\n",
    "\n",
    "df_heatmap.head()\n",
    "\n",
    "import scipy.spatial as sp, scipy.cluster.hierarchy as hc\n",
    "\n",
    "df_heatmap2 = df_heatmap.copy()\n",
    "\n",
    "# row order to match column order\n",
    "df_heatmap2 = df_heatmap2.reindex(df_heatmap2.columns)\n",
    "\n",
    "row_dism = 1 - df_heatmap2.T.corr()\n",
    "row_linkage = hc.linkage(sp.distance.squareform(row_dism), method='complete')\n",
    "\n",
    "plot = sns.clustermap(df_heatmap2, row_linkage=row_linkage, col_linkage=row_linkage, \n",
    "                figsize=(9,8), mask=df_heatmap2.isnull(), \n",
    "                dendrogram_ratio= [0.15, 0.01],\n",
    "                cbar_pos = (0.85,1,0.1,.019), # x,y, delta x, delta y\n",
    "                cbar_kws={\"orientation\": \"horizontal\"},\n",
    "                #cmap='viridis', \n",
    "                #center=0, \n",
    "                xticklabels=1, yticklabels=1)\n",
    "\n",
    "plot.ax_col_dendrogram.set_visible(False) \n",
    "\n",
    "from matplotlib.patches import Rectangle\n",
    "ax = plot.ax_heatmap\n",
    "\n",
    "\n",
    "plot.fig.suptitle('Average score received from voting counties', fontsize=16, y=1.05)\n",
    "plot.ax_heatmap.set_ylabel('Voting country')\n",
    "plot.ax_heatmap.set_xlabel('Performing country')\n",
    "\n",
    "#plt.show()\n",
    "\n",
    "plt.savefig('../../plots/deviation_from_average_received_scores.pdf', bbox_inches='tight')"
   ]
  },
  {
   "attachments": {},
   "cell_type": "markdown",
   "metadata": {},
   "source": [
    "Average deviations"
   ]
  },
  {
   "cell_type": "code",
   "execution_count": null,
   "metadata": {},
   "outputs": [],
   "source": [
    "df_voting_heatmap = df_voting[['from_country', 'avg_difference_votes', 'to_country']]\n",
    "df_voting_heatmap = df_voting_heatmap.drop_duplicates()\n",
    "\n",
    "# if from country = to country, set avg_difference_votes to NaN\n",
    "df_voting_heatmap.loc[df_voting_heatmap['from_country'] == df_voting_heatmap['to_country'], 'avg_difference_votes'] = np.nan\n",
    "\n",
    "df_voting_heatmap = df_voting_heatmap.dropna(subset=['avg_difference_votes'])\n",
    "\n",
    "df_heatmap = df_voting_heatmap.pivot(index='from_country', columns='to_country', values='avg_difference_votes')\n",
    "\n",
    "df_heatmap.head()"
   ]
  },
  {
   "cell_type": "code",
   "execution_count": null,
   "metadata": {},
   "outputs": [],
   "source": [
    "import scipy.spatial as sp, scipy.cluster.hierarchy as hc\n",
    "\n",
    "df_heatmap2 = df_heatmap.copy()\n",
    "\n",
    "# row order to match column order\n",
    "df_heatmap2 = df_heatmap2.reindex(df_heatmap2.columns)\n",
    "\n",
    "row_dism = 1 - df_heatmap2.T.corr()\n",
    "row_linkage = hc.linkage(sp.distance.squareform(row_dism), method='complete')\n",
    "\n",
    "plot = sns.clustermap(df_heatmap2, row_linkage=row_linkage, col_linkage=row_linkage, \n",
    "                figsize=(9,8), mask=df_heatmap2.isnull(), \n",
    "                dendrogram_ratio= [0.15, 0.01],\n",
    "                cbar_pos = (0.85,1,0.1,.019), # x,y, delta x, delta y\n",
    "                cbar_kws={\"orientation\": \"horizontal\"},\n",
    "                cmap='RdBu_r', center=0, xticklabels=1, yticklabels=1)\n",
    "\n",
    "plot.ax_col_dendrogram.set_visible(False) \n",
    "\n",
    "from matplotlib.patches import Rectangle\n",
    "ax = plot.ax_heatmap\n",
    "\n",
    "ax.add_patch(Rectangle((4, 4), 9, 9, fill=False, edgecolor='black', lw=2))\n",
    "ax.add_patch(Rectangle((df_heatmap2.shape[1]-13, df_heatmap2.shape[1]-13), 13, 13, fill=False, edgecolor='black', lw=2))\n",
    "ax.add_patch(Rectangle((13, 13), 7, 7, fill=False, edgecolor='black', lw=2))\n",
    "\n",
    "ax.add_patch(Rectangle((0, 27), 1, 4, fill=False, edgecolor='cornflowerblue', lw=2)) # turkey-germany, netherlands, belgium, france\n",
    "ax.add_patch(Rectangle((27, 0), 4, 1, fill=False, edgecolor='cornflowerblue', lw=2))\n",
    "\n",
    "ax.add_patch(Rectangle((20, 25), 4, 1, fill=False, edgecolor='darkcyan', lw=2)) # italy-malta, san marino, albania, portugal\n",
    "ax.add_patch(Rectangle((25, 20), 1, 4, fill=False, edgecolor='darkcyan', lw=2))\n",
    "\n",
    "ax.add_patch(Rectangle((13, 38), 1, 1, fill=False, edgecolor='indigo', lw=2)) # serbia-hungary\n",
    "ax.add_patch(Rectangle((38, 13), 1, 1, fill=False, edgecolor='indigo', lw=2))\n",
    "\n",
    "ax.add_patch(Rectangle((21, 17), 1, 1, fill=False, edgecolor='springgreen', lw=2)) # north-macedonia-albania\n",
    "ax.add_patch(Rectangle((17, 21), 1, 1, fill=False, edgecolor='springgreen', lw=2))\n",
    "\n",
    "ax.add_patch(Rectangle((30, 23), 1, 1, fill=False, edgecolor='yellow', lw=2)) # portugal-france\n",
    "ax.add_patch(Rectangle((23, 30), 1, 1, fill=False, edgecolor='yellow', lw=2))\n",
    "\n",
    "plot.fig.suptitle('Average deviation from mean performance vote', fontsize=16, y=1.05)\n",
    "plot.ax_heatmap.set_ylabel('Voting country')\n",
    "plot.ax_heatmap.set_xlabel('Performing country')\n",
    "\n",
    "#plt.show()\n",
    "\n",
    "plt.savefig('../../plots/deviation_from_average_received_scores.pdf', bbox_inches='tight')"
   ]
  },
  {
   "attachments": {},
   "cell_type": "markdown",
   "metadata": {},
   "source": [
    "In this plot, countries are grouped by ... **TODO** \n",
    "\n",
    "There are a number of interesting details in this plot.\n",
    "For example, the black boxes indicate that Turkey's entries have consistently obtained higher-than-average scores from Germany, the Netherlands, Belgium, and France; but that this isn't reciprocated.\n",
    "A possible hypothesis for this may be the fact there is a significant Turkish diaspora in these countries: according to Pashayan (2012), there were 10 million \"Euro-Turks\" in these four countries in 2012.\n",
    "\n",
    "This suggests that migration data between two countries might be another useful thing to look at.\n",
    "\n",
    "REF (to be done up properly, and actually just ref 5 from https://en.wikipedia.org/wiki/Turkish_diaspora): Pashayan, Araks (2012), \"Integration of Muslims in Europe and the Gülen\", in Weller, Paul; Ihsan, Yilmaz (eds.), European Muslims, Civility and Public Life: Perspectives On and From the Gülen Movement, Continuum International Publishing Group, ISBN 978-1-4411-0207-2."
   ]
  },
  {
   "attachments": {},
   "cell_type": "markdown",
   "metadata": {},
   "source": [
    "## Voting Pair Plots"
   ]
  },
  {
   "cell_type": "code",
   "execution_count": null,
   "metadata": {},
   "outputs": [],
   "source": [
    "countries = df['from_country'].unique()\n",
    "\n",
    "# Create a new dataframe containing the data for the scatter plot\n",
    "votes = pd.DataFrame({'performer': [], 'voter': [], 'times_competed': [], 'times_voted': [], 'total_points': [], 'average_points': []})\n",
    "\n",
    "# Compare every country with every other country\n",
    "for performer in countries:\n",
    "    times_competed = len(df.loc[df['to_country'] == performer]['year'].unique())\n",
    "    for voter in countries:\n",
    "        times_voted = len(df.loc[(df['to_country'] == performer) & (df['from_country'] == voter) & (df['points'] > 0)])\n",
    "        total_points = df.loc[(df['to_country'] == performer) & (df['from_country'] == voter)]['points'].sum()\n",
    "        average_points = df.loc[(df['to_country'] == performer) & (df['points'] >= 0) & (df['from_country'] == voter)]['points'].mean()\n",
    "        votes.loc[len(votes)] = [performer, voter, times_competed, times_voted, total_points, average_points]\n",
    "print('Check every country is matched with very other: {}'.format(len(countries)**2 == len(votes)))"
   ]
  },
  {
   "cell_type": "code",
   "execution_count": null,
   "metadata": {},
   "outputs": [],
   "source": [
    "# Render a basic static scatter plot\n",
    "fig = plt.figure(figsize=(8, 8), dpi=90)\n",
    "votes.plot.scatter(x='total_points', y='average_points', alpha=0.5, ax = plt.gca())\n",
    "\n",
    "plt.savefig('../../plots/total_vs_average_points.pdf', bbox_inches='tight')"
   ]
  },
  {
   "cell_type": "code",
   "execution_count": null,
   "metadata": {},
   "outputs": [],
   "source": [
    "import plotly.express as px\n",
    "\n",
    "# Render an interactive (hoverable) plot\n",
    "fig = px.scatter(votes, x='total_points', y='average_points')\n",
    "fig.update_traces(hovertemplate='Performer: %{customdata[0]}'\n",
    "                  + '<br>Voter: %{customdata[1]}'\n",
    "                  + '<br>Total Eurovisions competed: %{customdata[2]}'\n",
    "                  + '<br>Total times voted for by selected country: %{customdata[3]}'\n",
    "                  + '<br>Total points given: %{customdata[4]}'\n",
    "                  + '<br>Average points: %{customdata[5]:.2f}',\n",
    "                  customdata=votes,\n",
    "                  marker={'color': 'rgba(50, 50, 150, 0.1)', 'opacity': 0.5, 'size': 6,\n",
    "                          'line': {'color': 'rgba(50, 50, 150, 1.0)', 'width': 1}})\n",
    "fig.update_layout(hoverlabel_align='left', width=640, height=640, margin=dict(l=20, r=20, t=20, b=20),\n",
    "                  xaxis={'title': 'Total voter points given to specific country'},\n",
    "                  yaxis={'title': 'Average points'})\n",
    "fig.show()"
   ]
  },
  {
   "attachments": {},
   "cell_type": "markdown",
   "metadata": {},
   "source": [
    "## Looking for Country Friendships, Biases, and One-sided relationships"
   ]
  },
  {
   "attachments": {},
   "cell_type": "markdown",
   "metadata": {},
   "source": [
    "After looking at broader patterns, let's now dive into some specific country-pairs. \n",
    "We will look for the top country pairs which\n",
    "* give each other very high scores\n",
    "* give each other very low scores\n",
    "* have a one-sided relationship, where one country gives high scores to another, but gets low scores back "
   ]
  },
  {
   "cell_type": "code",
   "execution_count": null,
   "metadata": {},
   "outputs": [],
   "source": [
    "# filter for where bothfrom_country and to_country is turkey or armenia\n",
    "(df\n",
    "  .query('from_country == \"armenia\" & to_country == \"turkey\"')\n",
    ")"
   ]
  },
  {
   "cell_type": "code",
   "execution_count": null,
   "metadata": {},
   "outputs": [],
   "source": [
    "# how often did each country participate?\n",
    "n_participations = (df\n",
    "                    .groupby('to_country')['year']\n",
    "                    .nunique()\n",
    "                    .sort_values(ascending=True))\n",
    "# filter countries with less than 5 participations\n",
    "countries_to_remove = n_participations[n_participations < 5].index.tolist()\n",
    "# remove from df\n",
    "df_pairs = df[~df['to_country'].isin(countries_to_remove)]\n",
    "# get random 5 rows from df_pairs\n",
    "df_pairs.sample(5)"
   ]
  },
  {
   "cell_type": "code",
   "execution_count": null,
   "metadata": {},
   "outputs": [],
   "source": [
    "# Grouping by performer and voter, calculate mean votes and count number of years\n",
    "df_pairs = (df_pairs\n",
    "    .groupby(['from_country', 'to_country'])\n",
    "    .agg(votes = ('points', 'mean'), num_years = ('year', 'count'))\n",
    "    .reset_index()\n",
    "    .sort_values('votes', ascending=False)\n",
    ")\n",
    "\n",
    "# Merge original dataframe with its reverse\n",
    "df_pairs = (df_pairs\n",
    "    .merge(df_pairs.rename(columns={'from_country': 'to_country', \n",
    "                               'to_country': 'from_country'}), \n",
    "           on=['from_country', 'to_country'])\n",
    "    .drop_duplicates()\n",
    "    .query('from_country != to_country')\n",
    "    .assign(votes_diff = lambda x: abs(x['votes_x'] - x['votes_y']))\n",
    "    .reindex(columns=['from_country', 'to_country', 'num_years', 'votes_x', 'votes_y', 'votes_diff'])\n",
    ")\n",
    "\n",
    "# create combined column with pairs in alphabetical order\n",
    "df_pairs['country_pair'] = df_pairs[['from_country', 'to_country']].apply(lambda x: ' - '.join(sorted(x)), axis=1)\n",
    "# Remove duplicate country pairs and the temporary country_pair column\n",
    "df_pairs = (df_pairs\n",
    "            .drop_duplicates(subset=['country_pair'])\n",
    "            .drop(columns=['country_pair']))\n",
    "\n",
    "df_pairs.head()"
   ]
  },
  {
   "cell_type": "code",
   "execution_count": null,
   "metadata": {},
   "outputs": [],
   "source": [
    "# Number of country pairs to show for each category\n",
    "N = 5\n",
    "\n",
    "# top 5 country pairs with high votes for each other\n",
    "top_highs = (df_pairs\n",
    "    .query('votes_diff < 3')\n",
    "    .sort_values('votes_x', ascending=False).head(N)\n",
    ")\n",
    "\n",
    "# top 5 country pairs with low votes for each other\n",
    "top_lows = (df_pairs\n",
    "    .query('votes_diff < 3')\n",
    "    .sort_values('votes_x', ascending=True).head(N)\n",
    ")\n",
    "\n",
    "# top 5 unbalanced country pairs (one gives high votes to the other, but gets low votes back)\n",
    "top_one_sided = (df_pairs\n",
    "            .sort_values('votes_diff', ascending=False).head(N))\n",
    "\n",
    "# combine \n",
    "top_relationships = (pd.concat([top_highs, top_lows, top_one_sided]))\n",
    "# add grouping\n",
    "top_relationships['group'] = ['high'] * N + ['low'] * N + ['one-sided'] * N\n",
    "\n",
    "# sort by votes_x\n",
    "top_relationships = top_relationships.sort_values('votes_x')\n",
    "\n",
    "top_relationships['y'] = range(1, len(top_relationships) + 1)\n",
    "\n",
    "top_relationships"
   ]
  },
  {
   "cell_type": "code",
   "execution_count": null,
   "metadata": {},
   "outputs": [],
   "source": [
    "# Replace group names with numeric values for sorting\n",
    "group_order = {'low': 1, 'one-sided': 2, 'high': 3}\n",
    "top_relationships['group_order'] = top_relationships['group'].replace(group_order)\n",
    "\n",
    "# Create a new column representing the minimum value between 'votes_x' and 'votes_y'\n",
    "top_relationships['min_votes'] = top_relationships[['votes_x', 'votes_y']].min(axis=1)\n",
    "\n",
    "# Sort the DataFrame by 'group_order' and 'min_votes'\n",
    "top_relationships = top_relationships.sort_values(by=['group_order', 'min_votes'], ascending=[True, True])\n",
    "\n",
    "# Reassign the 'y' column after sorting\n",
    "top_relationships['y'] = range(1, len(top_relationships) + 1)"
   ]
  },
  {
   "cell_type": "code",
   "execution_count": null,
   "metadata": {},
   "outputs": [],
   "source": [
    "import matplotlib.colors as mcolors\n",
    "\n",
    "fig, ax = plt.subplots(figsize=(10, 6))\n",
    "ax.grid(axis='x', linestyle='-', linewidth=0.5)\n",
    "\n",
    "# create a color map with 6 colors from red to blue\n",
    "colors = sns.color_palette(\"YlOrRd\", 6)[::-1]\n",
    "cmap = mcolors.LinearSegmentedColormap.from_list(\"custom\", colors, N=len(colors))\n",
    "\n",
    "# get color map with viridis colors for 6 bins\n",
    "cmap = plt.get_cmap('viridis' )\n",
    "\n",
    "#colors = [\"#b2182b\", \"#d1e5f0\", \"#92c5de\", \"#4393c3\", \"#2166ac\", \"#053061\" ]\n",
    "colors = [\"#d53e4f\", \"#e6f598\", \"#abdda4\", \"#66c2a5\", \"#3288bd\", \"#5e4fa2\"]\n",
    "cmap = mcolors.LinearSegmentedColormap.from_list(\"custom\", colors, N=len(colors))\n",
    "\n",
    "\n",
    "# define the range boundaries\n",
    "bins = np.arange(0, 13, 2)\n",
    "\n",
    "# add text labels and points\n",
    "for i, row in top_relationships.iterrows():\n",
    "    ax.text(row['votes_x']+0.2, row['y'] ,row['to_country'],  ha='left', va='center', fontsize=14)  # increase the value added to 'votes_x' for more space\n",
    "    ax.text(row['votes_y']-0.2, row['y'] , row['from_country'],  ha='right', va='center', fontsize=14)  # increase the value subtracted from 'votes_y' for more space\n",
    "\n",
    "    # plot points with colors based on x-value range\n",
    "    x_color = np.digitize(row['votes_x'], bins=bins, right=True)-1\n",
    "    y_color = np.digitize(row['votes_y'], bins=bins, right=True)-1\n",
    "    ax.scatter(row['votes_x'], row['y'], color=cmap(x_color/6), s=100, alpha=1, zorder=3)\n",
    "    ax.scatter(row['votes_y'], row['y'], color=cmap(y_color/6), s=100, alpha=1, zorder=3)\n",
    "\n",
    "    # add line between countries with slightly shortened length\n",
    "    line_buffer = 0.1\n",
    "    ax.plot([row['votes_x'] + line_buffer, row['votes_y'] - line_buffer], [row['y'], row['y']], color='black', alpha=0.7, zorder=2, linewidth=0.7)\n",
    "\n",
    "ax.set_xlabel('Average received vote of a country from its paired country', fontsize=14)\n",
    "ax.set_ylabel('')\n",
    "\n",
    "# Hide the y axis\n",
    "ax.get_yaxis().set_visible(False)\n",
    "ax.spines[['top', 'right', 'left']].set_visible(False)\n",
    "\n",
    "# Add legend\n",
    "markers = [plt.Line2D([0,0],[0,0], color=cmap(i/6), marker='o', linestyle='') for i in range(6)]\n",
    "plt.legend(markers, ['{}-{}'.format(i, i+2) for i in bins[:-1]], numpoints=1, loc='lower right', title='Vote ranges')\n",
    "\n",
    "plt.title('Country pairs with high, low, and unequal votes for each other', fontsize=18,  loc='center', pad=15)\n",
    "\n",
    "fig.savefig('../../plots/country_relationships.pdf', bbox_inches='tight')"
   ]
  },
  {
   "attachments": {},
   "cell_type": "markdown",
   "metadata": {},
   "source": [
    "The plot shows the top 5 pairs of countries which give each other high, low and unequal scores.\n",
    "The point next to a country name is the score it *received* from the other country. For example, both France and Germany on average get low scores from Turkey, but give Turkey high scores.\n",
    "Cyprus and Greece give each other high scores, and Albania and Lithuania tend to give each other low scores.\n",
    "\n",
    "The plot differs a bit from the results above, because it is looking at raw votes, not deviations from the mean vote.\n",
    "Therefore, one-sided voting does not necessarily indicate bias in voting: it may simply be because the country has historically performed very well (or very poorly!) in Eurovision."
   ]
  },
  {
   "attachments": {},
   "cell_type": "markdown",
   "metadata": {},
   "source": [
    "# Migration Data\n",
    "\n",
    " **TODO** Maybe plot prop_emigrants versus the score deviation?"
   ]
  },
  {
   "attachments": {},
   "cell_type": "markdown",
   "metadata": {},
   "source": [
    "One of our main goals was to predict the winner of the 2023 contest. On a finer scale, this means predicting how each country will vote for each other country. Arguably, countries with a large immigrant population from another country might give more favorable votes to that country. To test and incorporate this in our models, we used migration data from [Our World in Data](https://ourworldindata.org/migration). Specifically, we were interested in the proportion of immigrants in each country from each other country. We calculated both sides, i.e. proportion emigrants from the voter country in the perfomer country (v2p) and the other way round."
   ]
  },
  {
   "cell_type": "code",
   "execution_count": null,
   "metadata": {},
   "outputs": [],
   "source": [
    "# migration data\n",
    "df.filter(like='migr').head()"
   ]
  },
  {
   "cell_type": "code",
   "execution_count": null,
   "metadata": {},
   "outputs": [],
   "source": [
    "df_migration = df[['year', 'from_code2', 'to_code2', 'prop_emigrants_v2p', 'prop_emigrants_p2v', 'points']].copy()\n",
    "\n",
    "# Calculate score deviation per year\n",
    "df_migration['avg_votes'] = df_migration.groupby(['to_code2', 'year'])['points'].transform('mean')\n",
    "df_migration['deviation'] = df_migration['points'] - df_migration['avg_votes']\n"
   ]
  },
  {
   "cell_type": "code",
   "execution_count": null,
   "metadata": {},
   "outputs": [],
   "source": [
    "fig, (ax1, ax2) = plt.subplots(ncols=2, sharey=True, figsize=(12, 6))\n",
    "sns.regplot(x='prop_emigrants_v2p', y='deviation', data=df_migration, ax=ax1)\n",
    "sns.regplot(x='prop_emigrants_p2v', y='deviation', data=df_migration, ax=ax2)\n",
    "\n",
    "ax1.set_xlabel('Proportion of emigrants from voting country in performing country')\n",
    "ax2.set_xlabel('Proportion of emigrants from performing country in voting country')\n",
    "\n",
    "#plt.show()\n",
    "\n",
    "plt.savefig('../../plots/emigration.pdf', bbox_inches='tight')"
   ]
  },
  {
   "cell_type": "code",
   "execution_count": null,
   "metadata": {},
   "outputs": [],
   "source": [
    "sns.lmplot(x='prop_emigrants_p2v', y='prop_emigrants_v2p', data=df_migration, scatter_kws={\"s\": 4})\n",
    "\n",
    "# log scale axes\n",
    "plt.xscale('log')\n",
    "plt.yscale('log')\n",
    "\n",
    "plt.xlabel(\"Proportion of emigrants from voting country in performing country\")\n",
    "plt.ylabel(\"Proportion of emigrants from performing country in voting country\")\n",
    "plt.show()"
   ]
  },
  {
   "attachments": {},
   "cell_type": "markdown",
   "metadata": {},
   "source": [
    "# Language Data"
   ]
  },
  {
   "attachments": {},
   "cell_type": "markdown",
   "metadata": {},
   "source": [
    "We are interested in three things:\n",
    "1. Does the song contain english lyrics: yes vs no &#x2705;\n",
    "2. What are the average votes for songs with english lyrics vs non-english lyrics &#x2705;\n",
    "3. Does the performer sing in their official language yes vs no (english) vs no (non-english) &#x2705;\n",
    "4. How many languages appear in the song vs votes? (can you hedge your bets?) &#x2705;\n",
    "5. Are the votes received affected by whether or not a song is sung in the voting country's official language? &#x2705;\n",
    "\n",
    "**TODO** Get language data cleaned up, see https://github.com/KatrionaGoldmann/Eurovision_TDS/blob/issue-5-exploratory_visualisations/eurovision/notebooks/language_visualistaions.ipynb.\n",
    "\n",
    "**TODO** Discussion of Eurovision language rules (this has changed over time).\n",
    "\n",
    "In this dataset, we have categorised the song language into one or more of: the country's official language (`own`), English (`eng`), or an entirely separate language (`other`).\n",
    "When English *is* one of the country's official languages, both `own` and `other` are selected.\n",
    "We can use this data to investigate how likely each country is to perform in English:"
   ]
  },
  {
   "cell_type": "code",
   "execution_count": null,
   "metadata": {},
   "outputs": [],
   "source": [
    "df_performance = df[['year', 'Artist', 'to_country', \n",
    "       'total_points', \n",
    "       'rank', 'to_code2',\n",
    "       'Official_languages', 'Language_sung', 'Contains_English',\n",
    "       'Contains_NonEnglish', 'Contains_Multiple_Languages',\n",
    "       'Number_of_Languages', 'Contains_Own_Language', 'gender']].drop_duplicates()"
   ]
  },
  {
   "cell_type": "code",
   "execution_count": null,
   "metadata": {},
   "outputs": [],
   "source": [
    "df_performance.loc[df_performance['year'] == 2018]['to_country'].value_counts()"
   ]
  },
  {
   "cell_type": "code",
   "execution_count": null,
   "metadata": {},
   "outputs": [],
   "source": [
    "# get the percentage of performances who contain own language\n",
    "print('Percentage of performances in own language:', round(sum(df_performance['Contains_Own_Language'])/len(df_performance) *100), '%')\n",
    "print('Percentage of performances in English:', round(sum(df_performance['Contains_English'])/len(df_performance) *100), '%')\n",
    "\n",
    "print('Percentage of performances by gender:')\n",
    "df_performance['gender'].value_counts()/len(df_performance) * 100"
   ]
  },
  {
   "cell_type": "code",
   "execution_count": null,
   "metadata": {},
   "outputs": [],
   "source": [
    "df_language = df_performance.copy()\n",
    "\n",
    "df_performance['English_only'] = (df_performance['Contains_English']) & (df_performance['Number_of_Languages'] == 1 )\n",
    "df_performance['No_English'] = ~df_performance['Contains_English'] \n",
    "df_performance['Some_English'] = (df_performance['Contains_English']) & (df_performance['Number_of_Languages'] > 1 )\n",
    "\n",
    "# for each country get the ratio of songs that contain only English, some English and no English\n",
    "# then sort by the ratio of songs that contain only English\n",
    "df_language = df_performance.groupby('to_country').agg({'English_only': 'mean', 'Some_English': 'mean', 'No_English': 'mean'})\n",
    "\n",
    "df_language = df_language.sort_values(by=['English_only', 'Some_English'], ascending=True)"
   ]
  },
  {
   "cell_type": "code",
   "execution_count": null,
   "metadata": {},
   "outputs": [],
   "source": [
    "colours = {\"English_only\":'royalblue', \"No_English\":'seagreen', \"Some_English\":'goldenrod'}\n",
    "\n",
    "df_language.plot(kind='bar', figsize=(15, 6), stacked=True, color=colours)\n",
    "\n",
    "plt.legend(['English only', 'Partly English', 'No English'], title=\"Performance languages\", loc=[1, 1], \n",
    "        fontsize=14,  bbox_to_anchor=(0.51, 0., 0.5, 0.5), title_fontsize=16)\n",
    "\n",
    "plt.title('How frequently countries sing in English', fontsize=20, pad=30)\n",
    "\n",
    "plt.text(df_language.shape[0]-1, 1.1, 'Countries more likely to sing in English →', ha='right', va='center', fontsize=14)\n",
    "plt.text(0.05, 1.1, '← Countries less likely to sing in English ', ha='left', va='center',  fontsize=14)\n",
    "plt.xticks(rotation=-45, ha='left')\n",
    "plt.xlabel('')\n",
    "plt.ylabel('Ratio of performances')\n",
    "\n",
    "#plt.show()\n",
    "\n",
    "plt.savefig('../../plots/english_performances.pdf', bbox_inches='tight')"
   ]
  },
  {
   "cell_type": "code",
   "execution_count": null,
   "metadata": {},
   "outputs": [],
   "source": [
    "# convert wide to long format\n",
    "df_long = df_performance[['English_only', 'No_English',\t'Some_English', 'total_points']]\n",
    "\n",
    "df_long = df_long.melt(id_vars=['total_points'], var_name='language', value_name='contains_language')\n",
    "\n",
    "df_long['contains_language'] = df_long['contains_language'].astype(int)"
   ]
  },
  {
   "cell_type": "code",
   "execution_count": null,
   "metadata": {},
   "outputs": [],
   "source": [
    "import scipy.stats as stats\n",
    "from statannot import add_stat_annotation\n",
    "\n",
    "# boxplots for each language type\n",
    "ax = sns.boxplot(x='language', y='total_points', \n",
    "                 data=df_long.loc[df_long['contains_language'] > 0], \n",
    "                 palette=colours, showfliers=False, \n",
    "                 order=['English_only', 'Some_English', 'No_English'])\n",
    "sns.stripplot(x='language', y='total_points', \n",
    "              order=['English_only', 'Some_English', 'No_English'],\n",
    "              data=df_long.loc[df_long['contains_language'] > 0], \n",
    "              jitter=0.25, size=2, color=\".3\", linewidth=0)\n",
    "\n",
    "plt.title('Average points for performances in different languages', fontsize=20, pad=30)\n",
    "plt.xlabel('')\n",
    "plt.ylabel('Total points')\n",
    "\n",
    "add_stat_annotation(ax, data=df_long.loc[df_long['contains_language'] > 0],\n",
    "                    x='language', y='total_points', \n",
    "                    order=['English_only', 'Some_English', 'No_English'],\n",
    "                    box_pairs=[(\"English_only\", \"No_English\")],\n",
    "                    test='Mann-Whitney', text_format='star', verbose=0)\n",
    "\n",
    "plt.show()"
   ]
  },
  {
   "cell_type": "code",
   "execution_count": null,
   "metadata": {},
   "outputs": [],
   "source": [
    "df_language = df_performance.copy()\n",
    "\n",
    "df_performance['Own_language'] = (df_performance['Contains_Own_Language']) \n",
    "df_performance['Other_language'] = ~df_performance['Contains_Own_Language'] \n",
    "\n",
    "# for each country get the ratio of songs that contain only English, some English and no English\n",
    "# then sort by the ratio of songs that contain only English\n",
    "df_language = df_performance.groupby('to_country').agg({'Other_language': 'mean', 'Own_language': 'mean'})\n",
    "\n",
    "df_language = df_language.sort_values(by=['Own_language', 'Other_language'], ascending=True)"
   ]
  },
  {
   "cell_type": "code",
   "execution_count": null,
   "metadata": {},
   "outputs": [],
   "source": [
    "colours = {\"Own_language\":'teal', \"Other_language\":'lightsteelblue'}\n",
    "\n",
    "df_language.plot(kind='bar', figsize=(15, 6), stacked=True, color=colours)\n",
    "\n",
    "plt.legend(['Other language', 'Own language'], title=\"Performance languages\", loc=[1, 1], \n",
    "        fontsize=14,  bbox_to_anchor=(0.51, 0., 0.5, 0.5), title_fontsize=16)\n",
    "\n",
    "plt.title('How frequently countries sing in their official languages', fontsize=20, pad=30)\n",
    "\n",
    "plt.text(df_language.shape[0]-1, 1.1, 'Countries more likely to sing in Official language →', ha='right', va='center', fontsize=14)\n",
    "plt.text(0.05, 1.1, '← Countries less likely to sing in Official language ', ha='left', va='center',  fontsize=14)\n",
    "plt.xticks(rotation=-45, ha='left')\n",
    "plt.xlabel('')\n",
    "plt.ylabel('Ratio of performances')\n",
    "\n",
    "#plt.show()\n",
    "\n",
    "plt.savefig('../../plots/official_languages.pdf', bbox_inches='tight')"
   ]
  },
  {
   "attachments": {},
   "cell_type": "markdown",
   "metadata": {},
   "source": [
    "Typically those on the left of this plot are countries who sing in english but english is not their official language. Those on the right are countries who sing in their official language exclusively."
   ]
  },
  {
   "cell_type": "code",
   "execution_count": null,
   "metadata": {},
   "outputs": [],
   "source": [
    "sns.boxplot(x='Number_of_Languages', y='total_points', data=df_performance, showfliers=False)\n",
    "sns.stripplot(x='Number_of_Languages', y='total_points', data=df_performance, jitter=0.25, size=2, color=\".3\", linewidth=0)\n",
    "\n",
    "plt.title('Points Scored by Number of Languages appearing in Song', fontsize=20, pad=30)\n",
    "plt.xlabel('Number of Languages')\n",
    "plt.ylabel('Total points')\n",
    "\n",
    "\n",
    "plt.show()\n",
    "#plt.savefig('../../plots/uk_scores.pdf', bbox_inches='tight')"
   ]
  },
  {
   "cell_type": "code",
   "execution_count": null,
   "metadata": {},
   "outputs": [],
   "source": [
    "# violin plot\n",
    "sns.violinplot(x='Contains_Voting_Language', y='points', data=df, inner=None, color=\"cornflowerblue\")"
   ]
  },
  {
   "attachments": {},
   "cell_type": "markdown",
   "metadata": {},
   "source": [
    "# Gender Data"
   ]
  },
  {
   "cell_type": "code",
   "execution_count": null,
   "metadata": {},
   "outputs": [],
   "source": [
    "from matplotlib.colors import to_rgba\n",
    "\n",
    "gender_df = df[['year', 'to_country', 'gender']].copy().drop_duplicates()\n",
    "\n",
    "countries = gender_df.sort_values(by=['to_country'])['to_country'].drop_duplicates().to_list()\n",
    "years = gender_df['year'].drop_duplicates().to_list()\n",
    "\n",
    "gender_colours = {\n",
    "    'female': to_rgba('seagreen'),\n",
    "    'group': to_rgba('wheat'),\n",
    "    'male': to_rgba('indianred'),\n",
    "    'none': to_rgba('white')\n",
    "}\n",
    "\n",
    "gender = []\n",
    "for year in years:\n",
    "    missing = pd.DataFrame({'year': [year] * len(countries), 'to_country': countries, 'gender': ['none'] * len(countries)}).set_index('to_country')\n",
    "    missing.update(gender_df[gender_df['year'] == year].set_index('to_country'))\n",
    "    gender.append(list(map(lambda x: gender_colours[x], missing.sort_values(by=['to_country'])['gender'].to_list())))\n",
    "\n",
    "gender = list(map(list, zip(*gender)))\n",
    "fig, ax = plt.subplots(1, 1)\n",
    "fig.set_size_inches(10, 10)\n",
    "img = plt.imshow(gender, aspect=0.7)\n",
    "ax.set_xticks(range(len(years)))\n",
    "ax.set_xticklabels(years)\n",
    "plt.xticks(rotation=90)\n",
    "ax.set_yticks(range(len(countries)))\n",
    "ax.set_yticklabels(list(map(str.title, countries)))\n",
    "ax.grid(False)\n",
    "plt.title('Gender of Artists at Eurovision by Year and Performing Country\\n(countries ordered alphabetically)')\n",
    "#plt.show()\n",
    "\n",
    "\n",
    "plt.savefig('../../plots/performance_genders.pdf', bbox_inches='tight')"
   ]
  },
  {
   "cell_type": "code",
   "execution_count": null,
   "metadata": {},
   "outputs": [],
   "source": [
    "for gender in ['female', 'male', 'group']:\n",
    "    count = len(gender_df[gender_df['gender'] == gender])\n",
    "    print('Total {} performers: {} ({:.0%})'.format(gender, count, count/len(gender_df)))\n",
    "\n",
    "def ratio(gender, x): return len([a for a in x if a == gender]) / len(x)\n",
    "\n",
    "gender_df = gender_df.groupby('to_country').agg(\n",
    "    female=pd.NamedAgg(column='gender', aggfunc=lambda x: ratio('female', x)),\n",
    "    group=pd.NamedAgg(column='gender', aggfunc=lambda x: ratio('group', x)),\n",
    "    male=pd.NamedAgg(column='gender', aggfunc=lambda x: ratio('male', x)),\n",
    ")\n",
    "gender_df = gender_df.sort_values(by=['female', 'group'], ascending=False)\n",
    "\n",
    "gender_df.head()"
   ]
  },
  {
   "cell_type": "code",
   "execution_count": null,
   "metadata": {},
   "outputs": [],
   "source": [
    "gender_colours = {\n",
    "    'female': to_rgba('seagreen'),\n",
    "    'group': to_rgba('wheat'),\n",
    "    'male': to_rgba('indianred')#,\n",
    "    #'none': to_rgba('white')\n",
    "}\n",
    "\n",
    "gender_df[gender_colours.keys()].plot(kind='bar', figsize=(15, 6), stacked=True, color=gender_colours)\n",
    "plt.text(gender_df.shape[0] - 1, 1.1, 'Countries less likely to pitch female singers →', ha='right', va='center', fontsize=12)\n",
    "plt.text(0.05, 1.1, '← Countries more likely to pitch female singers', ha='left', va='center',  fontsize=12)\n",
    "plt.legend(['Female', 'Group', 'Male'], title=\"Performers' gender\", loc=[1, 1], fontsize=8,  bbox_to_anchor=(0.51, 0., 0.5, 0.5))\n",
    "plt.title('Gender of Artists at Eurovision by Performing Country', fontsize=16, pad=30)\n",
    "plt.xticks(rotation=-45, ha='left')\n",
    "plt.xlabel('')\n",
    "plt.ylabel('Ratio of performances')\n",
    "#plt.show()\n",
    "\n",
    "\n",
    "plt.savefig('../../plots/gender_ratios.pdf', bbox_inches='tight')"
   ]
  },
  {
   "cell_type": "code",
   "execution_count": null,
   "metadata": {},
   "outputs": [],
   "source": [
    "gender_df = df[['year', 'to_code2', 'gender']].copy().drop_duplicates()\n",
    "\n",
    "def ratio(gender, x): return len([a for a in x if a == gender]) / len(x)\n",
    "\n",
    "gender_df = gender_df.groupby('year').agg(\n",
    "    female=pd.NamedAgg(column='gender', aggfunc=lambda x: ratio('female', x)),\n",
    "    group=pd.NamedAgg(column='gender', aggfunc=lambda x: ratio('group', x)),\n",
    "    male=pd.NamedAgg(column='gender', aggfunc=lambda x: ratio('male', x)),\n",
    ")\n",
    "\n",
    "gender_df.head()"
   ]
  },
  {
   "cell_type": "code",
   "execution_count": null,
   "metadata": {},
   "outputs": [],
   "source": [
    "# subset gender_colours to genders in gender_df columns\n",
    "# gender_colours = gender_colours[gender_df.columns.to_list()]\n",
    "\n",
    "gender_df.plot(kind='bar', figsize=(15, 6), stacked=True, color=gender_colours)\n",
    "\n",
    "plt.legend(['Female', 'Group', 'Male'], title=\"Performers' gender\", loc=[1, 1], fontsize=8,  bbox_to_anchor=(0.51, 0., 0.5, 0.5))\n",
    "plt.title('Gender of Artists at Eurovision by Year', fontsize=16, pad=30)\n",
    "plt.xticks(rotation=-45, ha='left')\n",
    "plt.xlabel('')\n",
    "plt.ylabel('Ratio of performances')\n",
    "#plt.show()\n",
    "\n",
    "plt.savefig('../../plots/gender_by_year.pdf', bbox_inches='tight')"
   ]
  },
  {
   "cell_type": "code",
   "execution_count": null,
   "metadata": {},
   "outputs": [],
   "source": [
    "gender_df = df[['year', 'to_code2', 'gender', 'points']].copy()\n",
    "genders = list(gender_colours.keys())[:3]\n",
    "votes = []\n",
    "fig = plt.figure(figsize=(10, 5))\n",
    "ax = fig.add_subplot(1, 1, 1)\n",
    "for gender in genders:\n",
    "    votes_df = gender_df[gender_df['gender'] == gender]['points']\n",
    "    votes.append(votes_df)\n",
    "    plt.axvline(votes_df.mean(), color=gender_colours[gender], linestyle='dashed', linewidth=1)\n",
    "\n",
    "plt.hist(votes, density=True, bins=range(14), color=list(gender_colours.values())[:3], label=[gender.title() for gender in genders], align='left')\n",
    "plt.xlabel('Points awarded')\n",
    "plt.ylabel('Frequency')\n",
    "plt.title('Frequency of Points Awarded Categorised by Gender\\n(Dashed line indicates mean score)')\n",
    "plt.legend()\n",
    "plt.xticks(range(13))\n",
    "ax.set_xticklabels([str(i) for i in range(13)])\n",
    "#plt.show()\n",
    "\n",
    "plt.savefig('../../plots/gender_points.pdf', bbox_inches='tight')"
   ]
  },
  {
   "cell_type": "code",
   "execution_count": null,
   "metadata": {},
   "outputs": [],
   "source": [
    "# TODO: check if male get higher average votes. "
   ]
  },
  {
   "attachments": {},
   "cell_type": "markdown",
   "metadata": {},
   "source": [
    "# Collective Visualisations"
   ]
  },
  {
   "attachments": {},
   "cell_type": "markdown",
   "metadata": {},
   "source": [
    "- Heatmap for correlation plot\n",
    "- Martin's plot\n",
    "- Geographical plots\n",
    "- Scatter plots"
   ]
  },
  {
   "cell_type": "code",
   "execution_count": null,
   "metadata": {},
   "outputs": [],
   "source": [
    "df_performance = df[['year', 'Artist', 'to_country', \n",
    "       'total_points', 'rank', 'to_code2', \n",
    "       'Official_languages', 'Language_sung', 'Contains_English',\n",
    "       'Contains_NonEnglish', 'Contains_Multiple_Languages',\n",
    "       'prop_emigrants_v2p', 'prop_emigrants_p2v', 'has_border',\n",
    "       'comps_without_win',\n",
    "       'Number_of_Languages', 'Contains_Own_Language', 'gender']].drop_duplicates()"
   ]
  },
  {
   "cell_type": "code",
   "execution_count": null,
   "metadata": {},
   "outputs": [],
   "source": [
    "import matplotlib\n",
    "\n",
    "# Define the variables of interest and their data types\n",
    "vars_of_interest = {\n",
    "    'Contains_Own_Language': 'binary',\n",
    "    'Contains_Voting_Language': 'binary',\n",
    "    'Contains_English': 'binary',\n",
    "    'Contains_NonEnglish': 'binary',\n",
    "    'prop_emigrants_v2p': 'numeric', \n",
    "    'prop_emigrants_p2v': 'numeric', \n",
    "    'has_border': 'binary',\n",
    "    'gender': 'categorical', \n",
    "    'comps_without_win': 'numeric'\n",
    "}\n",
    "\n",
    "# Define the figure and axes\n",
    "nc = int(np.ceil(len(vars_of_interest)/2))\n",
    "fig, axes = plt.subplots(nrows=2, ncols=nc, figsize=(20, 10), sharey=True)\n",
    "\n",
    "# Loop through the dictionary\n",
    "for i, (key, value) in enumerate(vars_of_interest.items()):\n",
    "    j, k = 0, i\n",
    "    if i > (nc - 1):\n",
    "        j, k = 1, i - nc\n",
    "\n",
    "    if value == 'categorical':\n",
    "        sns.violinplot(ax=axes[j, k], x=key, y='points', data=df, color='tab:blue', inner=None, showmeans=True)\n",
    "    elif value == 'binary':\n",
    "        sns.violinplot(ax=axes[j, k], x=key, y='points', data=df, color='tab:blue', inner=None, showmeans=True)\n",
    "    else:\n",
    "        sns.regplot(ax=axes[j, k], x=key, y='points', data=df, ci=95, \n",
    "                    color='tab:blue', scatter_kws={'alpha': 0.4, 'edgecolor': 'none', 's': 20}, \n",
    "                    line_kws={'color': 'tab:orange'})\n",
    "\n",
    "        # if key contains Prop then log scale x axis\n",
    "        if key.startswith('prop'):\n",
    "            axes[j, k].set_xscale('log')\n",
    "            axes[j, k].set_xticks([0.01, 0.1, 1, 10, 100])\n",
    "            axes[j, k].get_xaxis().set_major_formatter(matplotlib.ticker.ScalarFormatter())\n",
    "            axes[j, k].set_xlim(0.01, 1)\n",
    "\n",
    "    axes[j, k].set_ylim(-1, 13)\n",
    "    axes[j, k].set_xlabel(key.capitalize())\n",
    "    axes[j, k].set_ylabel('Votes')\n",
    "    axes[j, k].set_title(f'Votes vs. {key.capitalize()}')\n",
    "\n",
    "fig.suptitle('Relationships between Covariates and Eurovision Votes', fontsize=16)\n",
    "\n",
    "fig.tight_layout()\n",
    "fig.subplots_adjust(hspace=0.25)\n",
    "\n",
    "# Shuffle the bottom row along there are an odd number of variables\n",
    "if len(vars_of_interest) % 2 == 1:\n",
    "    axes[1][-1].remove()\n",
    "    # distance between two axes\n",
    "    if len(vars_of_interest) >= 3:\n",
    "        dist = axes[0][1].get_position().x0 - axes[0][0].get_position().x0\n",
    "        for ax in axes[1]:\n",
    "            pos = ax.get_position()\n",
    "            ax.set_position([pos.x0 + (dist / 2), pos.y0, pos.width, pos.height])\n",
    "\n",
    "#plt.show()\n",
    "\n",
    "plt.savefig('../../plots/covars_vs_votes.pdf', bbox_inches='tight')"
   ]
  },
  {
   "cell_type": "code",
   "execution_count": null,
   "metadata": {},
   "outputs": [],
   "source": [
    "# plot comps_without_win vs. points\n",
    "sns.violinplot(x='points', y='comps_without_win', data=df)\n",
    "# add jitter\n",
    "sns.stripplot(x='points', y='comps_without_win', data=df, jitter=True, color='black', alpha=0.2)\n",
    "\n",
    "plt.title('Votes vs. Number of Competitions without a Win')\n",
    "plt.ylabel('Number of Competitions without a Win')\n",
    "plt.xlabel('Votes')\n",
    "plt.show()\n"
   ]
  },
  {
   "cell_type": "code",
   "execution_count": null,
   "metadata": {},
   "outputs": [],
   "source": [
    "df[['points', 'comps_without_win']].corr()"
   ]
  },
  {
   "cell_type": "code",
   "execution_count": null,
   "metadata": {},
   "outputs": [],
   "source": [
    "# correlation plot of numeric and binary variables\n",
    "df_corr = df[['points', 'rank',\n",
    "       'total_points', 'Contains_English',\n",
    "       'Contains_NonEnglish', 'Contains_Multiple_Languages',\n",
    "       'Number_of_Languages', 'Contains_Own_Language', 'Contains_Voting_Language',\n",
    "       'gender',\n",
    "       'prop_emigrants_v2p',  'prop_emigrants_p2v', 'has_border',\n",
    "       'comps_without_win']].corr()\n",
    "\n",
    "# heatmap of the correlation matrix\n",
    "sns.heatmap(df_corr.corr(), cmap='coolwarm', annot=True, fmt='.2f', annot_kws={'fontsize': 7})\n",
    "\n",
    "# replace _ in labels with space\n",
    "labels = [label.replace('_', ' ').title() for label in df_corr.columns]\n",
    "plt.xticks(np.arange(len(labels)), labels, rotation=-45, ha='left', va='top')\n",
    "plt.yticks(np.arange(len(labels)) + 0.5, labels, rotation=0, va='center')\n",
    "\n",
    "\n",
    "#plt.show()\n",
    "\n",
    "plt.savefig('../../plots/covar_correlation_plot.pdf', bbox_inches='tight')\n",
    "\n"
   ]
  },
  {
   "attachments": {},
   "cell_type": "markdown",
   "metadata": {
    "tags": []
   },
   "source": [
    "# Modelling\n",
    "\n",
    "[...]"
   ]
  },
  {
   "attachments": {},
   "cell_type": "markdown",
   "metadata": {},
   "source": [
    "# Conclusions\n",
    "\n",
    "Round everything up, draw conclusions."
   ]
  }
 ],
 "metadata": {
  "kernelspec": {
   "display_name": "base",
   "language": "python",
   "name": "python3"
  },
  "language_info": {
   "codemirror_mode": {
    "name": "ipython",
    "version": 3
   },
   "file_extension": ".py",
   "mimetype": "text/x-python",
   "name": "python",
   "nbconvert_exporter": "python",
   "pygments_lexer": "ipython3",
   "version": "3.9.13"
  }
 },
 "nbformat": 4,
 "nbformat_minor": 2
}
