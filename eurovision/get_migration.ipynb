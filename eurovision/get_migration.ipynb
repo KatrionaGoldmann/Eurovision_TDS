{
 "cells": [
  {
   "cell_type": "markdown",
   "metadata": {},
   "source": [
    "## Data for TDS Eurovision: Migration."
   ]
  },
  {
   "attachments": {},
   "cell_type": "markdown",
   "metadata": {},
   "source": [
    "Data pipeline to get migration data for countries participating in the Eurovision song contest, normalised by population size.\n",
    "A couple of different source data files have been merged for this."
   ]
  },
  {
   "attachments": {},
   "cell_type": "markdown",
   "metadata": {},
   "source": [
    "### Raw data description\n",
    "#### 1) Migration\n",
    "File: migration-flows.csv\n",
    "- Data from [OWID](https://ourworldindata.org/migration) on international migration, section *Explore data on where people migrate from and to*.\n",
    "- Original source is from the [UN](https://www.un.org/development/desa/pd/content/international-migrant-stock).\n",
    "- Data shows total number of immigrants in each country split by country of origin in years 1990-2020 every 5 years.\n",
    "\n",
    "### 2) Country codes (2 letters + Country name)\n",
    "File: country_codes.xlsx\n",
    "- From SharePoint (Katriona)\n",
    "\n",
    "### 3) Voting data\n",
    "File: final_voting_data_long.xlsx\n",
    "- From SharePoint (Katriona)\n",
    "\n",
    "### 4) Country codes (2 and 3 letters codes)\n",
    "File: Table scraped from (iban.com)[https://www.iban.com/country-codes] (see below). Needed to join population size data.\n",
    "\n",
    "### 5) Population sizes\n",
    "File: pop_sizes.csv\n",
    "- From the [**worldbank**](https://data.worldbank.org/indicator/SP.POP.TOTL?end=2021&start=2021&view=map). I selected pop sizes only for years 1990-2020 in 5 year steps to match migration data."
   ]
  },
  {
   "cell_type": "markdown",
   "metadata": {},
   "source": [
    "----------------------------------------------------------------------"
   ]
  },
  {
   "cell_type": "markdown",
   "metadata": {},
   "source": [
    "## Data processing"
   ]
  },
  {
   "cell_type": "code",
   "execution_count": 1,
   "metadata": {},
   "outputs": [],
   "source": [
    "import pandas as pd\n",
    "import openpyxl as opx"
   ]
  },
  {
   "cell_type": "markdown",
   "metadata": {},
   "source": [
    "### 1) Migration data"
   ]
  },
  {
   "cell_type": "code",
   "execution_count": 2,
   "metadata": {},
   "outputs": [
    {
     "name": "stdout",
     "output_type": "stream",
     "text": [
      "(1659, 484)\n",
      "   Year      Country  Emigrants from Afghanistan  Immigrants to Afghanistan  \\\n",
      "0  1990  Afghanistan                  -7679582.0                    57686.0   \n",
      "1  1995  Afghanistan                  -4347049.0                    71522.0   \n",
      "2  2000  Afghanistan                  -4750677.0                    75917.0   \n",
      "\n",
      "   Emigrants from Albania  Immigrants to Albania  Emigrants from Algeria  \n",
      "0                     NaN                    NaN                     NaN  \n",
      "1                     NaN                    NaN                     NaN  \n",
      "2                     NaN                    NaN                     NaN  \n"
     ]
    }
   ],
   "source": [
    "df_org = pd.read_csv('data/migration-flows.csv')\n",
    "\n",
    "# overview\n",
    "print(df_org.shape)\n",
    "print(df_org.iloc[:, :7].head(3))"
   ]
  },
  {
   "attachments": {},
   "cell_type": "markdown",
   "metadata": {},
   "source": [
    "Get into long format and clean data. Filter only Emigration, as we really want to know the nationalities of people in each country."
   ]
  },
  {
   "cell_type": "code",
   "execution_count": 3,
   "metadata": {},
   "outputs": [
    {
     "data": {
      "text/html": [
       "<div>\n",
       "<style scoped>\n",
       "    .dataframe tbody tr th:only-of-type {\n",
       "        vertical-align: middle;\n",
       "    }\n",
       "\n",
       "    .dataframe tbody tr th {\n",
       "        vertical-align: top;\n",
       "    }\n",
       "\n",
       "    .dataframe thead th {\n",
       "        text-align: right;\n",
       "    }\n",
       "</style>\n",
       "<table border=\"1\" class=\"dataframe\">\n",
       "  <thead>\n",
       "    <tr style=\"text-align: right;\">\n",
       "      <th></th>\n",
       "      <th>country</th>\n",
       "      <th>year</th>\n",
       "      <th>emigrated_from</th>\n",
       "      <th>count</th>\n",
       "    </tr>\n",
       "  </thead>\n",
       "  <tbody>\n",
       "    <tr>\n",
       "      <th>56</th>\n",
       "      <td>Argentina</td>\n",
       "      <td>1990</td>\n",
       "      <td>Afghanistan</td>\n",
       "      <td>20</td>\n",
       "    </tr>\n",
       "    <tr>\n",
       "      <th>57</th>\n",
       "      <td>Argentina</td>\n",
       "      <td>1995</td>\n",
       "      <td>Afghanistan</td>\n",
       "      <td>20</td>\n",
       "    </tr>\n",
       "    <tr>\n",
       "      <th>58</th>\n",
       "      <td>Argentina</td>\n",
       "      <td>2000</td>\n",
       "      <td>Afghanistan</td>\n",
       "      <td>20</td>\n",
       "    </tr>\n",
       "    <tr>\n",
       "      <th>59</th>\n",
       "      <td>Argentina</td>\n",
       "      <td>2005</td>\n",
       "      <td>Afghanistan</td>\n",
       "      <td>16</td>\n",
       "    </tr>\n",
       "    <tr>\n",
       "      <th>60</th>\n",
       "      <td>Argentina</td>\n",
       "      <td>2010</td>\n",
       "      <td>Afghanistan</td>\n",
       "      <td>9</td>\n",
       "    </tr>\n",
       "    <tr>\n",
       "      <th>...</th>\n",
       "      <td>...</td>\n",
       "      <td>...</td>\n",
       "      <td>...</td>\n",
       "      <td>...</td>\n",
       "    </tr>\n",
       "    <tr>\n",
       "      <th>784695</th>\n",
       "      <td>Zambia</td>\n",
       "      <td>2000</td>\n",
       "      <td>Zimbabwe</td>\n",
       "      <td>9056</td>\n",
       "    </tr>\n",
       "    <tr>\n",
       "      <th>784696</th>\n",
       "      <td>Zambia</td>\n",
       "      <td>2005</td>\n",
       "      <td>Zimbabwe</td>\n",
       "      <td>12444</td>\n",
       "    </tr>\n",
       "    <tr>\n",
       "      <th>784697</th>\n",
       "      <td>Zambia</td>\n",
       "      <td>2010</td>\n",
       "      <td>Zimbabwe</td>\n",
       "      <td>17226</td>\n",
       "    </tr>\n",
       "    <tr>\n",
       "      <th>784698</th>\n",
       "      <td>Zambia</td>\n",
       "      <td>2015</td>\n",
       "      <td>Zimbabwe</td>\n",
       "      <td>13175</td>\n",
       "    </tr>\n",
       "    <tr>\n",
       "      <th>784699</th>\n",
       "      <td>Zambia</td>\n",
       "      <td>2020</td>\n",
       "      <td>Zimbabwe</td>\n",
       "      <td>16816</td>\n",
       "    </tr>\n",
       "  </tbody>\n",
       "</table>\n",
       "<p>91224 rows × 4 columns</p>\n",
       "</div>"
      ],
      "text/plain": [
       "          country  year emigrated_from  count\n",
       "56      Argentina  1990    Afghanistan     20\n",
       "57      Argentina  1995    Afghanistan     20\n",
       "58      Argentina  2000    Afghanistan     20\n",
       "59      Argentina  2005    Afghanistan     16\n",
       "60      Argentina  2010    Afghanistan      9\n",
       "...           ...   ...            ...    ...\n",
       "784695     Zambia  2000       Zimbabwe   9056\n",
       "784696     Zambia  2005       Zimbabwe  12444\n",
       "784697     Zambia  2010       Zimbabwe  17226\n",
       "784698     Zambia  2015       Zimbabwe  13175\n",
       "784699     Zambia  2020       Zimbabwe  16816\n",
       "\n",
       "[91224 rows x 4 columns]"
      ]
     },
     "execution_count": 3,
     "metadata": {},
     "output_type": "execute_result"
    }
   ],
   "source": [
    "df = (df_org\n",
    "    .pipe(pd.melt, id_vars=['Country', 'Year'], var_name='Migration', value_name='Count') # to long format\n",
    "    .loc[lambda x: x['Migration'].str.contains('Emigrants')]                         # filter for emigrant rows\n",
    "    .pipe(lambda x: x.rename(columns = {col: col.lower() for col in x.columns}))     # lowercase column names                                                         \n",
    "    .assign(migration = lambda x: x.migration.str.replace('Emigrants from ', ''))    # filter for emigrant rows                          \n",
    "    .rename(columns={'migration': 'emigrated_from'})                                 # boil down to country name\n",
    "    .query('count >= 0')                                                             # negative counts are just total emigrants from country\n",
    "    .pipe(lambda x: x.assign(count = x['count'].astype(int)))                        # convert count to int     \n",
    ")\n",
    "df"
   ]
  },
  {
   "attachments": {},
   "cell_type": "markdown",
   "metadata": {},
   "source": [
    "Just a check"
   ]
  },
  {
   "cell_type": "code",
   "execution_count": 4,
   "metadata": {},
   "outputs": [
    {
     "data": {
      "text/html": [
       "<div>\n",
       "<style scoped>\n",
       "    .dataframe tbody tr th:only-of-type {\n",
       "        vertical-align: middle;\n",
       "    }\n",
       "\n",
       "    .dataframe tbody tr th {\n",
       "        vertical-align: top;\n",
       "    }\n",
       "\n",
       "    .dataframe thead th {\n",
       "        text-align: right;\n",
       "    }\n",
       "</style>\n",
       "<table border=\"1\" class=\"dataframe\">\n",
       "  <thead>\n",
       "    <tr style=\"text-align: right;\">\n",
       "      <th></th>\n",
       "      <th>country</th>\n",
       "      <th>year</th>\n",
       "      <th>emigrated_from</th>\n",
       "      <th>count</th>\n",
       "    </tr>\n",
       "  </thead>\n",
       "  <tbody>\n",
       "    <tr>\n",
       "      <th>717241</th>\n",
       "      <td>Germany</td>\n",
       "      <td>1990</td>\n",
       "      <td>Turkey</td>\n",
       "      <td>1459167</td>\n",
       "    </tr>\n",
       "    <tr>\n",
       "      <th>717242</th>\n",
       "      <td>Germany</td>\n",
       "      <td>1995</td>\n",
       "      <td>Turkey</td>\n",
       "      <td>1617880</td>\n",
       "    </tr>\n",
       "    <tr>\n",
       "      <th>717243</th>\n",
       "      <td>Germany</td>\n",
       "      <td>2000</td>\n",
       "      <td>Turkey</td>\n",
       "      <td>1604965</td>\n",
       "    </tr>\n",
       "  </tbody>\n",
       "</table>\n",
       "</div>"
      ],
      "text/plain": [
       "        country  year emigrated_from    count\n",
       "717241  Germany  1990         Turkey  1459167\n",
       "717242  Germany  1995         Turkey  1617880\n",
       "717243  Germany  2000         Turkey  1604965"
      ]
     },
     "execution_count": 4,
     "metadata": {},
     "output_type": "execute_result"
    }
   ],
   "source": [
    "df[(df['country'] == 'Germany') & (df['emigrated_from'] == 'Turkey')].head(3)"
   ]
  },
  {
   "attachments": {},
   "cell_type": "markdown",
   "metadata": {},
   "source": [
    "### 2) Country codes"
   ]
  },
  {
   "attachments": {},
   "cell_type": "markdown",
   "metadata": {},
   "source": [
    "To both country and emigrated_from variables."
   ]
  },
  {
   "cell_type": "code",
   "execution_count": 5,
   "metadata": {},
   "outputs": [
    {
     "data": {
      "text/html": [
       "<div>\n",
       "<style scoped>\n",
       "    .dataframe tbody tr th:only-of-type {\n",
       "        vertical-align: middle;\n",
       "    }\n",
       "\n",
       "    .dataframe tbody tr th {\n",
       "        vertical-align: top;\n",
       "    }\n",
       "\n",
       "    .dataframe thead th {\n",
       "        text-align: right;\n",
       "    }\n",
       "</style>\n",
       "<table border=\"1\" class=\"dataframe\">\n",
       "  <thead>\n",
       "    <tr style=\"text-align: right;\">\n",
       "      <th></th>\n",
       "      <th>country_code</th>\n",
       "      <th>country</th>\n",
       "    </tr>\n",
       "  </thead>\n",
       "  <tbody>\n",
       "    <tr>\n",
       "      <th>0</th>\n",
       "      <td>AD</td>\n",
       "      <td>Andorra</td>\n",
       "    </tr>\n",
       "    <tr>\n",
       "      <th>2</th>\n",
       "      <td>AE</td>\n",
       "      <td>United Arab Emirates</td>\n",
       "    </tr>\n",
       "    <tr>\n",
       "      <th>4</th>\n",
       "      <td>AF</td>\n",
       "      <td>Afghanistan</td>\n",
       "    </tr>\n",
       "    <tr>\n",
       "      <th>10</th>\n",
       "      <td>AG</td>\n",
       "      <td>Antigua and Barbuda</td>\n",
       "    </tr>\n",
       "    <tr>\n",
       "      <th>11</th>\n",
       "      <td>AI</td>\n",
       "      <td>Anguilla</td>\n",
       "    </tr>\n",
       "    <tr>\n",
       "      <th>...</th>\n",
       "      <td>...</td>\n",
       "      <td>...</td>\n",
       "    </tr>\n",
       "    <tr>\n",
       "      <th>707</th>\n",
       "      <td>YE</td>\n",
       "      <td>Yemen</td>\n",
       "    </tr>\n",
       "    <tr>\n",
       "      <th>709</th>\n",
       "      <td>YT</td>\n",
       "      <td>Mayotte</td>\n",
       "    </tr>\n",
       "    <tr>\n",
       "      <th>710</th>\n",
       "      <td>ZA</td>\n",
       "      <td>South Africa</td>\n",
       "    </tr>\n",
       "    <tr>\n",
       "      <th>716</th>\n",
       "      <td>ZM</td>\n",
       "      <td>Zambia</td>\n",
       "    </tr>\n",
       "    <tr>\n",
       "      <th>724</th>\n",
       "      <td>ZW</td>\n",
       "      <td>Zimbabwe</td>\n",
       "    </tr>\n",
       "  </tbody>\n",
       "</table>\n",
       "<p>249 rows × 2 columns</p>\n",
       "</div>"
      ],
      "text/plain": [
       "    country_code               country\n",
       "0             AD               Andorra\n",
       "2             AE  United Arab Emirates\n",
       "4             AF           Afghanistan\n",
       "10            AG   Antigua and Barbuda\n",
       "11            AI              Anguilla\n",
       "..           ...                   ...\n",
       "707           YE                 Yemen\n",
       "709           YT               Mayotte\n",
       "710           ZA          South Africa\n",
       "716           ZM                Zambia\n",
       "724           ZW              Zimbabwe\n",
       "\n",
       "[249 rows x 2 columns]"
      ]
     },
     "execution_count": 5,
     "metadata": {},
     "output_type": "execute_result"
    }
   ],
   "source": [
    "# load country codes\n",
    "cc = (pd.read_excel('data/country_codes.xlsx')\n",
    "        .rename(columns={'country_name': 'country'})\n",
    "        .drop(['country_border_code', 'country_border_name'], axis=1)\n",
    "        .drop_duplicates())\n",
    "cc"
   ]
  },
  {
   "cell_type": "markdown",
   "metadata": {},
   "source": [
    "A few country names don't match between datasets. Change them manually."
   ]
  },
  {
   "cell_type": "code",
   "execution_count": 6,
   "metadata": {},
   "outputs": [],
   "source": [
    "cc.loc[cc['country'] == 'United Kingdom of Great Britain and Northern Ireland', 'country'] = 'United Kingdom'\n",
    "cc.loc[cc['country'] == 'Russian Federation', 'country'] = 'Russia'\n",
    "cc.loc[cc['country'] == 'Moldova (the Republic of)', 'country'] = 'Moldova'"
   ]
  },
  {
   "cell_type": "markdown",
   "metadata": {},
   "source": [
    "Add country codes to migration data, once for the focal country and once for the emigrated_from country."
   ]
  },
  {
   "cell_type": "code",
   "execution_count": 7,
   "metadata": {},
   "outputs": [],
   "source": [
    "df = (df\n",
    "    .merge(cc, on='country', how='left')\n",
    "    .merge(cc, left_on='emigrated_from', right_on='country', how='left')\n",
    "    .drop('country_y', axis=1)\n",
    "    .rename(columns={'country_x': 'country', 'country_code_x': 'code', 'country_code_y': 'emigrated_from_code'})\n",
    "    .reindex(columns=['country', 'code', 'year', 'emigrated_from', 'emigrated_from_code', 'count']))\n"
   ]
  },
  {
   "cell_type": "markdown",
   "metadata": {},
   "source": [
    "Another check"
   ]
  },
  {
   "cell_type": "code",
   "execution_count": 8,
   "metadata": {},
   "outputs": [
    {
     "data": {
      "text/html": [
       "<div>\n",
       "<style scoped>\n",
       "    .dataframe tbody tr th:only-of-type {\n",
       "        vertical-align: middle;\n",
       "    }\n",
       "\n",
       "    .dataframe tbody tr th {\n",
       "        vertical-align: top;\n",
       "    }\n",
       "\n",
       "    .dataframe thead th {\n",
       "        text-align: right;\n",
       "    }\n",
       "</style>\n",
       "<table border=\"1\" class=\"dataframe\">\n",
       "  <thead>\n",
       "    <tr style=\"text-align: right;\">\n",
       "      <th></th>\n",
       "      <th>country</th>\n",
       "      <th>code</th>\n",
       "      <th>year</th>\n",
       "      <th>emigrated_from</th>\n",
       "      <th>emigrated_from_code</th>\n",
       "      <th>count</th>\n",
       "    </tr>\n",
       "  </thead>\n",
       "  <tbody>\n",
       "    <tr>\n",
       "      <th>82873</th>\n",
       "      <td>Germany</td>\n",
       "      <td>DE</td>\n",
       "      <td>1990</td>\n",
       "      <td>Turkey</td>\n",
       "      <td>TR</td>\n",
       "      <td>1459167</td>\n",
       "    </tr>\n",
       "    <tr>\n",
       "      <th>82874</th>\n",
       "      <td>Germany</td>\n",
       "      <td>DE</td>\n",
       "      <td>1995</td>\n",
       "      <td>Turkey</td>\n",
       "      <td>TR</td>\n",
       "      <td>1617880</td>\n",
       "    </tr>\n",
       "    <tr>\n",
       "      <th>82875</th>\n",
       "      <td>Germany</td>\n",
       "      <td>DE</td>\n",
       "      <td>2000</td>\n",
       "      <td>Turkey</td>\n",
       "      <td>TR</td>\n",
       "      <td>1604965</td>\n",
       "    </tr>\n",
       "    <tr>\n",
       "      <th>82876</th>\n",
       "      <td>Germany</td>\n",
       "      <td>DE</td>\n",
       "      <td>2005</td>\n",
       "      <td>Turkey</td>\n",
       "      <td>TR</td>\n",
       "      <td>1315719</td>\n",
       "    </tr>\n",
       "    <tr>\n",
       "      <th>82877</th>\n",
       "      <td>Germany</td>\n",
       "      <td>DE</td>\n",
       "      <td>2010</td>\n",
       "      <td>Turkey</td>\n",
       "      <td>TR</td>\n",
       "      <td>1314223</td>\n",
       "    </tr>\n",
       "    <tr>\n",
       "      <th>82878</th>\n",
       "      <td>Germany</td>\n",
       "      <td>DE</td>\n",
       "      <td>2015</td>\n",
       "      <td>Turkey</td>\n",
       "      <td>TR</td>\n",
       "      <td>1343522</td>\n",
       "    </tr>\n",
       "    <tr>\n",
       "      <th>82879</th>\n",
       "      <td>Germany</td>\n",
       "      <td>DE</td>\n",
       "      <td>2020</td>\n",
       "      <td>Turkey</td>\n",
       "      <td>TR</td>\n",
       "      <td>1837282</td>\n",
       "    </tr>\n",
       "  </tbody>\n",
       "</table>\n",
       "</div>"
      ],
      "text/plain": [
       "       country code  year emigrated_from emigrated_from_code    count\n",
       "82873  Germany   DE  1990         Turkey                  TR  1459167\n",
       "82874  Germany   DE  1995         Turkey                  TR  1617880\n",
       "82875  Germany   DE  2000         Turkey                  TR  1604965\n",
       "82876  Germany   DE  2005         Turkey                  TR  1315719\n",
       "82877  Germany   DE  2010         Turkey                  TR  1314223\n",
       "82878  Germany   DE  2015         Turkey                  TR  1343522\n",
       "82879  Germany   DE  2020         Turkey                  TR  1837282"
      ]
     },
     "execution_count": 8,
     "metadata": {},
     "output_type": "execute_result"
    }
   ],
   "source": [
    "df[(df['country'] == 'Germany') & (df['emigrated_from'] == 'Turkey')]"
   ]
  },
  {
   "attachments": {},
   "cell_type": "markdown",
   "metadata": {},
   "source": [
    "### 3) Filter eurovision countries"
   ]
  },
  {
   "cell_type": "code",
   "execution_count": 9,
   "metadata": {},
   "outputs": [
    {
     "data": {
      "text/plain": [
       "array(['AT', 'BA', 'BE', 'CY', 'DE', 'DK', 'EE', 'ES', 'FR', 'GB', 'HR',\n",
       "       'IE', 'IL', 'IS', 'LT', 'MT', 'NL', 'NO', 'PL', 'PT', 'SE', 'SI',\n",
       "       'TR', 'CH', 'FI', 'LV', 'MK', 'RO', 'RU', 'GR', 'UA', 'AD', 'AL',\n",
       "       'BY', 'MC', 'YU', 'BG', 'HU', 'MD', 'AM', 'CZ', 'GE', 'ME', 'RS',\n",
       "       'AZ', 'SM', 'SK', 'IT', 'AU'], dtype=object)"
      ]
     },
     "execution_count": 9,
     "metadata": {},
     "output_type": "execute_result"
    }
   ],
   "source": [
    "vd = pd.read_excel('data/final_voting_data_long.xlsx')\n",
    "# check whether GB or GBR or UK is in the 'From country' column\n",
    "vd['From country'].unique()"
   ]
  },
  {
   "cell_type": "code",
   "execution_count": 10,
   "metadata": {},
   "outputs": [
    {
     "data": {
      "text/plain": [
       "49"
      ]
     },
     "execution_count": 10,
     "metadata": {},
     "output_type": "execute_result"
    }
   ],
   "source": [
    "# get set of all country codes in \"From country\" and \"To country\" columns\n",
    "codes = set(vd['From country'].unique()).union(set(vd['To country'].unique()))\n",
    "len(codes)"
   ]
  },
  {
   "cell_type": "code",
   "execution_count": 11,
   "metadata": {},
   "outputs": [
    {
     "data": {
      "text/plain": [
       "{'YU'}"
      ]
     },
     "execution_count": 11,
     "metadata": {},
     "output_type": "execute_result"
    }
   ],
   "source": [
    "# which code in codes is not in the code variable in df? -> yugoslawia\n",
    "codes.difference(set(df['code'].unique()))"
   ]
  },
  {
   "cell_type": "markdown",
   "metadata": {},
   "source": [
    "Summarise all non eurovision countries in one code 'Other'."
   ]
  },
  {
   "cell_type": "code",
   "execution_count": 12,
   "metadata": {},
   "outputs": [],
   "source": [
    "df = (df\n",
    "    .pipe(lambda x: x.assign( # replace all non-Eurovision codes with 'Other'\n",
    "        code = x['code'].apply(lambda x: x if x in codes else 'Other'),\n",
    "        emigrated_from_code = x['emigrated_from_code'].apply(lambda x: x if x in codes else 'Other'),\n",
    "        emigrated_from = x['emigrated_from'].apply(lambda x: 'Other' if x == 'Other' else x)))\n",
    "    # filter out 'Other' from country and aggregate the rest to compress 'Other' into one row per country\n",
    "    .query('code != \"Other\"') # remove all rows with 'Other' as code\n",
    "    .groupby(['country', 'code', 'year', 'emigrated_from_code']) \n",
    "    .agg({'count': 'sum'})\n",
    "    .reset_index()\n",
    ")"
   ]
  },
  {
   "cell_type": "code",
   "execution_count": 13,
   "metadata": {},
   "outputs": [
    {
     "name": "stdout",
     "output_type": "stream",
     "text": [
      "(12649, 5)\n"
     ]
    },
    {
     "data": {
      "text/html": [
       "<div>\n",
       "<style scoped>\n",
       "    .dataframe tbody tr th:only-of-type {\n",
       "        vertical-align: middle;\n",
       "    }\n",
       "\n",
       "    .dataframe tbody tr th {\n",
       "        vertical-align: top;\n",
       "    }\n",
       "\n",
       "    .dataframe thead th {\n",
       "        text-align: right;\n",
       "    }\n",
       "</style>\n",
       "<table border=\"1\" class=\"dataframe\">\n",
       "  <thead>\n",
       "    <tr style=\"text-align: right;\">\n",
       "      <th></th>\n",
       "      <th>country</th>\n",
       "      <th>code</th>\n",
       "      <th>year</th>\n",
       "      <th>emigrated_from_code</th>\n",
       "      <th>count</th>\n",
       "    </tr>\n",
       "  </thead>\n",
       "  <tbody>\n",
       "    <tr>\n",
       "      <th>4382</th>\n",
       "      <td>Germany</td>\n",
       "      <td>DE</td>\n",
       "      <td>1990</td>\n",
       "      <td>AL</td>\n",
       "      <td>5211</td>\n",
       "    </tr>\n",
       "    <tr>\n",
       "      <th>4383</th>\n",
       "      <td>Germany</td>\n",
       "      <td>DE</td>\n",
       "      <td>1990</td>\n",
       "      <td>AM</td>\n",
       "      <td>5581</td>\n",
       "    </tr>\n",
       "    <tr>\n",
       "      <th>4384</th>\n",
       "      <td>Germany</td>\n",
       "      <td>DE</td>\n",
       "      <td>1990</td>\n",
       "      <td>AT</td>\n",
       "      <td>189349</td>\n",
       "    </tr>\n",
       "    <tr>\n",
       "      <th>4385</th>\n",
       "      <td>Germany</td>\n",
       "      <td>DE</td>\n",
       "      <td>1990</td>\n",
       "      <td>AU</td>\n",
       "      <td>6205</td>\n",
       "    </tr>\n",
       "    <tr>\n",
       "      <th>4386</th>\n",
       "      <td>Germany</td>\n",
       "      <td>DE</td>\n",
       "      <td>1990</td>\n",
       "      <td>AZ</td>\n",
       "      <td>600</td>\n",
       "    </tr>\n",
       "    <tr>\n",
       "      <th>4387</th>\n",
       "      <td>Germany</td>\n",
       "      <td>DE</td>\n",
       "      <td>1990</td>\n",
       "      <td>BA</td>\n",
       "      <td>108349</td>\n",
       "    </tr>\n",
       "    <tr>\n",
       "      <th>4388</th>\n",
       "      <td>Germany</td>\n",
       "      <td>DE</td>\n",
       "      <td>1990</td>\n",
       "      <td>BE</td>\n",
       "      <td>21902</td>\n",
       "    </tr>\n",
       "    <tr>\n",
       "      <th>4389</th>\n",
       "      <td>Germany</td>\n",
       "      <td>DE</td>\n",
       "      <td>1990</td>\n",
       "      <td>BG</td>\n",
       "      <td>27077</td>\n",
       "    </tr>\n",
       "    <tr>\n",
       "      <th>4390</th>\n",
       "      <td>Germany</td>\n",
       "      <td>DE</td>\n",
       "      <td>1990</td>\n",
       "      <td>BY</td>\n",
       "      <td>1190</td>\n",
       "    </tr>\n",
       "    <tr>\n",
       "      <th>4391</th>\n",
       "      <td>Germany</td>\n",
       "      <td>DE</td>\n",
       "      <td>1990</td>\n",
       "      <td>CH</td>\n",
       "      <td>33253</td>\n",
       "    </tr>\n",
       "  </tbody>\n",
       "</table>\n",
       "</div>"
      ],
      "text/plain": [
       "      country code  year emigrated_from_code   count\n",
       "4382  Germany   DE  1990                  AL    5211\n",
       "4383  Germany   DE  1990                  AM    5581\n",
       "4384  Germany   DE  1990                  AT  189349\n",
       "4385  Germany   DE  1990                  AU    6205\n",
       "4386  Germany   DE  1990                  AZ     600\n",
       "4387  Germany   DE  1990                  BA  108349\n",
       "4388  Germany   DE  1990                  BE   21902\n",
       "4389  Germany   DE  1990                  BG   27077\n",
       "4390  Germany   DE  1990                  BY    1190\n",
       "4391  Germany   DE  1990                  CH   33253"
      ]
     },
     "execution_count": 13,
     "metadata": {},
     "output_type": "execute_result"
    }
   ],
   "source": [
    "# check again\n",
    "print(df.shape)\n",
    "df[df['country'] == 'Germany'].head(10)\n",
    "\n",
    "#df.query('emigrated_from_code == \"Other\"').head(20)"
   ]
  },
  {
   "attachments": {},
   "cell_type": "markdown",
   "metadata": {},
   "source": [
    "## 4) add population size for each country\n"
   ]
  },
  {
   "attachments": {},
   "cell_type": "markdown",
   "metadata": {},
   "source": [
    "First need 3 letter country codes to join the population size table and the migration table."
   ]
  },
  {
   "cell_type": "code",
   "execution_count": 14,
   "metadata": {},
   "outputs": [],
   "source": [
    "# get table from IBAN website\n",
    "tables = pd.read_html(\"https://www.iban.com/country-codes\")\n",
    "codes = tables[0]"
   ]
  },
  {
   "cell_type": "markdown",
   "metadata": {},
   "source": [
    "Clean up."
   ]
  },
  {
   "cell_type": "code",
   "execution_count": 18,
   "metadata": {},
   "outputs": [],
   "source": [
    "codes = (codes\n",
    "    .pipe(lambda x: x.rename(columns = {col: col.lower() for col in x.columns}))\n",
    "    .rename(columns={'alpha-2 code': 'code', 'alpha-3 code': 'code3'})\n",
    "    .drop(['country', 'numeric'], axis=1)\n",
    ")"
   ]
  },
  {
   "cell_type": "markdown",
   "metadata": {},
   "source": [
    "Add three letter country codes to migration data."
   ]
  },
  {
   "cell_type": "code",
   "execution_count": 19,
   "metadata": {},
   "outputs": [
    {
     "data": {
      "text/html": [
       "<div>\n",
       "<style scoped>\n",
       "    .dataframe tbody tr th:only-of-type {\n",
       "        vertical-align: middle;\n",
       "    }\n",
       "\n",
       "    .dataframe tbody tr th {\n",
       "        vertical-align: top;\n",
       "    }\n",
       "\n",
       "    .dataframe thead th {\n",
       "        text-align: right;\n",
       "    }\n",
       "</style>\n",
       "<table border=\"1\" class=\"dataframe\">\n",
       "  <thead>\n",
       "    <tr style=\"text-align: right;\">\n",
       "      <th></th>\n",
       "      <th>country</th>\n",
       "      <th>code</th>\n",
       "      <th>year</th>\n",
       "      <th>emigrated_from_code</th>\n",
       "      <th>count</th>\n",
       "      <th>code3</th>\n",
       "    </tr>\n",
       "  </thead>\n",
       "  <tbody>\n",
       "    <tr>\n",
       "      <th>0</th>\n",
       "      <td>Albania</td>\n",
       "      <td>AL</td>\n",
       "      <td>1990</td>\n",
       "      <td>GR</td>\n",
       "      <td>40087</td>\n",
       "      <td>ALB</td>\n",
       "    </tr>\n",
       "    <tr>\n",
       "      <th>1</th>\n",
       "      <td>Albania</td>\n",
       "      <td>AL</td>\n",
       "      <td>1990</td>\n",
       "      <td>IT</td>\n",
       "      <td>11287</td>\n",
       "      <td>ALB</td>\n",
       "    </tr>\n",
       "    <tr>\n",
       "      <th>2</th>\n",
       "      <td>Albania</td>\n",
       "      <td>AL</td>\n",
       "      <td>1990</td>\n",
       "      <td>MK</td>\n",
       "      <td>678</td>\n",
       "      <td>ALB</td>\n",
       "    </tr>\n",
       "  </tbody>\n",
       "</table>\n",
       "</div>"
      ],
      "text/plain": [
       "   country code  year emigrated_from_code  count code3\n",
       "0  Albania   AL  1990                  GR  40087   ALB\n",
       "1  Albania   AL  1990                  IT  11287   ALB\n",
       "2  Albania   AL  1990                  MK    678   ALB"
      ]
     },
     "execution_count": 19,
     "metadata": {},
     "output_type": "execute_result"
    }
   ],
   "source": [
    "df = df.merge(codes, on='code', how='left')\n",
    "df.head(3)"
   ]
  },
  {
   "attachments": {},
   "cell_type": "markdown",
   "metadata": {},
   "source": [
    "Population size data from the [**worldbank**](https://data.worldbank.org/indicator/SP.POP.TOTL?end=2021&start=2021&view=map). I selected pop sizes only for years 1990-2020 in 5 year steps to match migration data."
   ]
  },
  {
   "cell_type": "code",
   "execution_count": 40,
   "metadata": {},
   "outputs": [],
   "source": [
    "pop_size = (pd.read_csv('data/pop_sizes.csv')\n",
    "           .iloc[:, 3:]\n",
    "           .rename(columns=lambda x: x.lower().replace(' ', '_'))\n",
    "           .pipe(pd.melt, id_vars=['country_code'], var_name='year', value_name='population')\n",
    "           .assign(year=lambda x: x['year'].apply(lambda y: y.split('_')[0]))\n",
    "           .assign(year=lambda x: x['year'].astype(int))\n",
    "           .rename(columns={'country_code': 'code3'})\n",
    "           .dropna()\n",
    "           .assign(population=lambda x: pd.to_numeric(x['population'], errors='coerce'))\n",
    "           )"
   ]
  },
  {
   "attachments": {},
   "cell_type": "markdown",
   "metadata": {},
   "source": [
    "Add population size to migration data."
   ]
  },
  {
   "cell_type": "code",
   "execution_count": 41,
   "metadata": {},
   "outputs": [
    {
     "data": {
      "text/html": [
       "<div>\n",
       "<style scoped>\n",
       "    .dataframe tbody tr th:only-of-type {\n",
       "        vertical-align: middle;\n",
       "    }\n",
       "\n",
       "    .dataframe tbody tr th {\n",
       "        vertical-align: top;\n",
       "    }\n",
       "\n",
       "    .dataframe thead th {\n",
       "        text-align: right;\n",
       "    }\n",
       "</style>\n",
       "<table border=\"1\" class=\"dataframe\">\n",
       "  <thead>\n",
       "    <tr style=\"text-align: right;\">\n",
       "      <th></th>\n",
       "      <th>country</th>\n",
       "      <th>code</th>\n",
       "      <th>code3</th>\n",
       "      <th>population</th>\n",
       "      <th>year</th>\n",
       "      <th>emigrated_from_code</th>\n",
       "      <th>count</th>\n",
       "      <th>prop_emigrants</th>\n",
       "    </tr>\n",
       "  </thead>\n",
       "  <tbody>\n",
       "    <tr>\n",
       "      <th>0</th>\n",
       "      <td>Albania</td>\n",
       "      <td>AL</td>\n",
       "      <td>ALB</td>\n",
       "      <td>3286542.0</td>\n",
       "      <td>1990</td>\n",
       "      <td>GR</td>\n",
       "      <td>40087</td>\n",
       "      <td>0.012197</td>\n",
       "    </tr>\n",
       "    <tr>\n",
       "      <th>1</th>\n",
       "      <td>Albania</td>\n",
       "      <td>AL</td>\n",
       "      <td>ALB</td>\n",
       "      <td>3286542.0</td>\n",
       "      <td>1990</td>\n",
       "      <td>IT</td>\n",
       "      <td>11287</td>\n",
       "      <td>0.003434</td>\n",
       "    </tr>\n",
       "    <tr>\n",
       "      <th>2</th>\n",
       "      <td>Albania</td>\n",
       "      <td>AL</td>\n",
       "      <td>ALB</td>\n",
       "      <td>3286542.0</td>\n",
       "      <td>1990</td>\n",
       "      <td>MK</td>\n",
       "      <td>678</td>\n",
       "      <td>0.000206</td>\n",
       "    </tr>\n",
       "    <tr>\n",
       "      <th>3</th>\n",
       "      <td>Albania</td>\n",
       "      <td>AL</td>\n",
       "      <td>ALB</td>\n",
       "      <td>3286542.0</td>\n",
       "      <td>1990</td>\n",
       "      <td>Other</td>\n",
       "      <td>4162</td>\n",
       "      <td>0.001266</td>\n",
       "    </tr>\n",
       "    <tr>\n",
       "      <th>4</th>\n",
       "      <td>Albania</td>\n",
       "      <td>AL</td>\n",
       "      <td>ALB</td>\n",
       "      <td>3286542.0</td>\n",
       "      <td>1990</td>\n",
       "      <td>TR</td>\n",
       "      <td>2489</td>\n",
       "      <td>0.000757</td>\n",
       "    </tr>\n",
       "    <tr>\n",
       "      <th>...</th>\n",
       "      <td>...</td>\n",
       "      <td>...</td>\n",
       "      <td>...</td>\n",
       "      <td>...</td>\n",
       "      <td>...</td>\n",
       "      <td>...</td>\n",
       "      <td>...</td>\n",
       "      <td>...</td>\n",
       "    </tr>\n",
       "    <tr>\n",
       "      <th>12644</th>\n",
       "      <td>United Kingdom</td>\n",
       "      <td>GB</td>\n",
       "      <td>GBR</td>\n",
       "      <td>67081000.0</td>\n",
       "      <td>2020</td>\n",
       "      <td>SE</td>\n",
       "      <td>35824</td>\n",
       "      <td>0.000534</td>\n",
       "    </tr>\n",
       "    <tr>\n",
       "      <th>12645</th>\n",
       "      <td>United Kingdom</td>\n",
       "      <td>GB</td>\n",
       "      <td>GBR</td>\n",
       "      <td>67081000.0</td>\n",
       "      <td>2020</td>\n",
       "      <td>SI</td>\n",
       "      <td>3668</td>\n",
       "      <td>0.000055</td>\n",
       "    </tr>\n",
       "    <tr>\n",
       "      <th>12646</th>\n",
       "      <td>United Kingdom</td>\n",
       "      <td>GB</td>\n",
       "      <td>GBR</td>\n",
       "      <td>67081000.0</td>\n",
       "      <td>2020</td>\n",
       "      <td>SK</td>\n",
       "      <td>72209</td>\n",
       "      <td>0.001076</td>\n",
       "    </tr>\n",
       "    <tr>\n",
       "      <th>12647</th>\n",
       "      <td>United Kingdom</td>\n",
       "      <td>GB</td>\n",
       "      <td>GBR</td>\n",
       "      <td>67081000.0</td>\n",
       "      <td>2020</td>\n",
       "      <td>TR</td>\n",
       "      <td>97205</td>\n",
       "      <td>0.001449</td>\n",
       "    </tr>\n",
       "    <tr>\n",
       "      <th>12648</th>\n",
       "      <td>United Kingdom</td>\n",
       "      <td>GB</td>\n",
       "      <td>GBR</td>\n",
       "      <td>67081000.0</td>\n",
       "      <td>2020</td>\n",
       "      <td>UA</td>\n",
       "      <td>22119</td>\n",
       "      <td>0.000330</td>\n",
       "    </tr>\n",
       "  </tbody>\n",
       "</table>\n",
       "<p>12649 rows × 8 columns</p>\n",
       "</div>"
      ],
      "text/plain": [
       "              country code code3  population  year emigrated_from_code  count  \\\n",
       "0             Albania   AL   ALB   3286542.0  1990                  GR  40087   \n",
       "1             Albania   AL   ALB   3286542.0  1990                  IT  11287   \n",
       "2             Albania   AL   ALB   3286542.0  1990                  MK    678   \n",
       "3             Albania   AL   ALB   3286542.0  1990               Other   4162   \n",
       "4             Albania   AL   ALB   3286542.0  1990                  TR   2489   \n",
       "...               ...  ...   ...         ...   ...                 ...    ...   \n",
       "12644  United Kingdom   GB   GBR  67081000.0  2020                  SE  35824   \n",
       "12645  United Kingdom   GB   GBR  67081000.0  2020                  SI   3668   \n",
       "12646  United Kingdom   GB   GBR  67081000.0  2020                  SK  72209   \n",
       "12647  United Kingdom   GB   GBR  67081000.0  2020                  TR  97205   \n",
       "12648  United Kingdom   GB   GBR  67081000.0  2020                  UA  22119   \n",
       "\n",
       "       prop_emigrants  \n",
       "0            0.012197  \n",
       "1            0.003434  \n",
       "2            0.000206  \n",
       "3            0.001266  \n",
       "4            0.000757  \n",
       "...               ...  \n",
       "12644        0.000534  \n",
       "12645        0.000055  \n",
       "12646        0.001076  \n",
       "12647        0.001449  \n",
       "12648        0.000330  \n",
       "\n",
       "[12649 rows x 8 columns]"
      ]
     },
     "execution_count": 41,
     "metadata": {},
     "output_type": "execute_result"
    }
   ],
   "source": [
    "df = (df.merge(pop_size, on=['year', 'code3'], how='left')\n",
    "      .assign(prop_emigrants=lambda x: x['count'] / x['population'])\n",
    "      .reindex(columns=['country', 'code', 'code3', 'population', 'year', 'emigrated_from_code', 'count', 'prop_emigrants'])\n",
    "      )"
   ]
  },
  {
   "cell_type": "code",
   "execution_count": 42,
   "metadata": {},
   "outputs": [],
   "source": [
    "# save to csv\n",
    "df.to_csv('data/migration.csv', index=False)"
   ]
  }
 ],
 "metadata": {
  "kernelspec": {
   "display_name": "eurovision",
   "language": "python",
   "name": "python3"
  },
  "language_info": {
   "codemirror_mode": {
    "name": "ipython",
    "version": 3
   },
   "file_extension": ".py",
   "mimetype": "text/x-python",
   "name": "python",
   "nbconvert_exporter": "python",
   "pygments_lexer": "ipython3",
   "version": "3.8.16"
  },
  "orig_nbformat": 4,
  "vscode": {
   "interpreter": {
    "hash": "81985292f2479c0598f4ce542067617073cff00fa38498103a742104f2a9c6ae"
   }
  }
 },
 "nbformat": 4,
 "nbformat_minor": 2
}
