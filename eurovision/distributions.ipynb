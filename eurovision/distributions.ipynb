{
 "cells": [
  {
   "cell_type": "code",
   "execution_count": null,
   "id": "fb9fe385-fffd-4006-824b-e18f3d8f8ea0",
   "metadata": {
    "tags": []
   },
   "outputs": [],
   "source": [
    "# Import the things we need\n",
    "import pandas as pd\n",
    "import matplotlib.pyplot as plt\n",
    "import pickle\n",
    "import numpy as np\n",
    "import stan as pystan\n",
    "import arviz as az\n",
    "import math\n",
    "from IPython.display import Latex\n",
    "\n",
    "import nest_asyncio\n",
    "nest_asyncio.apply()"
   ]
  },
  {
   "cell_type": "code",
   "execution_count": null,
   "id": "cfe1bb2e-9768-43c9-b784-c1286900e362",
   "metadata": {
    "tags": []
   },
   "outputs": [],
   "source": [
    "# Load in the data\n",
    "df = pd.read_csv('../data/eurovision_merged_covariates_03Feb.csv')\n",
    "df.head()"
   ]
  },
  {
   "cell_type": "code",
   "execution_count": null,
   "id": "72f54748-0a4e-4b00-899e-dcb91c275589",
   "metadata": {
    "tags": []
   },
   "outputs": [],
   "source": [
    "# Get the full set of country codes\n",
    "countries = df['From country'].unique()\n",
    "print('Number of countries: {}'.format(len(countries)))"
   ]
  },
  {
   "cell_type": "code",
   "execution_count": null,
   "id": "955fd74a-c236-4488-9652-f642aa02c510",
   "metadata": {
    "tags": []
   },
   "outputs": [],
   "source": [
    "# Load the codes pickle so we can convert to proper names\n",
    "with open('../data/country_codes_dict.pickle', 'rb') as f:\n",
    "    codes = pickle.load(f)\n",
    "# Reverse the keys and values\n",
    "codes = {y: x.title() for x, y in codes.items()}\n",
    "print('Number of codes: {}'.format(len(codes)))"
   ]
  },
  {
   "cell_type": "markdown",
   "id": "eb4c2938-383f-4c8f-a4c7-86e7569ffd3f",
   "metadata": {},
   "source": [
    "Standardise the votes:\n",
    "$$\n",
    "\\alpha^*_{\\text{vp}} = \\frac{\\alpha_{vp} - \\bar{\\alpha}}{s_\\alpha}\n",
    "$$"
   ]
  },
  {
   "cell_type": "code",
   "execution_count": null,
   "id": "1ae42b7f-1100-44f4-b6c7-e29b0696ba27",
   "metadata": {
    "tags": []
   },
   "outputs": [],
   "source": [
    "# Calculate the mean and standard error\n",
    "mean = df['Votes'].mean()\n",
    "se = df['Votes'].std()\n",
    "\n",
    "Latex(f\"\"\"\\\\begin{{align*}}\n",
    "\\\\bar{{\\\\alpha}} &= {mean}, \\\\\\\\\n",
    "s_\\\\alpha &= {se}.\n",
    "\\\\end{{align*}}\n",
    "\"\"\")"
   ]
  },
  {
   "cell_type": "code",
   "execution_count": null,
   "id": "a0e17fb7-5f08-4e07-8fe8-bc7d2a3be010",
   "metadata": {
    "tags": []
   },
   "outputs": [],
   "source": [
    "# Strip out the data we don't need\n",
    "standardised = pd.DataFrame(df, columns=['From country', 'code', 'Votes'])\n",
    "\n",
    "# Insert the alpha* variables\n",
    "standardised['performer'] = df['code']\n",
    "standardised['voter'] = df['From country']\n",
    "standardised['alpha*'] = (df['Votes'] - mean) / se\n",
    "standardised = pd.DataFrame(standardised, columns=['voter', 'performer', 'alpha*'])\n",
    "standardised.head()"
   ]
  },
  {
   "cell_type": "code",
   "execution_count": null,
   "id": "3e0213e3-da79-4793-98ee-f3118a822d68",
   "metadata": {
    "tags": []
   },
   "outputs": [],
   "source": [
    "# Define the stan model\n",
    "\n",
    "# Obviously this is nonsense...\n",
    "\n",
    "code = \"\"\"\n",
    "data {\n",
    "    int<lower=0> J;\n",
    "    real y[J];\n",
    "    real<lower=0> sigma[J];\n",
    "}\n",
    "\n",
    "parameters {\n",
    "    real mu;\n",
    "    real<lower=0> tau;\n",
    "    real theta_tilde[J];\n",
    "}\n",
    "\n",
    "transformed parameters {\n",
    "    real theta[J];\n",
    "    for (j in 1:J)\n",
    "        theta[j] = mu + tau * theta_tilde[j];\n",
    "}\n",
    "\n",
    "model {\n",
    "    mu ~ normal(0, 5);\n",
    "    tau ~ cauchy(0, 5);\n",
    "    theta_tilde ~ normal(0, 1);\n",
    "    y ~ normal(theta, sigma);\n",
    "}\n",
    "\n",
    "generated quantities {\n",
    "    vector[J] log_lik;\n",
    "    vector[J] y_hat;\n",
    "    for (j in 1:J) {\n",
    "        log_lik[j] = normal_lpdf(y[j] | theta[j], sigma[j]);\n",
    "        y_hat[j] = normal_rng(theta[j], sigma[j]);\n",
    "    }\n",
    "}\n",
    "\"\"\""
   ]
  },
  {
   "cell_type": "code",
   "execution_count": null,
   "id": "7d5f8fde-88e0-47f0-b8f5-68553b576377",
   "metadata": {
    "tags": []
   },
   "outputs": [],
   "source": [
    "# Define a function for generating the forest plot\n",
    "def plot_distribution(voter):\n",
    "    # Calculate means and performers that actually received votes (recipients)\n",
    "    recipients = []\n",
    "\n",
    "    means = []\n",
    "    for country in countries:\n",
    "        mean = standardised.loc[(standardised['voter'] == voter) & (standardised['performer'] == country)]['alpha*'].mean()\n",
    "        if not math.isnan(mean):\n",
    "            recipients.append(country)\n",
    "            means.append(mean)\n",
    "    \n",
    "    # Calculate the standard errors\n",
    "    stes = []\n",
    "    for country in recipients:\n",
    "        ste = standardised.loc[(standardised['voter'] == voter) & (standardised['performer'] == country)]['alpha*'].std()\n",
    "        stes.append(ste)\n",
    "    \n",
    "    # Populate the stan data\n",
    "    data = {\n",
    "        \"J\": len(means),\n",
    "        \"y\": np.array(means),\n",
    "        \"sigma\": np.array(stes),\n",
    "    }\n",
    "\n",
    "    # Build and run the stan model\n",
    "    posterior = pystan.build(code, data=data, random_seed=1)\n",
    "    fit = posterior.sample(num_chains=4, num_samples=1000)\n",
    "\n",
    "    # Import the stan model into Arviz\n",
    "    stan_data = az.from_pystan(\n",
    "        posterior=fit,\n",
    "        posterior_predictive=\"y_hat\",\n",
    "        observed_data=[\"y\"],\n",
    "        log_likelihood={\"y\": \"log_lik\"},\n",
    "        coords={\"performer\": [codes[recipient] for recipient in recipients]},\n",
    "        dims={\n",
    "            \"theta\": [\"performer\"],\n",
    "            \"y\": [\"performer\"],\n",
    "            \"log_lik\": [\"performer\"],\n",
    "            \"y_hat\": [\"performer\"],\n",
    "            \"theta_tilde\": [\"performer\"],\n",
    "        },\n",
    "    )\n",
    "\n",
    "    # Render a forest plot of the posterior model\n",
    "    means_order = stan_data.posterior[\"theta\"].mean((\"chain\", \"draw\"))\n",
    "    order = stan_data.posterior[\"performer\"].sortby(means_order)[::-1]\n",
    "\n",
    "    axes = az.plot_forest(stan_data.posterior.sel(performer=order), combined=True, var_names=[\"theta\"], labeller=az.labels.NoVarLabeller(), textsize=8, colors='#323296')\n",
    "    axes[0].set_title('Vote distribution for {}'.format(codes[voter]))\n",
    "    plt.axvline(x=0, color='black', linestyle='--', linewidth=0.5)\n",
    "    plt.axvline(x=1.96, color='black', linestyle=':', linewidth=0.5)\n",
    "    plt.axvline(x=-1.96, color='black', linestyle=':', linewidth=0.5)\n",
    "    plt.show()"
   ]
  },
  {
   "cell_type": "code",
   "execution_count": null,
   "id": "2aaebff2-4f7e-4b99-b15a-e71b06a1bd01",
   "metadata": {
    "tags": []
   },
   "outputs": [],
   "source": [
    "%%capture --no-display\n",
    "\n",
    "# Forest plot for Sweden\n",
    "plot_distribution('SE')"
   ]
  }
 ],
 "metadata": {
  "kernelspec": {
   "display_name": "venv",
   "language": "python",
   "name": "venv"
  },
  "language_info": {
   "codemirror_mode": {
    "name": "ipython",
    "version": 3
   },
   "file_extension": ".py",
   "mimetype": "text/x-python",
   "name": "python",
   "nbconvert_exporter": "python",
   "pygments_lexer": "ipython3",
   "version": "3.11.2"
  }
 },
 "nbformat": 4,
 "nbformat_minor": 5
}
