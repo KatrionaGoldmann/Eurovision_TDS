{
 "cells": [
  {
   "cell_type": "markdown",
   "id": "a2faf0ac-520f-43eb-90d9-cb265fd6bd50",
   "metadata": {
    "tags": []
   },
   "source": [
    "# Scatter Plot\n",
    "\n",
    "Replicating the scatter plot from the [Datalytix blog post](https://www.datalytyx.com/eurovision-song-contest-regression-analysis-highlights-the-voting-patterns/).\n",
    "\n",
    "In the blog post it's explained that:\n",
    "\n",
    "> The plot is calculated using a performing country’s average points and the total points given to a specific country by a voter. The juicy part is the top right quadrant, and a set was created by picking out a selection where the average points received was over 5, and the total points received was over a 100. This removes highlights in the top left quadrant that are yet to become trends, leaving only consistent voting patterns."
   ]
  },
  {
   "cell_type": "code",
   "execution_count": null,
   "id": "0a588762-f74c-44c4-8abd-6bb068b777d7",
   "metadata": {
    "tags": []
   },
   "outputs": [],
   "source": [
    "import pandas as pd\n",
    "import plotly.offline as py\n",
    "import plotly.express as px\n",
    "import matplotlib.pyplot as plt\n",
    "import plotly.graph_objects as go\n",
    "import pickle\n",
    "\n",
    "py.init_notebook_mode(connected=True)"
   ]
  },
  {
   "cell_type": "code",
   "execution_count": null,
   "id": "58eafb2e-e456-4af4-96e9-a83e0e21a6a6",
   "metadata": {
    "tags": []
   },
   "outputs": [],
   "source": [
    "# Load in the data\n",
    "df = pd.read_csv('../data/eurovision_merged_covariates_03Feb.csv')\n",
    "df.head()"
   ]
  },
  {
   "cell_type": "code",
   "execution_count": null,
   "id": "76cd0c91-49fa-428a-9291-614eb2c90fbd",
   "metadata": {
    "tags": []
   },
   "outputs": [],
   "source": [
    "# Get the full set of country codes\n",
    "countries = df['From country'].unique()\n",
    "print('Number of countries: {}'.format(len(countries)))"
   ]
  },
  {
   "cell_type": "code",
   "execution_count": null,
   "id": "28a81a3d-9ade-4cf0-9c14-186afe91142c",
   "metadata": {
    "tags": []
   },
   "outputs": [],
   "source": [
    "# Load the codes pickle so we can convert to proper names\n",
    "with open('../data/country_codes_dict.pickle', 'rb') as f:\n",
    "    codes = pickle.load(f)\n",
    "# Reverse the keys and values\n",
    "codes = {y: x.title() for x, y in codes.items()}\n",
    "print('Number of codes: {}'.format(len(codes)))"
   ]
  },
  {
   "cell_type": "code",
   "execution_count": null,
   "id": "8a8810f6-adab-476e-bdb5-93210df89f18",
   "metadata": {
    "tags": []
   },
   "outputs": [],
   "source": [
    "# Create a new dataframe containing the data for the scatter plot\n",
    "votes = pd.DataFrame({'performer': [], 'voter': [], 'times_competed': [], 'times_voted': [], 'total_points': [], 'average_points': []})\n",
    "\n",
    "# Compare every country with every other country\n",
    "for performer in countries:\n",
    "    times_competed = len(df.loc[df['code'] == performer]['Year'].unique())\n",
    "    for voter in countries:\n",
    "        times_voted = len(df.loc[(df['code'] == performer) & (df['From country'] == voter) & (df['Votes'] > 0)])\n",
    "        total_points = df.loc[(df['code'] == performer) & (df['From country'] == voter)]['Votes'].sum()\n",
    "        average_points = df.loc[(df['code'] == performer) & (df['Votes'] >= 0) & (df['From country'] == voter)]['Votes'].mean()\n",
    "        votes.loc[len(votes)] = [codes[performer], codes[voter], times_competed, times_voted, total_points, average_points]\n",
    "print('Check every country is matched with very other: {}'.format(len(countries)**2 == len(votes)))"
   ]
  },
  {
   "cell_type": "code",
   "execution_count": null,
   "id": "056f625b-9eb5-44ba-951e-1954da74107a",
   "metadata": {
    "tags": []
   },
   "outputs": [],
   "source": [
    "# Render a basic static scatter plot\n",
    "fig = plt.figure(figsize=(8, 8), dpi=90)\n",
    "votes.plot.scatter(x='total_points', y='average_points', alpha=0.5, ax = plt.gca())"
   ]
  },
  {
   "cell_type": "code",
   "execution_count": null,
   "id": "9a0645e0-2dc0-47db-96a6-b7b16339b602",
   "metadata": {
    "tags": []
   },
   "outputs": [],
   "source": [
    "# Render an interactive (hoverable) plot\n",
    "fig = px.scatter(votes, x='total_points', y='average_points')\n",
    "fig.update_traces(hovertemplate='Performer: %{customdata[0]}'\n",
    "                  + '<br>Voter: %{customdata[1]}'\n",
    "                  + '<br>Total Eurovisions competed: %{customdata[2]}'\n",
    "                  + '<br>Total times voted for by selected country: %{customdata[3]}'\n",
    "                  + '<br>Total points given: %{customdata[4]}'\n",
    "                  + '<br>Average points: %{customdata[5]:.2f}',\n",
    "                  customdata=votes,\n",
    "                  marker={'color': 'rgba(50, 50, 150, 0.1)', 'opacity': 0.5, 'size': 6,\n",
    "                          'line': {'color': 'rgba(50, 50, 150, 1.0)', 'width': 1}})\n",
    "fig.update_layout(hoverlabel_align='left', width=640, height=640, margin=dict(l=20, r=20, t=20, b=20),\n",
    "                  xaxis={'title': 'Total voter points given to specific country'},\n",
    "                  yaxis={'title': 'Average points'})\n",
    "fig.show()"
   ]
  },
  {
   "cell_type": "code",
   "execution_count": null,
   "id": "20015a98-a006-44cd-aa24-b6bd7a14d106",
   "metadata": {},
   "outputs": [],
   "source": []
  }
 ],
 "metadata": {
  "kernelspec": {
   "display_name": "venv",
   "language": "python",
   "name": "venv"
  },
  "language_info": {
   "codemirror_mode": {
    "name": "ipython",
    "version": 3
   },
   "file_extension": ".py",
   "mimetype": "text/x-python",
   "name": "python",
   "nbconvert_exporter": "python",
   "pygments_lexer": "ipython3",
   "version": "3.11.2"
  }
 },
 "nbformat": 4,
 "nbformat_minor": 5
}
